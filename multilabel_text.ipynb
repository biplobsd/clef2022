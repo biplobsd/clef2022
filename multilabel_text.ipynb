{
  "cells": [
    {
      "cell_type": "markdown",
      "metadata": {
        "id": "view-in-github",
        "colab_type": "text"
      },
      "source": [
        "<a href=\"https://colab.research.google.com/github/biplobsd/clef2022/blob/main/multilabel_text.ipynb\" target=\"_parent\"><img src=\"https://colab.research.google.com/assets/colab-badge.svg\" alt=\"Open In Colab\"/></a>"
      ]
    },
    {
      "cell_type": "markdown",
      "source": [
        "# **CLef 2022 -  CheckThat!** DIU_SpeedOut\n",
        "Task 3 - Experiment -\n",
        "Fake News Detection\n",
        "<br>\n",
        "AWD_LSTM (Fast.ai)\n",
        "<br><br>\n",
        "\n",
        "\n",
        "Read More : https://sites.google.com/view/clef2022-checkthat/tasks/task-3-fake-news-detection?authuser=0\n",
        "<br>\n",
        "Repo: https://github.com/biplobsd/clef2022\n",
        "<br>\n",
        "Source: https://github.com/muhammadhammadjamil/multilabel_text_classification_using_fastai\n"
      ],
      "metadata": {
        "id": "VM8Nab0M5AkQ"
      }
    },
    {
      "cell_type": "code",
      "execution_count": null,
      "metadata": {
        "id": "OgMNUkNphDZd"
      },
      "outputs": [],
      "source": [
        "# Dataset is Restricted for shearing \n",
        "# Access Request https://zenodo.org/record/6508748\n",
        "# !gdown \n",
        "# !gdown "
      ]
    },
    {
      "cell_type": "code",
      "execution_count": null,
      "metadata": {
        "id": "9XPK3Siw9JuS"
      },
      "outputs": [],
      "source": [
        "from IPython.display import clear_output\n",
        "!pip install fastai==2.6.3\n",
        "clear_output()"
      ]
    },
    {
      "cell_type": "code",
      "execution_count": null,
      "metadata": {
        "colab": {
          "base_uri": "https://localhost:8080/",
          "height": 35
        },
        "id": "fQ6O0I6e9h2k",
        "outputId": "71668db6-3f78-4fe8-d58f-16d06a8422ba"
      },
      "outputs": [
        {
          "output_type": "execute_result",
          "data": {
            "text/plain": [
              "'2.6.3'"
            ],
            "application/vnd.google.colaboratory.intrinsic+json": {
              "type": "string"
            }
          },
          "metadata": {},
          "execution_count": 3
        }
      ],
      "source": [
        "import fastai\n",
        "fastai.__version__"
      ]
    },
    {
      "cell_type": "code",
      "execution_count": null,
      "metadata": {
        "id": "y2ClCNKa9E1t"
      },
      "outputs": [],
      "source": [
        "from fastai.text.all import *\n",
        "import pandas as pd"
      ]
    },
    {
      "cell_type": "code",
      "execution_count": null,
      "metadata": {
        "id": "wS6HX9pC7oVg"
      },
      "outputs": [],
      "source": [
        "import math\n",
        "data_raw = pd.read_csv('combine.csv')\n",
        "data_raw = data_raw.rename(columns={'our rating':'category'})\n",
        "data_raw['category'] = data_raw.category.map({'TRUE': 'true','true':'true', 'FALSE': 'false','false':'false', 'partially false': 'partially false', 'other': 'other'})\n",
        "data_raw['title'] = data_raw['title'].replace(math.nan,' ')\n",
        "data_raw['fullmsg'] = data_raw['title'] + ' ' + data_raw['text']\n",
        "data_raw = data_raw.drop(labels=['public_id','text', 'title'], axis=1)\n",
        "data_raw = data_raw.rename(columns={'fullmsg':'text'})"
      ]
    },
    {
      "cell_type": "code",
      "execution_count": null,
      "metadata": {
        "id": "sbOjM7wyAs5w"
      },
      "outputs": [],
      "source": [
        "data_test = pd.read_csv('English_data_test_release_with_rating.csv')\n",
        "data_test = data_test.rename(columns={'our rating':'category'})\n",
        "data_test['category'] = data_test.category.map({'True': 'true', 'FALSE': 'false','false':'false', 'Partially false': 'partially false', 'Other': 'other'})\n",
        "data_test['title'] = data_test['title'].replace(math.nan,' ')\n",
        "data_test['fullmsg'] = data_test['title'] + ' ' + data_test['text']\n",
        "data_test = data_test.drop(labels=['ID','text', 'title'], axis=1)\n",
        "data_test = data_test.rename(columns={'fullmsg':'text'})"
      ]
    },
    {
      "cell_type": "code",
      "execution_count": null,
      "metadata": {
        "colab": {
          "base_uri": "https://localhost:8080/",
          "height": 1000
        },
        "id": "PXWNx2vGBFhm",
        "outputId": "0017b85b-3c10-4eb2-cc36-7b1063dd7bce"
      },
      "outputs": [
        {
          "output_type": "execute_result",
          "data": {
            "text/plain": [
              "             category  \\\n",
              "0               false   \n",
              "1     partially false   \n",
              "2     partially false   \n",
              "3               false   \n",
              "4               false   \n",
              "...               ...   \n",
              "1259             true   \n",
              "1260             true   \n",
              "1261            false   \n",
              "1262             true   \n",
              "1263             true   \n",
              "\n",
              "                                                                                                                                                                                                                                                                                                                                                                                                                                                                                                                                                                                                                         text  \n",
              "0     You Can Be Fined $1,500 If Your Passenger Is Using A Mobile Phone, Starting Next Week Distracted driving causes more deaths in Canada than impaired driving .It’s why every province and territory has laws against driving while operating a cell phone. “Tell your passengers to stay off their phones while you are driving. Such measures are more than necessary now, as distracted driving has claimed more lives than impaired driving in provinces like British Columbia, Ontario, Quebec, Alberta, Nova Scotia, Manitoba, Newfoundland and Labrador. “Mobile phones, even when held by a passenger, can be ...  \n",
              "1     Missouri lawmakers condemn Las Vegas shooting Missouri politicians have made statements after the mass shooting late Sunday night in Las Vegas.  In a tweet, Republican Senator Roy Blunt said he was saddened by the tragic loss of life and that his thoughts were with the families affected by” this horrific attack”.  Democratic Senator Claire McCaskill issued a statement strongly condemning the action and offering support law enforcement personnel looking into the matter.  “Firing upon a crowd of innocent concert goers is an act of unimaginable evil and my deepest condolences go out to all th...  \n",
              "2     CBC Cuts Donald Trump's 'Home Alone 2' Cameo Out of Broadcast Home Alone 2: Lost in New York is full of violence that, in my opinion, exceeds the physical comedy of the original film and is borderline barbarism. The main antagonists were subjected to bricks thrown at them from atop a building, being shot with a staple gun, having their heads lit afire, and being electrocuted. It is actually hard to watch.  But, for CBC TV in Canada, the following scene was too much, and had to be removed from their broadcast of the film:  That’s right, ComicBook.com reports that CBC edited out Donald Trump...  \n",
              "3     Obama’s Daughters Caught on Camera Burning US Flag at DC Protest – iolgue But things took a turn for the worse when riot police fired tear gas and rubber bullets into the crowd, all to clear the way for President Donald Jebediah Trump to waddle across the street for a photo op in front of a church he doesn’t attend, wave around a copy of a holy book he doesn’t read, and ramble like a psychotic dictator of a country he doesn’t love.  Sasha and Malia had come to the protest equipped with military-grade gas masks, so they were not overcome by the tear gas that crippled so many of their fellow...  \n",
              "4     Leaked Visitor Logs Reveal Schiff’s 78 Visits to Epstein Isle It’s no secret that Epstein and Schiff share a long history of perversion. Last year, it was revealed by the FBI that the two corresponded by email on several occasions, totaling 256 emails. But, according to the latest leak, it goes much deeper than just emails.  The reasons for the visits were not recorded, but based on the emails between the two men, we can assume they were for nefarious reasons.  An FBI insider has leaked the extensive visitor logs to Epstein Isle. Several notable names were mentioned in the log, including B...  \n",
              "...                                                                                                                                                                                                                                                                                                                                                                                                                                                                                                                                                                                                                       ...  \n",
              "1259  Taxman fails to answer four million calls a year, as MPs warn people are not getting the help they need More than four million calls to the taxman are going unanswered, new figures show, as HM Revenue & Customs concedes the problem is almost twice as bad as previously disclosed.  More than one in 10 callers to HMRC fails to get through to anyone, compared with just over one in 20 a year ago, prompting criticism from MPs that the service is letting down millions of self-employed people.  The true scale of the problem is even worse than HMRC is prepared to admit, as its audit ignores taxpaye...  \n",
              "1260  Police catch 11‑year‑olds being used to sell drugs More under-18s are being taken to court for selling cannabis, with prosecutions up by 5.5 per cent over five years  Children as young as 11 are being arrested for dealing cannabis as criminals increasingly use school pupils to distribute drugs, The Times has learnt.  More under-18s are being prosecuted for selling the drug even though the number of adult dealers taken to court is falling, a report has shown.  Sponsored  In a poll of teenage cannabis users a third of them said that the dealers in their area were also under 18.  The Times as...  \n",
              "1261  Help to Buy Isa scandal: 500,000 first-time buyers told scheme cannot be used for initial deposit on homes The Government’s much vaunted Help to Buy Isa was on Friday described as a “scandal” after it emerged that first-time buyers will not be able to use it for an initial deposit on their new home.  More than 500,000 savers have opened the accounts after being told by George Osborne, the former chancellor, that it provided “direct government support” for those saving for a deposit, as a way of getting “Generation Rent” on to the housing ladder.  But on Friday it emerged that a flaw in the...  \n",
              "1262  A coke-snorting generation of hypocrites The late Robin Williams once called cocaine “God’s way of telling you you’re making too much money”. The rich man’s drug is now cheaper and use is rising. Last week Home Office figures revealed that cocaine use among young people is at its highest level for a decade. Nearly 9 per cent of 16 to 24-year-olds had used Class A drugs in the past 12 months. Britain has the highest rate of cocaine use among young adults in Europe, their consumption being almost double that of other nations on the continent.  Young people doing drugs may not cause you to fa...  \n",
              "1263  A coke-snorting generation of hypocrites The late Robin Williams once called cocaine “God’s way of telling you you’re making too much money”. The rich man’s drug is now cheaper and use is rising. Last week Home Office figures revealed that cocaine use among young people is at its highest level for a decade. Nearly 9 per cent of 16 to 24-year-olds had used Class A drugs in the past 12 months. Britain has the highest rate of cocaine use among young adults in Europe, their consumption being almost double that of other nations on the continent.  Young people doing drugs may not cause you to fa...  \n",
              "\n",
              "[1264 rows x 2 columns]"
            ],
            "text/html": [
              "\n",
              "  <div id=\"df-e032e61d-5bfd-4855-932e-4760fff089ff\">\n",
              "    <div class=\"colab-df-container\">\n",
              "      <div>\n",
              "<style scoped>\n",
              "    .dataframe tbody tr th:only-of-type {\n",
              "        vertical-align: middle;\n",
              "    }\n",
              "\n",
              "    .dataframe tbody tr th {\n",
              "        vertical-align: top;\n",
              "    }\n",
              "\n",
              "    .dataframe thead th {\n",
              "        text-align: right;\n",
              "    }\n",
              "</style>\n",
              "<table border=\"1\" class=\"dataframe\">\n",
              "  <thead>\n",
              "    <tr style=\"text-align: right;\">\n",
              "      <th></th>\n",
              "      <th>category</th>\n",
              "      <th>text</th>\n",
              "    </tr>\n",
              "  </thead>\n",
              "  <tbody>\n",
              "    <tr>\n",
              "      <th>0</th>\n",
              "      <td>false</td>\n",
              "      <td>You Can Be Fined $1,500 If Your Passenger Is Using A Mobile Phone, Starting Next Week Distracted driving causes more deaths in Canada than impaired driving .It’s why every province and territory has laws against driving while operating a cell phone. “Tell your passengers to stay off their phones while you are driving. Such measures are more than necessary now, as distracted driving has claimed more lives than impaired driving in provinces like British Columbia, Ontario, Quebec, Alberta, Nova Scotia, Manitoba, Newfoundland and Labrador. “Mobile phones, even when held by a passenger, can be ...</td>\n",
              "    </tr>\n",
              "    <tr>\n",
              "      <th>1</th>\n",
              "      <td>partially false</td>\n",
              "      <td>Missouri lawmakers condemn Las Vegas shooting Missouri politicians have made statements after the mass shooting late Sunday night in Las Vegas.  In a tweet, Republican Senator Roy Blunt said he was saddened by the tragic loss of life and that his thoughts were with the families affected by” this horrific attack”.  Democratic Senator Claire McCaskill issued a statement strongly condemning the action and offering support law enforcement personnel looking into the matter.  “Firing upon a crowd of innocent concert goers is an act of unimaginable evil and my deepest condolences go out to all th...</td>\n",
              "    </tr>\n",
              "    <tr>\n",
              "      <th>2</th>\n",
              "      <td>partially false</td>\n",
              "      <td>CBC Cuts Donald Trump's 'Home Alone 2' Cameo Out of Broadcast Home Alone 2: Lost in New York is full of violence that, in my opinion, exceeds the physical comedy of the original film and is borderline barbarism. The main antagonists were subjected to bricks thrown at them from atop a building, being shot with a staple gun, having their heads lit afire, and being electrocuted. It is actually hard to watch.  But, for CBC TV in Canada, the following scene was too much, and had to be removed from their broadcast of the film:  That’s right, ComicBook.com reports that CBC edited out Donald Trump...</td>\n",
              "    </tr>\n",
              "    <tr>\n",
              "      <th>3</th>\n",
              "      <td>false</td>\n",
              "      <td>Obama’s Daughters Caught on Camera Burning US Flag at DC Protest – iolgue But things took a turn for the worse when riot police fired tear gas and rubber bullets into the crowd, all to clear the way for President Donald Jebediah Trump to waddle across the street for a photo op in front of a church he doesn’t attend, wave around a copy of a holy book he doesn’t read, and ramble like a psychotic dictator of a country he doesn’t love.  Sasha and Malia had come to the protest equipped with military-grade gas masks, so they were not overcome by the tear gas that crippled so many of their fellow...</td>\n",
              "    </tr>\n",
              "    <tr>\n",
              "      <th>4</th>\n",
              "      <td>false</td>\n",
              "      <td>Leaked Visitor Logs Reveal Schiff’s 78 Visits to Epstein Isle It’s no secret that Epstein and Schiff share a long history of perversion. Last year, it was revealed by the FBI that the two corresponded by email on several occasions, totaling 256 emails. But, according to the latest leak, it goes much deeper than just emails.  The reasons for the visits were not recorded, but based on the emails between the two men, we can assume they were for nefarious reasons.  An FBI insider has leaked the extensive visitor logs to Epstein Isle. Several notable names were mentioned in the log, including B...</td>\n",
              "    </tr>\n",
              "    <tr>\n",
              "      <th>...</th>\n",
              "      <td>...</td>\n",
              "      <td>...</td>\n",
              "    </tr>\n",
              "    <tr>\n",
              "      <th>1259</th>\n",
              "      <td>true</td>\n",
              "      <td>Taxman fails to answer four million calls a year, as MPs warn people are not getting the help they need More than four million calls to the taxman are going unanswered, new figures show, as HM Revenue &amp; Customs concedes the problem is almost twice as bad as previously disclosed.  More than one in 10 callers to HMRC fails to get through to anyone, compared with just over one in 20 a year ago, prompting criticism from MPs that the service is letting down millions of self-employed people.  The true scale of the problem is even worse than HMRC is prepared to admit, as its audit ignores taxpaye...</td>\n",
              "    </tr>\n",
              "    <tr>\n",
              "      <th>1260</th>\n",
              "      <td>true</td>\n",
              "      <td>Police catch 11‑year‑olds being used to sell drugs More under-18s are being taken to court for selling cannabis, with prosecutions up by 5.5 per cent over five years  Children as young as 11 are being arrested for dealing cannabis as criminals increasingly use school pupils to distribute drugs, The Times has learnt.  More under-18s are being prosecuted for selling the drug even though the number of adult dealers taken to court is falling, a report has shown.  Sponsored  In a poll of teenage cannabis users a third of them said that the dealers in their area were also under 18.  The Times as...</td>\n",
              "    </tr>\n",
              "    <tr>\n",
              "      <th>1261</th>\n",
              "      <td>false</td>\n",
              "      <td>Help to Buy Isa scandal: 500,000 first-time buyers told scheme cannot be used for initial deposit on homes The Government’s much vaunted Help to Buy Isa was on Friday described as a “scandal” after it emerged that first-time buyers will not be able to use it for an initial deposit on their new home.  More than 500,000 savers have opened the accounts after being told by George Osborne, the former chancellor, that it provided “direct government support” for those saving for a deposit, as a way of getting “Generation Rent” on to the housing ladder.  But on Friday it emerged that a flaw in the...</td>\n",
              "    </tr>\n",
              "    <tr>\n",
              "      <th>1262</th>\n",
              "      <td>true</td>\n",
              "      <td>A coke-snorting generation of hypocrites The late Robin Williams once called cocaine “God’s way of telling you you’re making too much money”. The rich man’s drug is now cheaper and use is rising. Last week Home Office figures revealed that cocaine use among young people is at its highest level for a decade. Nearly 9 per cent of 16 to 24-year-olds had used Class A drugs in the past 12 months. Britain has the highest rate of cocaine use among young adults in Europe, their consumption being almost double that of other nations on the continent.  Young people doing drugs may not cause you to fa...</td>\n",
              "    </tr>\n",
              "    <tr>\n",
              "      <th>1263</th>\n",
              "      <td>true</td>\n",
              "      <td>A coke-snorting generation of hypocrites The late Robin Williams once called cocaine “God’s way of telling you you’re making too much money”. The rich man’s drug is now cheaper and use is rising. Last week Home Office figures revealed that cocaine use among young people is at its highest level for a decade. Nearly 9 per cent of 16 to 24-year-olds had used Class A drugs in the past 12 months. Britain has the highest rate of cocaine use among young adults in Europe, their consumption being almost double that of other nations on the continent.  Young people doing drugs may not cause you to fa...</td>\n",
              "    </tr>\n",
              "  </tbody>\n",
              "</table>\n",
              "<p>1264 rows × 2 columns</p>\n",
              "</div>\n",
              "      <button class=\"colab-df-convert\" onclick=\"convertToInteractive('df-e032e61d-5bfd-4855-932e-4760fff089ff')\"\n",
              "              title=\"Convert this dataframe to an interactive table.\"\n",
              "              style=\"display:none;\">\n",
              "        \n",
              "  <svg xmlns=\"http://www.w3.org/2000/svg\" height=\"24px\"viewBox=\"0 0 24 24\"\n",
              "       width=\"24px\">\n",
              "    <path d=\"M0 0h24v24H0V0z\" fill=\"none\"/>\n",
              "    <path d=\"M18.56 5.44l.94 2.06.94-2.06 2.06-.94-2.06-.94-.94-2.06-.94 2.06-2.06.94zm-11 1L8.5 8.5l.94-2.06 2.06-.94-2.06-.94L8.5 2.5l-.94 2.06-2.06.94zm10 10l.94 2.06.94-2.06 2.06-.94-2.06-.94-.94-2.06-.94 2.06-2.06.94z\"/><path d=\"M17.41 7.96l-1.37-1.37c-.4-.4-.92-.59-1.43-.59-.52 0-1.04.2-1.43.59L10.3 9.45l-7.72 7.72c-.78.78-.78 2.05 0 2.83L4 21.41c.39.39.9.59 1.41.59.51 0 1.02-.2 1.41-.59l7.78-7.78 2.81-2.81c.8-.78.8-2.07 0-2.86zM5.41 20L4 18.59l7.72-7.72 1.47 1.35L5.41 20z\"/>\n",
              "  </svg>\n",
              "      </button>\n",
              "      \n",
              "  <style>\n",
              "    .colab-df-container {\n",
              "      display:flex;\n",
              "      flex-wrap:wrap;\n",
              "      gap: 12px;\n",
              "    }\n",
              "\n",
              "    .colab-df-convert {\n",
              "      background-color: #E8F0FE;\n",
              "      border: none;\n",
              "      border-radius: 50%;\n",
              "      cursor: pointer;\n",
              "      display: none;\n",
              "      fill: #1967D2;\n",
              "      height: 32px;\n",
              "      padding: 0 0 0 0;\n",
              "      width: 32px;\n",
              "    }\n",
              "\n",
              "    .colab-df-convert:hover {\n",
              "      background-color: #E2EBFA;\n",
              "      box-shadow: 0px 1px 2px rgba(60, 64, 67, 0.3), 0px 1px 3px 1px rgba(60, 64, 67, 0.15);\n",
              "      fill: #174EA6;\n",
              "    }\n",
              "\n",
              "    [theme=dark] .colab-df-convert {\n",
              "      background-color: #3B4455;\n",
              "      fill: #D2E3FC;\n",
              "    }\n",
              "\n",
              "    [theme=dark] .colab-df-convert:hover {\n",
              "      background-color: #434B5C;\n",
              "      box-shadow: 0px 1px 3px 1px rgba(0, 0, 0, 0.15);\n",
              "      filter: drop-shadow(0px 1px 2px rgba(0, 0, 0, 0.3));\n",
              "      fill: #FFFFFF;\n",
              "    }\n",
              "  </style>\n",
              "\n",
              "      <script>\n",
              "        const buttonEl =\n",
              "          document.querySelector('#df-e032e61d-5bfd-4855-932e-4760fff089ff button.colab-df-convert');\n",
              "        buttonEl.style.display =\n",
              "          google.colab.kernel.accessAllowed ? 'block' : 'none';\n",
              "\n",
              "        async function convertToInteractive(key) {\n",
              "          const element = document.querySelector('#df-e032e61d-5bfd-4855-932e-4760fff089ff');\n",
              "          const dataTable =\n",
              "            await google.colab.kernel.invokeFunction('convertToInteractive',\n",
              "                                                     [key], {});\n",
              "          if (!dataTable) return;\n",
              "\n",
              "          const docLinkHtml = 'Like what you see? Visit the ' +\n",
              "            '<a target=\"_blank\" href=https://colab.research.google.com/notebooks/data_table.ipynb>data table notebook</a>'\n",
              "            + ' to learn more about interactive tables.';\n",
              "          element.innerHTML = '';\n",
              "          dataTable['output_type'] = 'display_data';\n",
              "          await google.colab.output.renderOutput(dataTable, element);\n",
              "          const docLink = document.createElement('div');\n",
              "          docLink.innerHTML = docLinkHtml;\n",
              "          element.appendChild(docLink);\n",
              "        }\n",
              "      </script>\n",
              "    </div>\n",
              "  </div>\n",
              "  "
            ]
          },
          "metadata": {},
          "execution_count": 8
        }
      ],
      "source": [
        "data_raw"
      ]
    },
    {
      "cell_type": "code",
      "source": [
        "data_test"
      ],
      "metadata": {
        "colab": {
          "base_uri": "https://localhost:8080/",
          "height": 1000
        },
        "id": "F1kDibojMJup",
        "outputId": "b322fa71-849e-4d78-c0b5-069c64dba2bd"
      },
      "execution_count": null,
      "outputs": [
        {
          "output_type": "execute_result",
          "data": {
            "text/plain": [
              "            category  \\\n",
              "0    partially false   \n",
              "1              other   \n",
              "2              false   \n",
              "3              false   \n",
              "4              false   \n",
              "..               ...   \n",
              "607            false   \n",
              "608            other   \n",
              "609             true   \n",
              "610            false   \n",
              "611             true   \n",
              "\n",
              "                                                                                                                                                                                                                                                                                                                                                                                                                                                                                                                                                                                                                        text  \n",
              "0    US Treasury deputy sec warns that shortages likely to continue until EVERYONE is jabbed The deputy secretary at the US Treasury has said that the only way to end the plague of empty shelves and high prices around the country is for every person in the world to be vaccinated.  In an interview to ABC on Thursday, Wally Adeyemo, the Biden administration’s second-highest official in the Treasury Department, has commented on the ongoing shortages of consumer goods that have led many to mock the president as ‘Empty Shelves Joe’.  Despite viral photos depicting thousands of cargo ships lined up a...  \n",
              "1    CNN Praises Taliban For Wearing Masks During Attack KABUL—Approximately twelve minutes after U.S. troops withdrew from Afghanistan, Taliban fighters have completely taken over the entire country.  \"Woah, that's a bummer,\" said the Biden Administration's foreign policy team. \"We didn't see that one coming.\"  As the Taliban began its campaign of shooting and killing, as is their time-honored tradition, CNN anchors gushed with praise after noticing all the Taliban fighters were responsibly wearing masks to protect themselves and others from COVID.  \"Wow! In the midst of the battle and bloodsh...  \n",
              "2    Tennessee Has Just LEGALIZED Government COVID Kidnappings! – The Daily Allegiant The vast majority of (oblivious) Americans have dismissed all this as a “conspiracy theory,” and now they’re shocked and frightened by the realization that covid internment camps are being actively deployed across America.  On Friday, Tennessee Gov. Bill Lee signed Executive Order 83, which authorizes National Guard and State Guard troops to break into peoples’ homes, kidnap them at gunpoint, and take them to covid internment camps, all without any due process or respect for civil rights. Individuals can be ta...  \n",
              "3    MEDICAL SHOCKER: Scientists at Sloan Kettering discover mRNA inactivates tumor-suppressing proteins, meaning it can promote cancer (Natural News) There’s a secret layer of information in your cells called messenger RNA, that’s located between DNA and proteins, that serves as a critical link. Now, in a medical shocker to the whole world of vaccine philosophy, scientists at Sloan Kettering found that mRNA itself carries cancer CAUSING changes – changes that genetic tests don’t even analyze, flying completely under the radar of oncologists across the globe.  So now, it’s time for independent ...  \n",
              "4    Study Results: Facemasks are Ineffective to Block Transmission of COVID-19 and Actually Can Cause Health Deterioration and Premature Death A recent study reported by the NCBI, which is under the National Institutes of Health, showed that masks do absolutely nothing to help prevent the spread of COVID-19 and their use is even harmful.  NIH published a medical hypothesis by Dr. Baruch Vainshelboim.  NOQ Report uncovered the study:  …a DuckDuckGo search reveals it [the study] was picked up by ZERO mainstream media outlets and Big Tech tyrants will suspend people who post it, as political stra...  \n",
              "..                                                                                                                                                                                                                                                                                                                                                                                                                                                                                                                                                                                                                       ...  \n",
              "607  ‘From October 20, the Covid pass and vaccination will be abolished on the entire territory of the EU’ – French Doctor DISTRIBUTE TO EVERYONE who does not want to be “vaccinated”.  All vaccines will no longer be justified from 20.10.2021: verified information.  https://ec.europa.eu/commission/presscorner/detail/fr/ip_21_3299 The European Union has approved () 5 therapies that will be available in all hospitals in the Member States for the treatment of Covid.  These therapies have been approved by a decree of the European Council (European Parliament) and will be in force from 1/10, so they ...  \n",
              "608  Bill Gates' Former Doctor Says He 'Refused To Vaccinate' His Own Children The physician who served as Bill Gates’ private doctor in Seattle in the 1990s says the Microsoft founder and vaccine proponent “refused to vaccinate his own children” when they were young.  “I don’t know if he had them vaccinated as adults, but I can tell you he point blank refused to vaccinate them as children,” the physician said at a behind closed doors medical symposium in Seattle, adding “They were gorgeous kids, really smart and vivacious, and he said they would be OK as it was, they didn’t need any shots.“  T...  \n",
              "609  Quebec’s expansion of COVID-19 vaccine passports to liquor, pot stores likely sound, legal experts say A customer leaves an SAQ outlet on Jan. 6, the same day the Quebec government announced that vaccine passports will be required to enter all government liquor stores and cannabis outlets as of Jan. 18.Ryan Remiorz/The Canadian Press  Legal experts say Quebec’s plan to expand its vaccine passport requirement to include cannabis and liquor stores is likely legally sound, but may still face challenges from groups opposed to vaccine mandates.  Quebec’s government announced on Thursday that pr...  \n",
              "610  ALERT: Luc Montagnier Did NOT Say Vaccine Would Kill People in Two Years Vaccine coercion activists are using the fake statement attributed to Prof. Luc Montagnier to discredit his valid scientific observations about the vaccine being the root cause of the variants.  Lies about French Virologist Luc Montagnier have been circulating online after an article posted at RAIR Foundation USA went viral. Social media activists are spreading a vicious rumor that the Nobel Laureate claimed those who take the coronavirus vaccine will be dead in two years.  The outright misrepresentation of Prof. Mont...  \n",
              "611  Quebec’s cannabis, liquor stores to require coronavirus vaccination proof Placeholder while article actions load  Quebec will require people to show proof of coronavirus vaccination when entering government-run stores selling cannabis or alcohol, the region’s health minister, Christian Dubé, said Thursday, as part of broader efforts to reduce covid-19 patients in the province. Are you on Telegram? Subscribe to our channel for the latest updates on Russia's war in Ukraine. ArrowRight The move comes as Quebec, like other population centers in Canada and the United States, is seeing case coun...  \n",
              "\n",
              "[612 rows x 2 columns]"
            ],
            "text/html": [
              "\n",
              "  <div id=\"df-6493ee04-84c4-4aef-917f-ef3e0d89ca8c\">\n",
              "    <div class=\"colab-df-container\">\n",
              "      <div>\n",
              "<style scoped>\n",
              "    .dataframe tbody tr th:only-of-type {\n",
              "        vertical-align: middle;\n",
              "    }\n",
              "\n",
              "    .dataframe tbody tr th {\n",
              "        vertical-align: top;\n",
              "    }\n",
              "\n",
              "    .dataframe thead th {\n",
              "        text-align: right;\n",
              "    }\n",
              "</style>\n",
              "<table border=\"1\" class=\"dataframe\">\n",
              "  <thead>\n",
              "    <tr style=\"text-align: right;\">\n",
              "      <th></th>\n",
              "      <th>category</th>\n",
              "      <th>text</th>\n",
              "    </tr>\n",
              "  </thead>\n",
              "  <tbody>\n",
              "    <tr>\n",
              "      <th>0</th>\n",
              "      <td>partially false</td>\n",
              "      <td>US Treasury deputy sec warns that shortages likely to continue until EVERYONE is jabbed The deputy secretary at the US Treasury has said that the only way to end the plague of empty shelves and high prices around the country is for every person in the world to be vaccinated.  In an interview to ABC on Thursday, Wally Adeyemo, the Biden administration’s second-highest official in the Treasury Department, has commented on the ongoing shortages of consumer goods that have led many to mock the president as ‘Empty Shelves Joe’.  Despite viral photos depicting thousands of cargo ships lined up a...</td>\n",
              "    </tr>\n",
              "    <tr>\n",
              "      <th>1</th>\n",
              "      <td>other</td>\n",
              "      <td>CNN Praises Taliban For Wearing Masks During Attack KABUL—Approximately twelve minutes after U.S. troops withdrew from Afghanistan, Taliban fighters have completely taken over the entire country.  \"Woah, that's a bummer,\" said the Biden Administration's foreign policy team. \"We didn't see that one coming.\"  As the Taliban began its campaign of shooting and killing, as is their time-honored tradition, CNN anchors gushed with praise after noticing all the Taliban fighters were responsibly wearing masks to protect themselves and others from COVID.  \"Wow! In the midst of the battle and bloodsh...</td>\n",
              "    </tr>\n",
              "    <tr>\n",
              "      <th>2</th>\n",
              "      <td>false</td>\n",
              "      <td>Tennessee Has Just LEGALIZED Government COVID Kidnappings! – The Daily Allegiant The vast majority of (oblivious) Americans have dismissed all this as a “conspiracy theory,” and now they’re shocked and frightened by the realization that covid internment camps are being actively deployed across America.  On Friday, Tennessee Gov. Bill Lee signed Executive Order 83, which authorizes National Guard and State Guard troops to break into peoples’ homes, kidnap them at gunpoint, and take them to covid internment camps, all without any due process or respect for civil rights. Individuals can be ta...</td>\n",
              "    </tr>\n",
              "    <tr>\n",
              "      <th>3</th>\n",
              "      <td>false</td>\n",
              "      <td>MEDICAL SHOCKER: Scientists at Sloan Kettering discover mRNA inactivates tumor-suppressing proteins, meaning it can promote cancer (Natural News) There’s a secret layer of information in your cells called messenger RNA, that’s located between DNA and proteins, that serves as a critical link. Now, in a medical shocker to the whole world of vaccine philosophy, scientists at Sloan Kettering found that mRNA itself carries cancer CAUSING changes – changes that genetic tests don’t even analyze, flying completely under the radar of oncologists across the globe.  So now, it’s time for independent ...</td>\n",
              "    </tr>\n",
              "    <tr>\n",
              "      <th>4</th>\n",
              "      <td>false</td>\n",
              "      <td>Study Results: Facemasks are Ineffective to Block Transmission of COVID-19 and Actually Can Cause Health Deterioration and Premature Death A recent study reported by the NCBI, which is under the National Institutes of Health, showed that masks do absolutely nothing to help prevent the spread of COVID-19 and their use is even harmful.  NIH published a medical hypothesis by Dr. Baruch Vainshelboim.  NOQ Report uncovered the study:  …a DuckDuckGo search reveals it [the study] was picked up by ZERO mainstream media outlets and Big Tech tyrants will suspend people who post it, as political stra...</td>\n",
              "    </tr>\n",
              "    <tr>\n",
              "      <th>...</th>\n",
              "      <td>...</td>\n",
              "      <td>...</td>\n",
              "    </tr>\n",
              "    <tr>\n",
              "      <th>607</th>\n",
              "      <td>false</td>\n",
              "      <td>‘From October 20, the Covid pass and vaccination will be abolished on the entire territory of the EU’ – French Doctor DISTRIBUTE TO EVERYONE who does not want to be “vaccinated”.  All vaccines will no longer be justified from 20.10.2021: verified information.  https://ec.europa.eu/commission/presscorner/detail/fr/ip_21_3299 The European Union has approved () 5 therapies that will be available in all hospitals in the Member States for the treatment of Covid.  These therapies have been approved by a decree of the European Council (European Parliament) and will be in force from 1/10, so they ...</td>\n",
              "    </tr>\n",
              "    <tr>\n",
              "      <th>608</th>\n",
              "      <td>other</td>\n",
              "      <td>Bill Gates' Former Doctor Says He 'Refused To Vaccinate' His Own Children The physician who served as Bill Gates’ private doctor in Seattle in the 1990s says the Microsoft founder and vaccine proponent “refused to vaccinate his own children” when they were young.  “I don’t know if he had them vaccinated as adults, but I can tell you he point blank refused to vaccinate them as children,” the physician said at a behind closed doors medical symposium in Seattle, adding “They were gorgeous kids, really smart and vivacious, and he said they would be OK as it was, they didn’t need any shots.“  T...</td>\n",
              "    </tr>\n",
              "    <tr>\n",
              "      <th>609</th>\n",
              "      <td>true</td>\n",
              "      <td>Quebec’s expansion of COVID-19 vaccine passports to liquor, pot stores likely sound, legal experts say A customer leaves an SAQ outlet on Jan. 6, the same day the Quebec government announced that vaccine passports will be required to enter all government liquor stores and cannabis outlets as of Jan. 18.Ryan Remiorz/The Canadian Press  Legal experts say Quebec’s plan to expand its vaccine passport requirement to include cannabis and liquor stores is likely legally sound, but may still face challenges from groups opposed to vaccine mandates.  Quebec’s government announced on Thursday that pr...</td>\n",
              "    </tr>\n",
              "    <tr>\n",
              "      <th>610</th>\n",
              "      <td>false</td>\n",
              "      <td>ALERT: Luc Montagnier Did NOT Say Vaccine Would Kill People in Two Years Vaccine coercion activists are using the fake statement attributed to Prof. Luc Montagnier to discredit his valid scientific observations about the vaccine being the root cause of the variants.  Lies about French Virologist Luc Montagnier have been circulating online after an article posted at RAIR Foundation USA went viral. Social media activists are spreading a vicious rumor that the Nobel Laureate claimed those who take the coronavirus vaccine will be dead in two years.  The outright misrepresentation of Prof. Mont...</td>\n",
              "    </tr>\n",
              "    <tr>\n",
              "      <th>611</th>\n",
              "      <td>true</td>\n",
              "      <td>Quebec’s cannabis, liquor stores to require coronavirus vaccination proof Placeholder while article actions load  Quebec will require people to show proof of coronavirus vaccination when entering government-run stores selling cannabis or alcohol, the region’s health minister, Christian Dubé, said Thursday, as part of broader efforts to reduce covid-19 patients in the province. Are you on Telegram? Subscribe to our channel for the latest updates on Russia's war in Ukraine. ArrowRight The move comes as Quebec, like other population centers in Canada and the United States, is seeing case coun...</td>\n",
              "    </tr>\n",
              "  </tbody>\n",
              "</table>\n",
              "<p>612 rows × 2 columns</p>\n",
              "</div>\n",
              "      <button class=\"colab-df-convert\" onclick=\"convertToInteractive('df-6493ee04-84c4-4aef-917f-ef3e0d89ca8c')\"\n",
              "              title=\"Convert this dataframe to an interactive table.\"\n",
              "              style=\"display:none;\">\n",
              "        \n",
              "  <svg xmlns=\"http://www.w3.org/2000/svg\" height=\"24px\"viewBox=\"0 0 24 24\"\n",
              "       width=\"24px\">\n",
              "    <path d=\"M0 0h24v24H0V0z\" fill=\"none\"/>\n",
              "    <path d=\"M18.56 5.44l.94 2.06.94-2.06 2.06-.94-2.06-.94-.94-2.06-.94 2.06-2.06.94zm-11 1L8.5 8.5l.94-2.06 2.06-.94-2.06-.94L8.5 2.5l-.94 2.06-2.06.94zm10 10l.94 2.06.94-2.06 2.06-.94-2.06-.94-.94-2.06-.94 2.06-2.06.94z\"/><path d=\"M17.41 7.96l-1.37-1.37c-.4-.4-.92-.59-1.43-.59-.52 0-1.04.2-1.43.59L10.3 9.45l-7.72 7.72c-.78.78-.78 2.05 0 2.83L4 21.41c.39.39.9.59 1.41.59.51 0 1.02-.2 1.41-.59l7.78-7.78 2.81-2.81c.8-.78.8-2.07 0-2.86zM5.41 20L4 18.59l7.72-7.72 1.47 1.35L5.41 20z\"/>\n",
              "  </svg>\n",
              "      </button>\n",
              "      \n",
              "  <style>\n",
              "    .colab-df-container {\n",
              "      display:flex;\n",
              "      flex-wrap:wrap;\n",
              "      gap: 12px;\n",
              "    }\n",
              "\n",
              "    .colab-df-convert {\n",
              "      background-color: #E8F0FE;\n",
              "      border: none;\n",
              "      border-radius: 50%;\n",
              "      cursor: pointer;\n",
              "      display: none;\n",
              "      fill: #1967D2;\n",
              "      height: 32px;\n",
              "      padding: 0 0 0 0;\n",
              "      width: 32px;\n",
              "    }\n",
              "\n",
              "    .colab-df-convert:hover {\n",
              "      background-color: #E2EBFA;\n",
              "      box-shadow: 0px 1px 2px rgba(60, 64, 67, 0.3), 0px 1px 3px 1px rgba(60, 64, 67, 0.15);\n",
              "      fill: #174EA6;\n",
              "    }\n",
              "\n",
              "    [theme=dark] .colab-df-convert {\n",
              "      background-color: #3B4455;\n",
              "      fill: #D2E3FC;\n",
              "    }\n",
              "\n",
              "    [theme=dark] .colab-df-convert:hover {\n",
              "      background-color: #434B5C;\n",
              "      box-shadow: 0px 1px 3px 1px rgba(0, 0, 0, 0.15);\n",
              "      filter: drop-shadow(0px 1px 2px rgba(0, 0, 0, 0.3));\n",
              "      fill: #FFFFFF;\n",
              "    }\n",
              "  </style>\n",
              "\n",
              "      <script>\n",
              "        const buttonEl =\n",
              "          document.querySelector('#df-6493ee04-84c4-4aef-917f-ef3e0d89ca8c button.colab-df-convert');\n",
              "        buttonEl.style.display =\n",
              "          google.colab.kernel.accessAllowed ? 'block' : 'none';\n",
              "\n",
              "        async function convertToInteractive(key) {\n",
              "          const element = document.querySelector('#df-6493ee04-84c4-4aef-917f-ef3e0d89ca8c');\n",
              "          const dataTable =\n",
              "            await google.colab.kernel.invokeFunction('convertToInteractive',\n",
              "                                                     [key], {});\n",
              "          if (!dataTable) return;\n",
              "\n",
              "          const docLinkHtml = 'Like what you see? Visit the ' +\n",
              "            '<a target=\"_blank\" href=https://colab.research.google.com/notebooks/data_table.ipynb>data table notebook</a>'\n",
              "            + ' to learn more about interactive tables.';\n",
              "          element.innerHTML = '';\n",
              "          dataTable['output_type'] = 'display_data';\n",
              "          await google.colab.output.renderOutput(dataTable, element);\n",
              "          const docLink = document.createElement('div');\n",
              "          docLink.innerHTML = docLinkHtml;\n",
              "          element.appendChild(docLink);\n",
              "        }\n",
              "      </script>\n",
              "    </div>\n",
              "  </div>\n",
              "  "
            ]
          },
          "metadata": {},
          "execution_count": 9
        }
      ]
    },
    {
      "cell_type": "code",
      "execution_count": null,
      "metadata": {
        "id": "OCif_gCViC1I"
      },
      "outputs": [],
      "source": [
        "dls = data_raw"
      ]
    },
    {
      "cell_type": "code",
      "execution_count": null,
      "metadata": {
        "colab": {
          "base_uri": "https://localhost:8080/",
          "height": 17
        },
        "id": "dUa2FkXVB0wf",
        "outputId": "b7328b2c-fed8-4b63-fc1a-5ddf16a157d3"
      },
      "outputs": [
        {
          "output_type": "display_data",
          "data": {
            "text/plain": [
              "<IPython.core.display.HTML object>"
            ],
            "text/html": [
              "\n",
              "<style>\n",
              "    /* Turns off some styling */\n",
              "    progress {\n",
              "        /* gets rid of default border in Firefox and Opera. */\n",
              "        border: none;\n",
              "        /* Needs to be in here for Safari polyfill so background images work as expected. */\n",
              "        background-size: auto;\n",
              "    }\n",
              "    .progress-bar-interrupted, .progress-bar-interrupted::-webkit-progress-bar {\n",
              "        background: #F44336;\n",
              "    }\n",
              "</style>\n"
            ]
          },
          "metadata": {}
        },
        {
          "output_type": "display_data",
          "data": {
            "text/plain": [
              "<IPython.core.display.HTML object>"
            ],
            "text/html": [
              ""
            ]
          },
          "metadata": {}
        }
      ],
      "source": [
        "dls.insert(0, 'text', dls.pop('text'))\n",
        "dls = dls.rename(columns={'text':'Text', 'category': 'Category'})\n",
        "dls.to_csv('justTextCategory.csv', index=False)\n",
        "dls = TextDataLoaders.from_csv(path='/content/', csv_fname='justTextCategory.csv', text_col='Text', label_col='Category',bs=32)"
      ]
    },
    {
      "cell_type": "code",
      "source": [
        "dls_test = data_test"
      ],
      "metadata": {
        "id": "rmhPZMclMWE4"
      },
      "execution_count": null,
      "outputs": []
    },
    {
      "cell_type": "code",
      "source": [
        "dls_test.insert(0, 'text', dls_test.pop('text'))\n",
        "dls_test = dls_test.rename(columns={'text':'Text', 'category': 'Category'})\n",
        "dls_test.to_csv('justTextCategory_test.csv', index=False)\n",
        "dls_test = TextDataLoaders.from_csv(path='/content/', csv_fname='justTextCategory_test.csv', text_col='Text', label_col='Category',bs=32)"
      ],
      "metadata": {
        "colab": {
          "base_uri": "https://localhost:8080/",
          "height": 17
        },
        "id": "9kWkXpviMZra",
        "outputId": "da56b0e4-eff4-45cf-c2eb-f9ed40c7637e"
      },
      "execution_count": null,
      "outputs": [
        {
          "output_type": "display_data",
          "data": {
            "text/plain": [
              "<IPython.core.display.HTML object>"
            ],
            "text/html": [
              "\n",
              "<style>\n",
              "    /* Turns off some styling */\n",
              "    progress {\n",
              "        /* gets rid of default border in Firefox and Opera. */\n",
              "        border: none;\n",
              "        /* Needs to be in here for Safari polyfill so background images work as expected. */\n",
              "        background-size: auto;\n",
              "    }\n",
              "    .progress-bar-interrupted, .progress-bar-interrupted::-webkit-progress-bar {\n",
              "        background: #F44336;\n",
              "    }\n",
              "</style>\n"
            ]
          },
          "metadata": {}
        },
        {
          "output_type": "display_data",
          "data": {
            "text/plain": [
              "<IPython.core.display.HTML object>"
            ],
            "text/html": [
              ""
            ]
          },
          "metadata": {}
        }
      ]
    },
    {
      "cell_type": "code",
      "execution_count": null,
      "metadata": {
        "colab": {
          "base_uri": "https://localhost:8080/",
          "height": 442
        },
        "id": "nwgTWx0rBpkG",
        "outputId": "c0c4ca08-f49d-489f-e7cf-a04aee07edc4"
      },
      "outputs": [
        {
          "output_type": "display_data",
          "data": {
            "text/plain": [
              "<IPython.core.display.HTML object>"
            ],
            "text/html": [
              "<table border=\"1\" class=\"dataframe\">\n",
              "  <thead>\n",
              "    <tr style=\"text-align: right;\">\n",
              "      <th></th>\n",
              "      <th>text</th>\n",
              "      <th>category</th>\n",
              "    </tr>\n",
              "  </thead>\n",
              "  <tbody>\n",
              "    <tr>\n",
              "      <th>0</th>\n",
              "      <td>xxbos xxmaj when xxmaj will xxmaj the xxmaj planet xxmaj be xxmaj too xxmaj hot xxmaj for xxmaj humans ? xxmaj much , xxmaj much xxmaj sooner xxmaj than xxmaj you xxmaj imagine . xxmaj to read an xxunk version of this article , complete with interviews with scientists and links to further reading , click here . xxup i. ‘ doomsday ’ xxmaj xxunk beyond scientific reticence . xxmaj it is , i promise , worse than you think . xxmaj if your anxiety about global warming is dominated by fears of sea - level rise , you are barely xxunk the surface of what xxunk are possible , even within the lifetime of a teenager today . xxmaj and yet the swelling seas — and the cities they will drown — have so dominated the picture of global warming , and so overwhelmed our capacity for climate panic</td>\n",
              "      <td>partially false</td>\n",
              "    </tr>\n",
              "    <tr>\n",
              "      <th>1</th>\n",
              "      <td>xxbos xxup hon . xxup stefan xxup i. xxup xxunk xxup erie xxup county xxup comptroller ’s xxup office xxup division xxup of xxup audit &amp; xxup control 95 xxup franklin xxup street xxup buffalo , xxup new xxup york 14202 xxmaj january 29 , 2021 xxmaj erie xxmaj county xxmaj legislature 92 xxmaj franklin xxmaj street 4th xxmaj floor xxmaj buffalo , xxmaj new xxmaj york 14202 xxmaj dear xxmaj honorable xxmaj members : xxmaj the xxmaj erie xxmaj county xxmaj comptroller ’s xxmaj office has completed a report on certain personnel and food expenses charged to fund 252 , commonly known as xxup cares xxmaj act relief for municipalities . xxmaj our objectives were to : xxmaj update the amount of expenses for overtime attributed to fund 252 . xxmaj list xxmaj xxunk xxmaj confidential recipients of overtime payments . xxmaj update the amount expended for food from</td>\n",
              "      <td>partially false</td>\n",
              "    </tr>\n",
              "  </tbody>\n",
              "</table>"
            ]
          },
          "metadata": {}
        }
      ],
      "source": [
        "dls.show_batch(max_n=2)\n"
      ]
    },
    {
      "cell_type": "code",
      "source": [
        "dls_test.show_batch(max_n=2)"
      ],
      "metadata": {
        "colab": {
          "base_uri": "https://localhost:8080/",
          "height": 424
        },
        "id": "8Yx_8S9cM-qJ",
        "outputId": "0669943c-a1d2-4dd8-d600-c23de1554534"
      },
      "execution_count": null,
      "outputs": [
        {
          "output_type": "display_data",
          "data": {
            "text/plain": [
              "<IPython.core.display.HTML object>"
            ],
            "text/html": [
              "<table border=\"1\" class=\"dataframe\">\n",
              "  <thead>\n",
              "    <tr style=\"text-align: right;\">\n",
              "      <th></th>\n",
              "      <th>text</th>\n",
              "      <th>category</th>\n",
              "    </tr>\n",
              "  </thead>\n",
              "  <tbody>\n",
              "    <tr>\n",
              "      <th>0</th>\n",
              "      <td>xxbos xxmaj transcript : xxmaj night 2 of the first xxmaj democratic debate xxmaj for the second night in a row , a field of 10 xxmaj democrats who want to be their party ’s nominee for president debated onstage in xxmaj miami . xxmaj here are highlights from the debate , here are xxmaj the xxmaj fix ’s winners and xxunk , and below is the full transcript of the debate . xxup nbc xxup anchor xxup savannah xxup guthrie : xxmaj so , with that business taken care of , let ’s get to it . xxmaj and we ’re going to start today with xxmaj senator xxmaj sanders . xxmaj good evening to you . xxmaj you 've called for big , new government benefits , like universal health care and free college . xxmaj in a recent interview , you said you suspected that xxmaj americans</td>\n",
              "      <td>false</td>\n",
              "    </tr>\n",
              "    <tr>\n",
              "      <th>1</th>\n",
              "      <td>xxbos xxmaj deported to xxmaj danger xxmaj the xxup us government has deported people to face abuse and even death in xxmaj el xxmaj salvador . xxmaj the xxup us is not solely responsible — salvadoran gangs who xxunk on deportees and xxmaj salvadoran authorities who harm deportees or who do little or nothing to protect them bear direct responsibility — but in many cases the xxup us is putting xxmaj salvadorans in harm ’s way in circumstances where it knows or should know that harm is likely . xxmaj of the estimated 1.2 million xxmaj salvadorans living in the xxmaj united xxmaj states who are not xxup us citizens , just under one - quarter are lawful permanent residents , with the remaining three - quarters lacking papers or holding a temporary or precarious legal status . xxmaj while xxmaj salvadorans have asylum recognition rates as high as 75</td>\n",
              "      <td>true</td>\n",
              "    </tr>\n",
              "  </tbody>\n",
              "</table>"
            ]
          },
          "metadata": {}
        }
      ]
    },
    {
      "cell_type": "code",
      "execution_count": null,
      "metadata": {
        "colab": {
          "base_uri": "https://localhost:8080/",
          "height": 37
        },
        "id": "8pW5_x08D06F",
        "outputId": "2edba5f7-7638-4fe4-fc33-dd62c16dbf08"
      },
      "outputs": [
        {
          "output_type": "display_data",
          "data": {
            "text/plain": [
              "<IPython.core.display.HTML object>"
            ],
            "text/html": [
              "\n",
              "<style>\n",
              "    /* Turns off some styling */\n",
              "    progress {\n",
              "        /* gets rid of default border in Firefox and Opera. */\n",
              "        border: none;\n",
              "        /* Needs to be in here for Safari polyfill so background images work as expected. */\n",
              "        background-size: auto;\n",
              "    }\n",
              "    .progress-bar-interrupted, .progress-bar-interrupted::-webkit-progress-bar {\n",
              "        background: #F44336;\n",
              "    }\n",
              "</style>\n"
            ]
          },
          "metadata": {}
        },
        {
          "output_type": "display_data",
          "data": {
            "text/plain": [
              "<IPython.core.display.HTML object>"
            ],
            "text/html": [
              "\n",
              "    <div>\n",
              "      <progress value='105070592' class='' max='105067061' style='width:300px; height:20px; vertical-align: middle;'></progress>\n",
              "      100.00% [105070592/105067061 00:01<00:00]\n",
              "    </div>\n",
              "    "
            ]
          },
          "metadata": {}
        }
      ],
      "source": [
        "learn = text_classifier_learner(dls, AWD_LSTM, drop_mult=0.5, metrics=accuracy)"
      ]
    },
    {
      "cell_type": "code",
      "execution_count": null,
      "metadata": {
        "colab": {
          "base_uri": "https://localhost:8080/"
        },
        "id": "glnAJa0pZRNr",
        "outputId": "b119b92f-4f03-4ddb-93fc-63bfd832445a"
      },
      "outputs": [
        {
          "output_type": "execute_result",
          "data": {
            "text/plain": [
              "<fastai.text.learner.TextLearner at 0x7fdbff90f350>"
            ]
          },
          "metadata": {},
          "execution_count": 19
        }
      ],
      "source": [
        "learn.load('/content/drives/clef2020/fastai/v3')"
      ]
    },
    {
      "cell_type": "code",
      "execution_count": null,
      "metadata": {
        "id": "a3KG-GFDMJi3"
      },
      "outputs": [],
      "source": [
        "\n",
        "learn.data = dls"
      ]
    },
    {
      "cell_type": "code",
      "execution_count": null,
      "metadata": {
        "colab": {
          "base_uri": "https://localhost:8080/",
          "height": 300
        },
        "id": "ZyLKdSpI3SV9",
        "outputId": "f74b77e8-46fa-40b4-d465-42c196664311"
      },
      "outputs": [
        {
          "output_type": "display_data",
          "data": {
            "text/plain": [
              "<IPython.core.display.HTML object>"
            ],
            "text/html": [
              "\n",
              "<style>\n",
              "    /* Turns off some styling */\n",
              "    progress {\n",
              "        /* gets rid of default border in Firefox and Opera. */\n",
              "        border: none;\n",
              "        /* Needs to be in here for Safari polyfill so background images work as expected. */\n",
              "        background-size: auto;\n",
              "    }\n",
              "    .progress-bar-interrupted, .progress-bar-interrupted::-webkit-progress-bar {\n",
              "        background: #F44336;\n",
              "    }\n",
              "</style>\n"
            ]
          },
          "metadata": {}
        },
        {
          "output_type": "display_data",
          "data": {
            "text/plain": [
              "<IPython.core.display.HTML object>"
            ],
            "text/html": [
              ""
            ]
          },
          "metadata": {}
        },
        {
          "output_type": "execute_result",
          "data": {
            "text/plain": [
              "SuggestedLRs(valley=5.248074739938602e-05)"
            ]
          },
          "metadata": {},
          "execution_count": 25
        },
        {
          "output_type": "display_data",
          "data": {
            "text/plain": [
              "<Figure size 432x288 with 1 Axes>"
            ],
            "image/png": "[encoded data removed]"
          },
          "metadata": {
            "needs_background": "light"
          }
        }
      ],
      "source": [
        "learn.lr_find()"
      ]
    },
    {
      "cell_type": "code",
      "execution_count": null,
      "metadata": {
        "colab": {
          "base_uri": "https://localhost:8080/",
          "height": 174
        },
        "id": "LrIdXx709ZvD",
        "outputId": "0aa2b996-4b26-4393-a956-16915b580b7b"
      },
      "outputs": [
        {
          "data": {
            "text/html": [
              "\n",
              "<style>\n",
              "    /* Turns off some styling */\n",
              "    progress {\n",
              "        /* gets rid of default border in Firefox and Opera. */\n",
              "        border: none;\n",
              "        /* Needs to be in here for Safari polyfill so background images work as expected. */\n",
              "        background-size: auto;\n",
              "    }\n",
              "    .progress-bar-interrupted, .progress-bar-interrupted::-webkit-progress-bar {\n",
              "        background: #F44336;\n",
              "    }\n",
              "</style>\n"
            ],
            "text/plain": [
              "<IPython.core.display.HTML object>"
            ]
          },
          "metadata": {},
          "output_type": "display_data"
        },
        {
          "data": {
            "text/html": [
              "<table border=\"1\" class=\"dataframe\">\n",
              "  <thead>\n",
              "    <tr style=\"text-align: left;\">\n",
              "      <th>epoch</th>\n",
              "      <th>train_loss</th>\n",
              "      <th>valid_loss</th>\n",
              "      <th>accuracy</th>\n",
              "      <th>time</th>\n",
              "    </tr>\n",
              "  </thead>\n",
              "  <tbody>\n",
              "    <tr>\n",
              "      <td>0</td>\n",
              "      <td>0.629308</td>\n",
              "      <td>0.616720</td>\n",
              "      <td>0.829365</td>\n",
              "      <td>01:12</td>\n",
              "    </tr>\n",
              "    <tr>\n",
              "      <td>1</td>\n",
              "      <td>0.626370</td>\n",
              "      <td>0.615097</td>\n",
              "      <td>0.833333</td>\n",
              "      <td>01:11</td>\n",
              "    </tr>\n",
              "    <tr>\n",
              "      <td>2</td>\n",
              "      <td>0.622240</td>\n",
              "      <td>0.606573</td>\n",
              "      <td>0.833333</td>\n",
              "      <td>01:11</td>\n",
              "    </tr>\n",
              "    <tr>\n",
              "      <td>3</td>\n",
              "      <td>0.621236</td>\n",
              "      <td>0.604095</td>\n",
              "      <td>0.829365</td>\n",
              "      <td>01:10</td>\n",
              "    </tr>\n",
              "  </tbody>\n",
              "</table>"
            ],
            "text/plain": [
              "<IPython.core.display.HTML object>"
            ]
          },
          "metadata": {},
          "output_type": "display_data"
        }
      ],
      "source": [
        "learn.fit_one_cycle(4, lr_max=slice(10e-5, 0.00019054606673307717))"
      ]
    },
    {
      "cell_type": "code",
      "execution_count": null,
      "metadata": {
        "colab": {
          "background_save": true,
          "base_uri": "https://localhost:8080/",
          "height": 253
        },
        "id": "ZRGL49HCD99o",
        "outputId": "80ddd2a2-9409-485d-ea38-f9e4a1cb1415"
      },
      "outputs": [
        {
          "data": {
            "text/html": [
              "\n",
              "<style>\n",
              "    /* Turns off some styling */\n",
              "    progress {\n",
              "        /* gets rid of default border in Firefox and Opera. */\n",
              "        border: none;\n",
              "        /* Needs to be in here for Safari polyfill so background images work as expected. */\n",
              "        background-size: auto;\n",
              "    }\n",
              "    .progress-bar-interrupted, .progress-bar-interrupted::-webkit-progress-bar {\n",
              "        background: #F44336;\n",
              "    }\n",
              "</style>\n"
            ],
            "text/plain": [
              "<IPython.core.display.HTML object>"
            ]
          },
          "metadata": {},
          "output_type": "display_data"
        },
        {
          "data": {
            "text/html": [
              "<table border=\"1\" class=\"dataframe\">\n",
              "  <thead>\n",
              "    <tr style=\"text-align: left;\">\n",
              "      <th>epoch</th>\n",
              "      <th>train_loss</th>\n",
              "      <th>valid_loss</th>\n",
              "      <th>accuracy</th>\n",
              "      <th>time</th>\n",
              "    </tr>\n",
              "  </thead>\n",
              "  <tbody>\n",
              "    <tr>\n",
              "      <td>0</td>\n",
              "      <td>0.740948</td>\n",
              "      <td>0.868638</td>\n",
              "      <td>0.646758</td>\n",
              "      <td>06:01</td>\n",
              "    </tr>\n",
              "  </tbody>\n",
              "</table>"
            ],
            "text/plain": [
              "<IPython.core.display.HTML object>"
            ]
          },
          "metadata": {},
          "output_type": "display_data"
        },
        {
          "data": {
            "text/html": [
              "\n",
              "<style>\n",
              "    /* Turns off some styling */\n",
              "    progress {\n",
              "        /* gets rid of default border in Firefox and Opera. */\n",
              "        border: none;\n",
              "        /* Needs to be in here for Safari polyfill so background images work as expected. */\n",
              "        background-size: auto;\n",
              "    }\n",
              "    .progress-bar-interrupted, .progress-bar-interrupted::-webkit-progress-bar {\n",
              "        background: #F44336;\n",
              "    }\n",
              "</style>\n"
            ],
            "text/plain": [
              "<IPython.core.display.HTML object>"
            ]
          },
          "metadata": {},
          "output_type": "display_data"
        },
        {
          "data": {
            "text/html": [
              "<table border=\"1\" class=\"dataframe\">\n",
              "  <thead>\n",
              "    <tr style=\"text-align: left;\">\n",
              "      <th>epoch</th>\n",
              "      <th>train_loss</th>\n",
              "      <th>valid_loss</th>\n",
              "      <th>accuracy</th>\n",
              "      <th>time</th>\n",
              "    </tr>\n",
              "  </thead>\n",
              "  <tbody>\n",
              "    <tr>\n",
              "      <td>0</td>\n",
              "      <td>0.770221</td>\n",
              "      <td>0.950987</td>\n",
              "      <td>0.578498</td>\n",
              "      <td>14:13</td>\n",
              "    </tr>\n",
              "    <tr>\n",
              "      <td>1</td>\n",
              "      <td>0.743279</td>\n",
              "      <td>0.868624</td>\n",
              "      <td>0.647895</td>\n",
              "      <td>14:10</td>\n",
              "    </tr>\n",
              "    <tr>\n",
              "      <td>2</td>\n",
              "      <td>0.644793</td>\n",
              "      <td>0.868298</td>\n",
              "      <td>0.660125</td>\n",
              "      <td>14:09</td>\n",
              "    </tr>\n",
              "    <tr>\n",
              "      <td>3</td>\n",
              "      <td>0.542135</td>\n",
              "      <td>0.893049</td>\n",
              "      <td>0.665529</td>\n",
              "      <td>14:09</td>\n",
              "    </tr>\n",
              "  </tbody>\n",
              "</table>"
            ],
            "text/plain": [
              "<IPython.core.display.HTML object>"
            ]
          },
          "metadata": {},
          "output_type": "display_data"
        }
      ],
      "source": [
        "learn.fine_tune(4, 0.0063095735386013985)"
      ]
    },
    {
      "cell_type": "code",
      "execution_count": null,
      "metadata": {
        "colab": {
          "base_uri": "https://localhost:8080/",
          "height": 363
        },
        "id": "fku24Ja-AeqD",
        "outputId": "83fae744-8c4a-4db0-f512-4e272755432b"
      },
      "outputs": [
        {
          "data": {
            "text/html": [
              "\n",
              "<style>\n",
              "    /* Turns off some styling */\n",
              "    progress {\n",
              "        /* gets rid of default border in Firefox and Opera. */\n",
              "        border: none;\n",
              "        /* Needs to be in here for Safari polyfill so background images work as expected. */\n",
              "        background-size: auto;\n",
              "    }\n",
              "    .progress-bar-interrupted, .progress-bar-interrupted::-webkit-progress-bar {\n",
              "        background: #F44336;\n",
              "    }\n",
              "</style>\n"
            ],
            "text/plain": [
              "<IPython.core.display.HTML object>"
            ]
          },
          "metadata": {},
          "output_type": "display_data"
        },
        {
          "data": {
            "text/html": [
              "<table border=\"1\" class=\"dataframe\">\n",
              "  <thead>\n",
              "    <tr style=\"text-align: left;\">\n",
              "      <th>epoch</th>\n",
              "      <th>train_loss</th>\n",
              "      <th>valid_loss</th>\n",
              "      <th>accuracy</th>\n",
              "      <th>time</th>\n",
              "    </tr>\n",
              "  </thead>\n",
              "  <tbody>\n",
              "    <tr>\n",
              "      <td>0</td>\n",
              "      <td>0.746987</td>\n",
              "      <td>0.790097</td>\n",
              "      <td>0.750000</td>\n",
              "      <td>02:56</td>\n",
              "    </tr>\n",
              "    <tr>\n",
              "      <td>1</td>\n",
              "      <td>0.597554</td>\n",
              "      <td>0.821684</td>\n",
              "      <td>0.698413</td>\n",
              "      <td>02:56</td>\n",
              "    </tr>\n",
              "    <tr>\n",
              "      <td>2</td>\n",
              "      <td>0.460183</td>\n",
              "      <td>1.021765</td>\n",
              "      <td>0.666667</td>\n",
              "      <td>02:56</td>\n",
              "    </tr>\n",
              "    <tr>\n",
              "      <td>3</td>\n",
              "      <td>0.343937</td>\n",
              "      <td>0.950651</td>\n",
              "      <td>0.710317</td>\n",
              "      <td>02:56</td>\n",
              "    </tr>\n",
              "    <tr>\n",
              "      <td>4</td>\n",
              "      <td>0.253785</td>\n",
              "      <td>1.063179</td>\n",
              "      <td>0.658730</td>\n",
              "      <td>02:56</td>\n",
              "    </tr>\n",
              "    <tr>\n",
              "      <td>5</td>\n",
              "      <td>0.188026</td>\n",
              "      <td>1.295014</td>\n",
              "      <td>0.670635</td>\n",
              "      <td>02:56</td>\n",
              "    </tr>\n",
              "    <tr>\n",
              "      <td>6</td>\n",
              "      <td>0.143924</td>\n",
              "      <td>1.286563</td>\n",
              "      <td>0.642857</td>\n",
              "      <td>02:56</td>\n",
              "    </tr>\n",
              "    <tr>\n",
              "      <td>7</td>\n",
              "      <td>0.117884</td>\n",
              "      <td>1.275370</td>\n",
              "      <td>0.638889</td>\n",
              "      <td>02:56</td>\n",
              "    </tr>\n",
              "    <tr>\n",
              "      <td>8</td>\n",
              "      <td>0.094847</td>\n",
              "      <td>1.704863</td>\n",
              "      <td>0.626984</td>\n",
              "      <td>02:56</td>\n",
              "    </tr>\n",
              "    <tr>\n",
              "      <td>9</td>\n",
              "      <td>0.080219</td>\n",
              "      <td>1.226006</td>\n",
              "      <td>0.670635</td>\n",
              "      <td>02:56</td>\n",
              "    </tr>\n",
              "  </tbody>\n",
              "</table>"
            ],
            "text/plain": [
              "<IPython.core.display.HTML object>"
            ]
          },
          "metadata": {},
          "output_type": "display_data"
        }
      ],
      "source": [
        "learn.fit(10)"
      ]
    },
    {
      "cell_type": "code",
      "execution_count": null,
      "metadata": {
        "colab": {
          "base_uri": "https://localhost:8080/",
          "height": 1000
        },
        "id": "dm9IAddwH5Xd",
        "outputId": "5c4d3b6d-5f73-4519-eade-61a6c52c943f"
      },
      "outputs": [
        {
          "output_type": "display_data",
          "data": {
            "text/plain": [
              "<IPython.core.display.HTML object>"
            ],
            "text/html": [
              "\n",
              "<style>\n",
              "    /* Turns off some styling */\n",
              "    progress {\n",
              "        /* gets rid of default border in Firefox and Opera. */\n",
              "        border: none;\n",
              "        /* Needs to be in here for Safari polyfill so background images work as expected. */\n",
              "        background-size: auto;\n",
              "    }\n",
              "    .progress-bar-interrupted, .progress-bar-interrupted::-webkit-progress-bar {\n",
              "        background: #F44336;\n",
              "    }\n",
              "</style>\n"
            ]
          },
          "metadata": {}
        },
        {
          "output_type": "display_data",
          "data": {
            "text/plain": [
              "<IPython.core.display.HTML object>"
            ],
            "text/html": [
              ""
            ]
          },
          "metadata": {}
        },
        {
          "output_type": "display_data",
          "data": {
            "text/plain": [
              "<IPython.core.display.HTML object>"
            ],
            "text/html": [
              "<table border=\"1\" class=\"dataframe\">\n",
              "  <thead>\n",
              "    <tr style=\"text-align: right;\">\n",
              "      <th></th>\n",
              "      <th>text</th>\n",
              "      <th>category</th>\n",
              "      <th>category_</th>\n",
              "    </tr>\n",
              "  </thead>\n",
              "  <tbody>\n",
              "    <tr>\n",
              "      <th>0</th>\n",
              "      <td>xxbos xxmaj when xxmaj will xxmaj the xxmaj planet xxmaj be xxmaj too xxmaj hot xxmaj for xxmaj humans ? xxmaj much , xxmaj much xxmaj sooner xxmaj than xxmaj you xxmaj imagine . xxmaj to read an xxunk version of this article , complete with interviews with scientists and links to further reading , click here . xxup i. ‘ doomsday ’ xxmaj xxunk beyond scientific reticence . xxmaj it is , i promise , worse than you think . xxmaj if your anxiety about global warming is dominated by fears of sea - level rise , you are barely xxunk the surface of what xxunk are possible , even within the lifetime of a teenager today . xxmaj and yet the swelling seas — and the cities they will drown — have so dominated the picture of global warming , and so overwhelmed our capacity for climate panic</td>\n",
              "      <td>partially false</td>\n",
              "      <td>partially false</td>\n",
              "    </tr>\n",
              "    <tr>\n",
              "      <th>1</th>\n",
              "      <td>xxbos xxmaj fighting xxmaj human xxmaj trafficking in xxmaj texas xxmaj aung xxmaj san xxmaj suu xxmaj kyi xxmaj residence xxmaj xxunk , xxmaj burma xxunk xxup p.m. xxup xxunk xxup daw xxup aung xxup san xxup suu xxup kyi : xxmaj i 'm sorry if we 've kept you waiting . xxmaj let me just begin by saying what a great pleasure it is for me to welcome xxmaj president xxmaj obama again to my house and to be able to meet all of you . i would just like to say that there have been those who have been saying that there is tension between the xxmaj united xxmaj states and the xxmaj national xxmaj league for xxmaj democracy or perhaps with me . i would like to make it quite clear that the friendship between the xxmaj united xxmaj states and those who have been struggling for</td>\n",
              "      <td>partially false</td>\n",
              "      <td>partially false</td>\n",
              "    </tr>\n",
              "    <tr>\n",
              "      <th>2</th>\n",
              "      <td>xxbos xxup cancer xxup is xxup candida / xxup fungus xxup and xxup can xxup be xxup cured xxmaj here ’s something your doctor , or xxmaj xxunk will never tell you . xxmaj if you have cancer , then you have fungus / mold / candida . xxmaj it feeds the cancer , it is cancer itself . xxmaj here ’s all you need to know and how to deal with it . xxmaj few things are scarier than hearing the words , “ you have cancer . ” xxmaj and yet it ’s something that an estimated one third , to half the population will hear at least once in their lifetime . xxmaj with such staggering rates and so much money and research poured into combating cancer , you would think we would have rounded the corner towards reducing it , or even found a cure by</td>\n",
              "      <td>false</td>\n",
              "      <td>false</td>\n",
              "    </tr>\n",
              "    <tr>\n",
              "      <th>3</th>\n",
              "      <td>xxbos xxmaj climate xxmaj change xxmaj wackos xxmaj exposed in xxmaj california xxmaj court xxmaj murderers of xxmaj stephen xxmaj lawrence and xxmaj garry xxmaj newlove jailed under same law xxmaj the widow of a murdered former policeman today slammed an ' absolutely disgusting ' xxmaj supreme xxmaj court decision to grant one of her husband 's killers a shock appeal . xxmaj tracey xxmaj fyfe , 53 , says she is ' terrified ' xxmaj ameen xxmaj jogee , 24 , could be released from prison where he is serving a life sentence for murdering xxmaj paul xxmaj fyfe , 47 , with his friend xxmaj mohammed xxmaj hirsi in 2011 . xxmaj drug dealer xxmaj jogee told xxmaj hirsi to stab the father - of - three through the heart and was convicted of murder using ' joint enterprise ' law , which demands the xxunk is treated</td>\n",
              "      <td>partially false</td>\n",
              "      <td>partially false</td>\n",
              "    </tr>\n",
              "    <tr>\n",
              "      <th>4</th>\n",
              "      <td>xxbos xxup proof : xxmaj the xxmaj novel xxmaj coronavirus xxmaj infecting the xxmaj world is a xxup military xxup bio - weapon xxmaj developed by xxmaj china 's xxmaj army xxmaj nation xxup proof : xxmaj the xxmaj novel xxmaj coronavirus xxmaj infecting the xxmaj world is a xxup military xxup bio - weapon xxmaj developed by xxmaj china 's xxmaj army xxmaj the novel xxmaj coronavirus outbreak affecting xxmaj china and many other countries right now , has been determined to be a military xxup bio - weapon , which was being worked on at the xxmaj wuhan xxmaj virology xxmaj laboratory by xxmaj china 's xxmaj people 's xxmaj liberation xxmaj army , xxmaj xxunk xxmaj command . xxmaj somehow , it got out . xxmaj the world is now facing a massive wipe - out of humanity as a result . xxmaj the proof that this</td>\n",
              "      <td>false</td>\n",
              "      <td>false</td>\n",
              "    </tr>\n",
              "  </tbody>\n",
              "</table>"
            ]
          },
          "metadata": {}
        }
      ],
      "source": [
        "learn.show_results(max_n=5)"
      ]
    },
    {
      "cell_type": "code",
      "execution_count": null,
      "metadata": {
        "id": "B0JyzI6tLevM"
      },
      "outputs": [],
      "source": [
        "text='In October of last year, Mark Zuckerberg had expressed his ambitions to go all-in for the Metaverse while it becomes more expensive over time. After Metas stock price took a hit, the CEO and Facebook founder, has said that he will “slow the pace of some of our investments.Metas profits were down 21% around $7.5 billion from last year, while revenue growth was the slowest the company has experienced yet, rising 7% to $27.9 billion. The company lowered its target expense range for the year 2022 by $3 billion'"
      ]
    },
    {
      "cell_type": "code",
      "execution_count": null,
      "metadata": {
        "colab": {
          "base_uri": "https://localhost:8080/",
          "height": 34
        },
        "id": "_WIT7rfaKBaR",
        "outputId": "9e520055-a172-40d7-a7e2-5006a4c99bb5"
      },
      "outputs": [
        {
          "data": {
            "text/html": [
              "\n",
              "<style>\n",
              "    /* Turns off some styling */\n",
              "    progress {\n",
              "        /* gets rid of default border in Firefox and Opera. */\n",
              "        border: none;\n",
              "        /* Needs to be in here for Safari polyfill so background images work as expected. */\n",
              "        background-size: auto;\n",
              "    }\n",
              "    .progress-bar-interrupted, .progress-bar-interrupted::-webkit-progress-bar {\n",
              "        background: #F44336;\n",
              "    }\n",
              "</style>\n"
            ],
            "text/plain": [
              "<IPython.core.display.HTML object>"
            ]
          },
          "metadata": {},
          "output_type": "display_data"
        },
        {
          "data": {
            "text/html": [
              ""
            ],
            "text/plain": [
              "<IPython.core.display.HTML object>"
            ]
          },
          "metadata": {},
          "output_type": "display_data"
        },
        {
          "data": {
            "text/plain": [
              "('false', TensorText(0), TensorText([0.5080, 0.0227, 0.4647, 0.0046]))"
            ]
          },
          "execution_count": 17,
          "metadata": {},
          "output_type": "execute_result"
        }
      ],
      "source": [
        "learn.predict(text)"
      ]
    },
    {
      "cell_type": "code",
      "execution_count": null,
      "metadata": {
        "id": "zxkTdToxKDrg"
      },
      "outputs": [],
      "source": [
        "text2=\"A flying camera is the latest release from Snap, the company best known for its photo-sharing app Snapchat.The little yellow drone, called Pixy, is described by the company as a free-flying sidekick which can help people take selfies without a selfie stick.The gadget is available in France and the US, where the laws are more lenient around the use of drones than the UK.It comes as several social media giants are stepping up their hardware and Augmented Reality (AR) offering.The Pixy operates on its own, taking video as it flies, which is then wirelessly transferred and saved in the app.At the end of the flight, the selfie drone lands in the palm of your hand.Although Snapchat does not receive the same level of attention as other social media networks such as Facebook or Twitter, it remains hugely popular.Snapchat has 300 million daily active users around the world, according to the company. It also claims to reach more than 75% of those aged 13-34 in more than 20 countries.\""
      ]
    },
    {
      "cell_type": "code",
      "execution_count": null,
      "metadata": {
        "colab": {
          "base_uri": "https://localhost:8080/",
          "height": 34
        },
        "id": "6kKzTa2CQxMe",
        "outputId": "00137223-5def-40f7-e548-9cc92144ec42"
      },
      "outputs": [
        {
          "data": {
            "text/html": [
              "\n",
              "<style>\n",
              "    /* Turns off some styling */\n",
              "    progress {\n",
              "        /* gets rid of default border in Firefox and Opera. */\n",
              "        border: none;\n",
              "        /* Needs to be in here for Safari polyfill so background images work as expected. */\n",
              "        background-size: auto;\n",
              "    }\n",
              "    .progress-bar-interrupted, .progress-bar-interrupted::-webkit-progress-bar {\n",
              "        background: #F44336;\n",
              "    }\n",
              "</style>\n"
            ],
            "text/plain": [
              "<IPython.core.display.HTML object>"
            ]
          },
          "metadata": {},
          "output_type": "display_data"
        },
        {
          "data": {
            "text/html": [
              ""
            ],
            "text/plain": [
              "<IPython.core.display.HTML object>"
            ]
          },
          "metadata": {},
          "output_type": "display_data"
        },
        {
          "data": {
            "text/plain": [
              "('false', TensorText(0), TensorText([0.7338, 0.0830, 0.1215, 0.0617]))"
            ]
          },
          "execution_count": 19,
          "metadata": {},
          "output_type": "execute_result"
        }
      ],
      "source": [
        "learn.predict(text2)"
      ]
    },
    {
      "cell_type": "code",
      "execution_count": null,
      "metadata": {
        "id": "U4CqEXQd9ZMN"
      },
      "outputs": [],
      "source": [
        ""
      ]
    },
    {
      "cell_type": "code",
      "execution_count": null,
      "metadata": {
        "colab": {
          "base_uri": "https://localhost:8080/"
        },
        "id": "W8G2QgpVcdhs",
        "outputId": "581790bb-6bc4-4403-a39a-8d9237075907"
      },
      "outputs": [
        {
          "output_type": "execute_result",
          "data": {
            "text/plain": [
              "Path('/content/drives/clef2020/fastai/new.pth.pth')"
            ]
          },
          "metadata": {},
          "execution_count": 32
        }
      ],
      "source": [
        "learn.save('/content/drives/clef2020/fastai/new.pth')"
      ]
    },
    {
      "cell_type": "code",
      "execution_count": null,
      "metadata": {
        "colab": {
          "base_uri": "https://localhost:8080/",
          "height": 17
        },
        "id": "W0luOxiE-FpX",
        "outputId": "3477d6a5-9a78-4c2a-d715-baf6efe5a188"
      },
      "outputs": [
        {
          "output_type": "display_data",
          "data": {
            "text/plain": [
              "<IPython.core.display.HTML object>"
            ],
            "text/html": [
              "\n",
              "<style>\n",
              "    /* Turns off some styling */\n",
              "    progress {\n",
              "        /* gets rid of default border in Firefox and Opera. */\n",
              "        border: none;\n",
              "        /* Needs to be in here for Safari polyfill so background images work as expected. */\n",
              "        background-size: auto;\n",
              "    }\n",
              "    .progress-bar-interrupted, .progress-bar-interrupted::-webkit-progress-bar {\n",
              "        background: #F44336;\n",
              "    }\n",
              "</style>\n"
            ]
          },
          "metadata": {}
        },
        {
          "output_type": "display_data",
          "data": {
            "text/plain": [
              "<IPython.core.display.HTML object>"
            ],
            "text/html": [
              ""
            ]
          },
          "metadata": {}
        }
      ],
      "source": [
        "interp = ClassificationInterpretation.from_learner(learn)"
      ]
    },
    {
      "cell_type": "code",
      "execution_count": null,
      "metadata": {
        "id": "iDIcseFB-Mkl",
        "colab": {
          "base_uri": "https://localhost:8080/",
          "height": 1000
        },
        "outputId": "c17a13cd-ef08-4467-d601-4e29cc18174d"
      },
      "outputs": [
        {
          "output_type": "display_data",
          "data": {
            "text/plain": [
              "<IPython.core.display.HTML object>"
            ],
            "text/html": [
              "\n",
              "<style>\n",
              "    /* Turns off some styling */\n",
              "    progress {\n",
              "        /* gets rid of default border in Firefox and Opera. */\n",
              "        border: none;\n",
              "        /* Needs to be in here for Safari polyfill so background images work as expected. */\n",
              "        background-size: auto;\n",
              "    }\n",
              "    .progress-bar-interrupted, .progress-bar-interrupted::-webkit-progress-bar {\n",
              "        background: #F44336;\n",
              "    }\n",
              "</style>\n"
            ]
          },
          "metadata": {}
        },
        {
          "output_type": "display_data",
          "data": {
            "text/plain": [
              "<IPython.core.display.HTML object>"
            ],
            "text/html": [
              ""
            ]
          },
          "metadata": {}
        },
        {
          "output_type": "display_data",
          "data": {
            "text/plain": [
              "<IPython.core.display.HTML object>"
            ],
            "text/html": [
              "<table border=\"1\" class=\"dataframe\">\n",
              "  <thead>\n",
              "    <tr style=\"text-align: right;\">\n",
              "      <th></th>\n",
              "      <th>input</th>\n",
              "      <th>target</th>\n",
              "      <th>predicted</th>\n",
              "      <th>probability</th>\n",
              "      <th>loss</th>\n",
              "    </tr>\n",
              "  </thead>\n",
              "  <tbody>\n",
              "    <tr>\n",
              "      <th>0</th>\n",
              "      <td>xxbos xxmaj biden xxmaj accepts xxmaj campaign xxmaj donation xxmaj from xxmaj antifa xxmaj as the giant xxunk - armed machine that is the xxunk , xxunk xxmaj biden campaign xxunk on towards the 2020 election , it has begun to drop all xxunk of innocent operation . xxmaj holding virtual rallies , releasing a slew of negative ads across the airwaves nationwide , and selling xxunk emblazoned with images of the candidate ’s face are just a few of the money - making schemes running for its benefit . xxmaj but now , xxmaj joe xxmaj barron , head of the fbi ’s xxmaj department of xxmaj xxunk says they ’ve gone too far by accepting a check for thirty - one dollars from the organization called “ antifa . ” xxmaj the donation , which arrived yesterday at campaign headquarters in xxmaj xxunk , xxmaj california , was</td>\n",
              "      <td>other</td>\n",
              "      <td>false</td>\n",
              "      <td>0.951100766658783</td>\n",
              "      <td>16.23974609375</td>\n",
              "    </tr>\n",
              "    <tr>\n",
              "      <th>1</th>\n",
              "      <td>xxbos xxmaj teaching at the heart of the system xxmaj michigan deer hunters should watch for bovine tuberculosis xxmaj michigan hunters should beware of bovine tuberculosis in deer after a beef herd in xxmaj xxunk xxmaj county was confirmed to have the disease . xxmaj it 's the xxunk herd to be diagnosed in the state since 1998 , according to the xxmaj associated xxmaj press . xxmaj cattle in xxmaj xxunk , xxmaj xxunk , xxmaj xxunk and xxmaj xxunk must be tested before leaving their farms . xxmaj although bovine xxup xxunk largely affects cattle , the xxmaj michigan xxmaj department of xxmaj natural xxmaj resources notes that the disease can be transferred between farm animals and wildlife . xxmaj it shows up in the lungs , xxunk and other parts of the body in animals . xxmaj michigan wildlife managers are also working to eradicate the disease</td>\n",
              "      <td>true</td>\n",
              "      <td>false</td>\n",
              "      <td>0.9105176329612732</td>\n",
              "      <td>14.89380931854248</td>\n",
              "    </tr>\n",
              "    <tr>\n",
              "      <th>2</th>\n",
              "      <td>xxbos - xxmaj the xxmaj washington xxmaj post xxmaj please enable cookies on your web browser in order to continue . xxmaj the new xxmaj european data protection law requires us to inform you of the following before you use our website : xxmaj we use cookies and other technologies to customize your experience , perform analytics and deliver personalized advertising on our sites , apps and newsletters and across the xxmaj internet based on your interests . xxmaj by clicking “ i agree ” below , you consent to the use by us and our third - party partners of cookies and data gathered from your use of our platforms . xxmaj see our xxmaj privacy xxmaj policy and xxmaj third xxmaj party xxmaj partners to learn more about the use of data and your rights . xxmaj you also agree to our xxmaj terms of xxmaj service .</td>\n",
              "      <td>other</td>\n",
              "      <td>partially false</td>\n",
              "      <td>0.5402857065200806</td>\n",
              "      <td>12.779478073120117</td>\n",
              "    </tr>\n",
              "    <tr>\n",
              "      <th>3</th>\n",
              "      <td>xxbos xxmaj battling online coronavirus scams with facts - xxmaj malwarebytes xxmaj labs a xxup cure xxup for xxup cancer ? xxup israeli xxup scientists xxup may xxup have xxup found xxup one</td>\n",
              "      <td>other</td>\n",
              "      <td>false</td>\n",
              "      <td>0.999946117401123</td>\n",
              "      <td>9.883182525634766</td>\n",
              "    </tr>\n",
              "    <tr>\n",
              "      <th>4</th>\n",
              "      <td>xxbos xxmaj lisa xxmaj page xxmaj xxunk : xxup dnc xxmaj server xxmaj was xxmaj not xxmaj hacked xxmaj by xxmaj russia xxmaj second patient cured of xxup hiv , say doctors</td>\n",
              "      <td>partially false</td>\n",
              "      <td>false</td>\n",
              "      <td>0.9999396800994873</td>\n",
              "      <td>8.93278980255127</td>\n",
              "    </tr>\n",
              "    <tr>\n",
              "      <th>5</th>\n",
              "      <td>xxbos xxmaj president xxmaj buhari xxmaj never xxmaj said he will xxmaj resign xxmaj antibody tests support what ’s been obvious : xxmaj covid-19 is much more lethal than the flu</td>\n",
              "      <td>partially false</td>\n",
              "      <td>false</td>\n",
              "      <td>0.9999195337295532</td>\n",
              "      <td>7.239343166351318</td>\n",
              "    </tr>\n",
              "    <tr>\n",
              "      <th>6</th>\n",
              "      <td>xxbos xxup nhs failed to collect data on cancer treatment outcome xxmaj health xxmaj experts xxmaj are xxmaj warning xxmaj people xxmaj to xxmaj stop xxmaj eating xxmaj tilapia</td>\n",
              "      <td>other</td>\n",
              "      <td>false</td>\n",
              "      <td>0.9999918937683105</td>\n",
              "      <td>4.309529781341553</td>\n",
              "    </tr>\n",
              "    <tr>\n",
              "      <th>7</th>\n",
              "      <td>xxbos xxmaj vermont state trooper revived with xxmaj narcan after traffic stop xxmaj xxunk kills cancer not patient</td>\n",
              "      <td>other</td>\n",
              "      <td>false</td>\n",
              "      <td>0.9972487092018127</td>\n",
              "      <td>3.857576370239258</td>\n",
              "    </tr>\n",
              "    <tr>\n",
              "      <th>8</th>\n",
              "      <td>xxbos xxup fg bans alcohol in xxunk , xxunk xxmaj covid-19 immunity likely lasts for years</td>\n",
              "      <td>partially false</td>\n",
              "      <td>false</td>\n",
              "      <td>0.9996421337127686</td>\n",
              "      <td>3.639220952987671</td>\n",
              "    </tr>\n",
              "  </tbody>\n",
              "</table>"
            ]
          },
          "metadata": {}
        }
      ],
      "source": [
        "interp.plot_top_losses(9, figsize=(12, 12), heatmap=False)"
      ]
    },
    {
      "cell_type": "code",
      "source": [
        "interp.print_classification_report()"
      ],
      "metadata": {
        "colab": {
          "base_uri": "https://localhost:8080/",
          "height": 208
        },
        "id": "pk6sixetvZYD",
        "outputId": "e2f47aa0-f5cb-4b8e-eae4-4f1562d6c626"
      },
      "execution_count": null,
      "outputs": [
        {
          "output_type": "display_data",
          "data": {
            "text/plain": [
              "<IPython.core.display.HTML object>"
            ],
            "text/html": [
              "\n",
              "<style>\n",
              "    /* Turns off some styling */\n",
              "    progress {\n",
              "        /* gets rid of default border in Firefox and Opera. */\n",
              "        border: none;\n",
              "        /* Needs to be in here for Safari polyfill so background images work as expected. */\n",
              "        background-size: auto;\n",
              "    }\n",
              "    .progress-bar-interrupted, .progress-bar-interrupted::-webkit-progress-bar {\n",
              "        background: #F44336;\n",
              "    }\n",
              "</style>\n"
            ]
          },
          "metadata": {}
        },
        {
          "output_type": "display_data",
          "data": {
            "text/plain": [
              "<IPython.core.display.HTML object>"
            ],
            "text/html": [
              ""
            ]
          },
          "metadata": {}
        },
        {
          "output_type": "stream",
          "name": "stdout",
          "text": [
            "                 precision    recall  f1-score   support\n",
            "\n",
            "          false       0.79      0.96      0.87       113\n",
            "          other       0.80      0.57      0.67        21\n",
            "partially false       0.86      0.78      0.82        73\n",
            "           true       0.94      0.73      0.83        45\n",
            "\n",
            "       accuracy                           0.83       252\n",
            "      macro avg       0.85      0.76      0.79       252\n",
            "   weighted avg       0.84      0.83      0.83       252\n",
            "\n"
          ]
        }
      ]
    },
    {
      "cell_type": "code",
      "execution_count": null,
      "metadata": {
        "colab": {
          "base_uri": "https://localhost:8080/",
          "height": 383
        },
        "id": "xx52IquVBibk",
        "outputId": "c11b97e6-7b8d-4b8e-8a80-d91e0da67714"
      },
      "outputs": [
        {
          "output_type": "display_data",
          "data": {
            "text/plain": [
              "<IPython.core.display.HTML object>"
            ],
            "text/html": [
              "\n",
              "<style>\n",
              "    /* Turns off some styling */\n",
              "    progress {\n",
              "        /* gets rid of default border in Firefox and Opera. */\n",
              "        border: none;\n",
              "        /* Needs to be in here for Safari polyfill so background images work as expected. */\n",
              "        background-size: auto;\n",
              "    }\n",
              "    .progress-bar-interrupted, .progress-bar-interrupted::-webkit-progress-bar {\n",
              "        background: #F44336;\n",
              "    }\n",
              "</style>\n"
            ]
          },
          "metadata": {}
        },
        {
          "output_type": "display_data",
          "data": {
            "text/plain": [
              "<IPython.core.display.HTML object>"
            ],
            "text/html": [
              ""
            ]
          },
          "metadata": {}
        },
        {
          "output_type": "display_data",
          "data": {
            "text/plain": [
              "<Figure size 360x360 with 1 Axes>"
            ],
            "image/png": "[encoded data removed]"
          },
          "metadata": {
            "needs_background": "light"
          }
        }
      ],
      "source": [
        "interp.plot_confusion_matrix(figsize=(6,6), dpi=60,title='Confusion matrix: AWD_LSTM (Fast.ai)')"
      ]
    },
    {
      "cell_type": "code",
      "execution_count": null,
      "metadata": {
        "colab": {
          "base_uri": "https://localhost:8080/",
          "height": 138
        },
        "id": "2OBk_FyXCFrE",
        "outputId": "197a8113-4a43-49d5-dbad-5cf29259832b"
      },
      "outputs": [
        {
          "data": {
            "text/html": [
              "\n",
              "<style>\n",
              "    /* Turns off some styling */\n",
              "    progress {\n",
              "        /* gets rid of default border in Firefox and Opera. */\n",
              "        border: none;\n",
              "        /* Needs to be in here for Safari polyfill so background images work as expected. */\n",
              "        background-size: auto;\n",
              "    }\n",
              "    .progress-bar-interrupted, .progress-bar-interrupted::-webkit-progress-bar {\n",
              "        background: #F44336;\n",
              "    }\n",
              "</style>\n"
            ],
            "text/plain": [
              "<IPython.core.display.HTML object>"
            ]
          },
          "metadata": {},
          "output_type": "display_data"
        },
        {
          "data": {
            "text/html": [
              ""
            ],
            "text/plain": [
              "<IPython.core.display.HTML object>"
            ]
          },
          "metadata": {},
          "output_type": "display_data"
        },
        {
          "data": {
            "text/plain": [
              "[('false', 'partially false', 14),\n",
              " ('partially false', 'false', 8),\n",
              " ('other', 'true', 6),\n",
              " ('true', 'partially false', 5),\n",
              " ('other', 'false', 4),\n",
              " ('other', 'partially false', 2),\n",
              " ('partially false', 'true', 2)]"
            ]
          },
          "execution_count": 14,
          "metadata": {},
          "output_type": "execute_result"
        }
      ],
      "source": [
        "interp.most_confused(min_val=2)"
      ]
    },
    {
      "cell_type": "markdown",
      "metadata": {
        "id": "n1FT2ACl9ezx"
      },
      "source": [
        "# Submission"
      ]
    },
    {
      "cell_type": "code",
      "execution_count": null,
      "metadata": {
        "id": "prJ5G5IK9hg0"
      },
      "outputs": [],
      "source": [
        "import math\n",
        "data_raw = pd.read_csv('English_data_test_release_with_rating.csv')\n",
        "data_raw['title'] = data_raw['title'].replace(math.nan,' ')\n",
        "data_raw['fullmsg'] = data_raw['title'] + ' ' + data_raw['text']"
      ]
    },
    {
      "cell_type": "code",
      "execution_count": null,
      "metadata": {
        "colab": {
          "base_uri": "https://localhost:8080/",
          "height": 1000
        },
        "id": "p8ws_zEU9snA",
        "outputId": "c5ebf64c-535b-413f-ade2-b74c859e42a7"
      },
      "outputs": [
        {
          "output_type": "execute_result",
          "data": {
            "text/plain": [
              "                                          ID  \\\n",
              "0    122653045997905671927713471889615536378   \n",
              "1    275389285957305997321446227088442471741   \n",
              "2    333248764296609831067233855420575814716   \n",
              "3    264019763253447756851916399533799891538   \n",
              "4    158073737187690682830899773280916034317   \n",
              "..                                       ...   \n",
              "607  206921579192720402152220292846254137866   \n",
              "608   26464356958085668535128110139955868781   \n",
              "609  189700315351432315169761694613833047445   \n",
              "610  188373492569049166266633359075598402208   \n",
              "611  337277576050638215330059360481185892501   \n",
              "\n",
              "                                                                                                                                                                                                                                                                                                                                                                                                                                                                                                                                                                                                                        text  \\\n",
              "0    The deputy secretary at the US Treasury has said that the only way to end the plague of empty shelves and high prices around the country is for every person in the world to be vaccinated.  In an interview to ABC on Thursday, Wally Adeyemo, the Biden administration’s second-highest official in the Treasury Department, has commented on the ongoing shortages of consumer goods that have led many to mock the president as ‘Empty Shelves Joe’.  Despite viral photos depicting thousands of cargo ships lined up at the Port of Los Angeles ready to unload their goods, Adeyemo claimed that the supply c...   \n",
              "1    KABUL—Approximately twelve minutes after U.S. troops withdrew from Afghanistan, Taliban fighters have completely taken over the entire country.  \"Woah, that's a bummer,\" said the Biden Administration's foreign policy team. \"We didn't see that one coming.\"  As the Taliban began its campaign of shooting and killing, as is their time-honored tradition, CNN anchors gushed with praise after noticing all the Taliban fighters were responsibly wearing masks to protect themselves and others from COVID.  \"Wow! In the midst of the battle and bloodshed, these noble desert knights of Islamic superiorit...   \n",
              "2    The vast majority of (oblivious) Americans have dismissed all this as a “conspiracy theory,” and now they’re shocked and frightened by the realization that covid internment camps are being actively deployed across America.  On Friday, Tennessee Gov. Bill Lee signed Executive Order 83, which authorizes National Guard and State Guard troops to break into peoples’ homes, kidnap them at gunpoint, and take them to covid internment camps, all without any due process or respect for civil rights. Individuals can be targeted for this medical kidnapping by armed troops via “telephone assessments,” a...   \n",
              "3    (Natural News) There’s a secret layer of information in your cells called messenger RNA, that’s located between DNA and proteins, that serves as a critical link. Now, in a medical shocker to the whole world of vaccine philosophy, scientists at Sloan Kettering found that mRNA itself carries cancer CAUSING changes – changes that genetic tests don’t even analyze, flying completely under the radar of oncologists across the globe.  So now, it’s time for independent laboratories that are not vaccine manufacturers (or hired by them) to run diagnostic testing on the Covid vaccine series and find o...   \n",
              "4    A recent study reported by the NCBI, which is under the National Institutes of Health, showed that masks do absolutely nothing to help prevent the spread of COVID-19 and their use is even harmful.  NIH published a medical hypothesis by Dr. Baruch Vainshelboim.  NOQ Report uncovered the study:  …a DuckDuckGo search reveals it [the study] was picked up by ZERO mainstream media outlets and Big Tech tyrants will suspend people who post it, as political strategist Steve Cortes learned the hard way when he posted a Tweet that went against the face mask narrative. The Tweet itself featured a quot...   \n",
              "..                                                                                                                                                                                                                                                                                                                                                                                                                                                                                                                                                                                                                       ...   \n",
              "607  DISTRIBUTE TO EVERYONE who does not want to be “vaccinated”.  All vaccines will no longer be justified from 20.10.2021: verified information.  https://ec.europa.eu/commission/presscorner/detail/fr/ip_21_3299 The European Union has approved () 5 therapies that will be available in all hospitals in the Member States for the treatment of Covid.  These therapies have been approved by a decree of the European Council (European Parliament) and will be in force from 1/10, so they will be distributed little by little around 20/10.  Vaccines were approved on a “temporary experimental basis”.  But s...   \n",
              "608  The physician who served as Bill Gates’ private doctor in Seattle in the 1990s says the Microsoft founder and vaccine proponent “refused to vaccinate his own children” when they were young.  “I don’t know if he had them vaccinated as adults, but I can tell you he point blank refused to vaccinate them as children,” the physician said at a behind closed doors medical symposium in Seattle, adding “They were gorgeous kids, really smart and vivacious, and he said they would be OK as it was, they didn’t need any shots.“  The comments caused a stir among physicians at the symposium with claims he...   \n",
              "609  A customer leaves an SAQ outlet on Jan. 6, the same day the Quebec government announced that vaccine passports will be required to enter all government liquor stores and cannabis outlets as of Jan. 18.Ryan Remiorz/The Canadian Press  Legal experts say Quebec’s plan to expand its vaccine passport requirement to include cannabis and liquor stores is likely legally sound, but may still face challenges from groups opposed to vaccine mandates.  Quebec’s government announced on Thursday that proof of vaccination will be required in provincially run liquor and cannabis stores as of Jan. 18, and w...   \n",
              "610  Vaccine coercion activists are using the fake statement attributed to Prof. Luc Montagnier to discredit his valid scientific observations about the vaccine being the root cause of the variants.  Lies about French Virologist Luc Montagnier have been circulating online after an article posted at RAIR Foundation USA went viral. Social media activists are spreading a vicious rumor that the Nobel Laureate claimed those who take the coronavirus vaccine will be dead in two years.  The outright misrepresentation of Prof. Montagnier’s statement comes after he revealed that the coronavirus vaccine i...   \n",
              "611  Placeholder while article actions load  Quebec will require people to show proof of coronavirus vaccination when entering government-run stores selling cannabis or alcohol, the region’s health minister, Christian Dubé, said Thursday, as part of broader efforts to reduce covid-19 patients in the province. Are you on Telegram? Subscribe to our channel for the latest updates on Russia's war in Ukraine. ArrowRight The move comes as Quebec, like other population centers in Canada and the United States, is seeing case counts rise rapidly. And though the province’s vaccination rate is near 80 per...   \n",
              "\n",
              "                                                                                                                                          title  \\\n",
              "0                                                       US Treasury deputy sec warns that shortages likely to continue until EVERYONE is jabbed   \n",
              "1                                                                                           CNN Praises Taliban For Wearing Masks During Attack   \n",
              "2                                                              Tennessee Has Just LEGALIZED Government COVID Kidnappings! – The Daily Allegiant   \n",
              "3            MEDICAL SHOCKER: Scientists at Sloan Kettering discover mRNA inactivates tumor-suppressing proteins, meaning it can promote cancer   \n",
              "4    Study Results: Facemasks are Ineffective to Block Transmission of COVID-19 and Actually Can Cause Health Deterioration and Premature Death   \n",
              "..                                                                                                                                          ...   \n",
              "607                       ‘From October 20, the Covid pass and vaccination will be abolished on the entire territory of the EU’ – French Doctor   \n",
              "608                                                                   Bill Gates' Former Doctor Says He 'Refused To Vaccinate' His Own Children   \n",
              "609                                      Quebec’s expansion of COVID-19 vaccine passports to liquor, pot stores likely sound, legal experts say   \n",
              "610                                                                    ALERT: Luc Montagnier Did NOT Say Vaccine Would Kill People in Two Years   \n",
              "611                                                                   Quebec’s cannabis, liquor stores to require coronavirus vaccination proof   \n",
              "\n",
              "          our rating  \\\n",
              "0    Partially false   \n",
              "1              Other   \n",
              "2              false   \n",
              "3              false   \n",
              "4              false   \n",
              "..               ...   \n",
              "607            false   \n",
              "608            Other   \n",
              "609             True   \n",
              "610            false   \n",
              "611             True   \n",
              "\n",
              "                                                                                                                                                                                                                                                                                                                                                                                                                                                                                                                                                                                                                     fullmsg  \n",
              "0    US Treasury deputy sec warns that shortages likely to continue until EVERYONE is jabbed The deputy secretary at the US Treasury has said that the only way to end the plague of empty shelves and high prices around the country is for every person in the world to be vaccinated.  In an interview to ABC on Thursday, Wally Adeyemo, the Biden administration’s second-highest official in the Treasury Department, has commented on the ongoing shortages of consumer goods that have led many to mock the president as ‘Empty Shelves Joe’.  Despite viral photos depicting thousands of cargo ships lined up a...  \n",
              "1    CNN Praises Taliban For Wearing Masks During Attack KABUL—Approximately twelve minutes after U.S. troops withdrew from Afghanistan, Taliban fighters have completely taken over the entire country.  \"Woah, that's a bummer,\" said the Biden Administration's foreign policy team. \"We didn't see that one coming.\"  As the Taliban began its campaign of shooting and killing, as is their time-honored tradition, CNN anchors gushed with praise after noticing all the Taliban fighters were responsibly wearing masks to protect themselves and others from COVID.  \"Wow! In the midst of the battle and bloodsh...  \n",
              "2    Tennessee Has Just LEGALIZED Government COVID Kidnappings! – The Daily Allegiant The vast majority of (oblivious) Americans have dismissed all this as a “conspiracy theory,” and now they’re shocked and frightened by the realization that covid internment camps are being actively deployed across America.  On Friday, Tennessee Gov. Bill Lee signed Executive Order 83, which authorizes National Guard and State Guard troops to break into peoples’ homes, kidnap them at gunpoint, and take them to covid internment camps, all without any due process or respect for civil rights. Individuals can be ta...  \n",
              "3    MEDICAL SHOCKER: Scientists at Sloan Kettering discover mRNA inactivates tumor-suppressing proteins, meaning it can promote cancer (Natural News) There’s a secret layer of information in your cells called messenger RNA, that’s located between DNA and proteins, that serves as a critical link. Now, in a medical shocker to the whole world of vaccine philosophy, scientists at Sloan Kettering found that mRNA itself carries cancer CAUSING changes – changes that genetic tests don’t even analyze, flying completely under the radar of oncologists across the globe.  So now, it’s time for independent ...  \n",
              "4    Study Results: Facemasks are Ineffective to Block Transmission of COVID-19 and Actually Can Cause Health Deterioration and Premature Death A recent study reported by the NCBI, which is under the National Institutes of Health, showed that masks do absolutely nothing to help prevent the spread of COVID-19 and their use is even harmful.  NIH published a medical hypothesis by Dr. Baruch Vainshelboim.  NOQ Report uncovered the study:  …a DuckDuckGo search reveals it [the study] was picked up by ZERO mainstream media outlets and Big Tech tyrants will suspend people who post it, as political stra...  \n",
              "..                                                                                                                                                                                                                                                                                                                                                                                                                                                                                                                                                                                                                       ...  \n",
              "607  ‘From October 20, the Covid pass and vaccination will be abolished on the entire territory of the EU’ – French Doctor DISTRIBUTE TO EVERYONE who does not want to be “vaccinated”.  All vaccines will no longer be justified from 20.10.2021: verified information.  https://ec.europa.eu/commission/presscorner/detail/fr/ip_21_3299 The European Union has approved () 5 therapies that will be available in all hospitals in the Member States for the treatment of Covid.  These therapies have been approved by a decree of the European Council (European Parliament) and will be in force from 1/10, so they ...  \n",
              "608  Bill Gates' Former Doctor Says He 'Refused To Vaccinate' His Own Children The physician who served as Bill Gates’ private doctor in Seattle in the 1990s says the Microsoft founder and vaccine proponent “refused to vaccinate his own children” when they were young.  “I don’t know if he had them vaccinated as adults, but I can tell you he point blank refused to vaccinate them as children,” the physician said at a behind closed doors medical symposium in Seattle, adding “They were gorgeous kids, really smart and vivacious, and he said they would be OK as it was, they didn’t need any shots.“  T...  \n",
              "609  Quebec’s expansion of COVID-19 vaccine passports to liquor, pot stores likely sound, legal experts say A customer leaves an SAQ outlet on Jan. 6, the same day the Quebec government announced that vaccine passports will be required to enter all government liquor stores and cannabis outlets as of Jan. 18.Ryan Remiorz/The Canadian Press  Legal experts say Quebec’s plan to expand its vaccine passport requirement to include cannabis and liquor stores is likely legally sound, but may still face challenges from groups opposed to vaccine mandates.  Quebec’s government announced on Thursday that pr...  \n",
              "610  ALERT: Luc Montagnier Did NOT Say Vaccine Would Kill People in Two Years Vaccine coercion activists are using the fake statement attributed to Prof. Luc Montagnier to discredit his valid scientific observations about the vaccine being the root cause of the variants.  Lies about French Virologist Luc Montagnier have been circulating online after an article posted at RAIR Foundation USA went viral. Social media activists are spreading a vicious rumor that the Nobel Laureate claimed those who take the coronavirus vaccine will be dead in two years.  The outright misrepresentation of Prof. Mont...  \n",
              "611  Quebec’s cannabis, liquor stores to require coronavirus vaccination proof Placeholder while article actions load  Quebec will require people to show proof of coronavirus vaccination when entering government-run stores selling cannabis or alcohol, the region’s health minister, Christian Dubé, said Thursday, as part of broader efforts to reduce covid-19 patients in the province. Are you on Telegram? Subscribe to our channel for the latest updates on Russia's war in Ukraine. ArrowRight The move comes as Quebec, like other population centers in Canada and the United States, is seeing case coun...  \n",
              "\n",
              "[612 rows x 5 columns]"
            ],
            "text/html": [
              "\n",
              "  <div id=\"df-c8608561-ef88-490a-9799-4e89212486d4\">\n",
              "    <div class=\"colab-df-container\">\n",
              "      <div>\n",
              "<style scoped>\n",
              "    .dataframe tbody tr th:only-of-type {\n",
              "        vertical-align: middle;\n",
              "    }\n",
              "\n",
              "    .dataframe tbody tr th {\n",
              "        vertical-align: top;\n",
              "    }\n",
              "\n",
              "    .dataframe thead th {\n",
              "        text-align: right;\n",
              "    }\n",
              "</style>\n",
              "<table border=\"1\" class=\"dataframe\">\n",
              "  <thead>\n",
              "    <tr style=\"text-align: right;\">\n",
              "      <th></th>\n",
              "      <th>ID</th>\n",
              "      <th>text</th>\n",
              "      <th>title</th>\n",
              "      <th>our rating</th>\n",
              "      <th>fullmsg</th>\n",
              "    </tr>\n",
              "  </thead>\n",
              "  <tbody>\n",
              "    <tr>\n",
              "      <th>0</th>\n",
              "      <td>122653045997905671927713471889615536378</td>\n",
              "      <td>The deputy secretary at the US Treasury has said that the only way to end the plague of empty shelves and high prices around the country is for every person in the world to be vaccinated.  In an interview to ABC on Thursday, Wally Adeyemo, the Biden administration’s second-highest official in the Treasury Department, has commented on the ongoing shortages of consumer goods that have led many to mock the president as ‘Empty Shelves Joe’.  Despite viral photos depicting thousands of cargo ships lined up at the Port of Los Angeles ready to unload their goods, Adeyemo claimed that the supply c...</td>\n",
              "      <td>US Treasury deputy sec warns that shortages likely to continue until EVERYONE is jabbed</td>\n",
              "      <td>Partially false</td>\n",
              "      <td>US Treasury deputy sec warns that shortages likely to continue until EVERYONE is jabbed The deputy secretary at the US Treasury has said that the only way to end the plague of empty shelves and high prices around the country is for every person in the world to be vaccinated.  In an interview to ABC on Thursday, Wally Adeyemo, the Biden administration’s second-highest official in the Treasury Department, has commented on the ongoing shortages of consumer goods that have led many to mock the president as ‘Empty Shelves Joe’.  Despite viral photos depicting thousands of cargo ships lined up a...</td>\n",
              "    </tr>\n",
              "    <tr>\n",
              "      <th>1</th>\n",
              "      <td>275389285957305997321446227088442471741</td>\n",
              "      <td>KABUL—Approximately twelve minutes after U.S. troops withdrew from Afghanistan, Taliban fighters have completely taken over the entire country.  \"Woah, that's a bummer,\" said the Biden Administration's foreign policy team. \"We didn't see that one coming.\"  As the Taliban began its campaign of shooting and killing, as is their time-honored tradition, CNN anchors gushed with praise after noticing all the Taliban fighters were responsibly wearing masks to protect themselves and others from COVID.  \"Wow! In the midst of the battle and bloodshed, these noble desert knights of Islamic superiorit...</td>\n",
              "      <td>CNN Praises Taliban For Wearing Masks During Attack</td>\n",
              "      <td>Other</td>\n",
              "      <td>CNN Praises Taliban For Wearing Masks During Attack KABUL—Approximately twelve minutes after U.S. troops withdrew from Afghanistan, Taliban fighters have completely taken over the entire country.  \"Woah, that's a bummer,\" said the Biden Administration's foreign policy team. \"We didn't see that one coming.\"  As the Taliban began its campaign of shooting and killing, as is their time-honored tradition, CNN anchors gushed with praise after noticing all the Taliban fighters were responsibly wearing masks to protect themselves and others from COVID.  \"Wow! In the midst of the battle and bloodsh...</td>\n",
              "    </tr>\n",
              "    <tr>\n",
              "      <th>2</th>\n",
              "      <td>333248764296609831067233855420575814716</td>\n",
              "      <td>The vast majority of (oblivious) Americans have dismissed all this as a “conspiracy theory,” and now they’re shocked and frightened by the realization that covid internment camps are being actively deployed across America.  On Friday, Tennessee Gov. Bill Lee signed Executive Order 83, which authorizes National Guard and State Guard troops to break into peoples’ homes, kidnap them at gunpoint, and take them to covid internment camps, all without any due process or respect for civil rights. Individuals can be targeted for this medical kidnapping by armed troops via “telephone assessments,” a...</td>\n",
              "      <td>Tennessee Has Just LEGALIZED Government COVID Kidnappings! – The Daily Allegiant</td>\n",
              "      <td>false</td>\n",
              "      <td>Tennessee Has Just LEGALIZED Government COVID Kidnappings! – The Daily Allegiant The vast majority of (oblivious) Americans have dismissed all this as a “conspiracy theory,” and now they’re shocked and frightened by the realization that covid internment camps are being actively deployed across America.  On Friday, Tennessee Gov. Bill Lee signed Executive Order 83, which authorizes National Guard and State Guard troops to break into peoples’ homes, kidnap them at gunpoint, and take them to covid internment camps, all without any due process or respect for civil rights. Individuals can be ta...</td>\n",
              "    </tr>\n",
              "    <tr>\n",
              "      <th>3</th>\n",
              "      <td>264019763253447756851916399533799891538</td>\n",
              "      <td>(Natural News) There’s a secret layer of information in your cells called messenger RNA, that’s located between DNA and proteins, that serves as a critical link. Now, in a medical shocker to the whole world of vaccine philosophy, scientists at Sloan Kettering found that mRNA itself carries cancer CAUSING changes – changes that genetic tests don’t even analyze, flying completely under the radar of oncologists across the globe.  So now, it’s time for independent laboratories that are not vaccine manufacturers (or hired by them) to run diagnostic testing on the Covid vaccine series and find o...</td>\n",
              "      <td>MEDICAL SHOCKER: Scientists at Sloan Kettering discover mRNA inactivates tumor-suppressing proteins, meaning it can promote cancer</td>\n",
              "      <td>false</td>\n",
              "      <td>MEDICAL SHOCKER: Scientists at Sloan Kettering discover mRNA inactivates tumor-suppressing proteins, meaning it can promote cancer (Natural News) There’s a secret layer of information in your cells called messenger RNA, that’s located between DNA and proteins, that serves as a critical link. Now, in a medical shocker to the whole world of vaccine philosophy, scientists at Sloan Kettering found that mRNA itself carries cancer CAUSING changes – changes that genetic tests don’t even analyze, flying completely under the radar of oncologists across the globe.  So now, it’s time for independent ...</td>\n",
              "    </tr>\n",
              "    <tr>\n",
              "      <th>4</th>\n",
              "      <td>158073737187690682830899773280916034317</td>\n",
              "      <td>A recent study reported by the NCBI, which is under the National Institutes of Health, showed that masks do absolutely nothing to help prevent the spread of COVID-19 and their use is even harmful.  NIH published a medical hypothesis by Dr. Baruch Vainshelboim.  NOQ Report uncovered the study:  …a DuckDuckGo search reveals it [the study] was picked up by ZERO mainstream media outlets and Big Tech tyrants will suspend people who post it, as political strategist Steve Cortes learned the hard way when he posted a Tweet that went against the face mask narrative. The Tweet itself featured a quot...</td>\n",
              "      <td>Study Results: Facemasks are Ineffective to Block Transmission of COVID-19 and Actually Can Cause Health Deterioration and Premature Death</td>\n",
              "      <td>false</td>\n",
              "      <td>Study Results: Facemasks are Ineffective to Block Transmission of COVID-19 and Actually Can Cause Health Deterioration and Premature Death A recent study reported by the NCBI, which is under the National Institutes of Health, showed that masks do absolutely nothing to help prevent the spread of COVID-19 and their use is even harmful.  NIH published a medical hypothesis by Dr. Baruch Vainshelboim.  NOQ Report uncovered the study:  …a DuckDuckGo search reveals it [the study] was picked up by ZERO mainstream media outlets and Big Tech tyrants will suspend people who post it, as political stra...</td>\n",
              "    </tr>\n",
              "    <tr>\n",
              "      <th>...</th>\n",
              "      <td>...</td>\n",
              "      <td>...</td>\n",
              "      <td>...</td>\n",
              "      <td>...</td>\n",
              "      <td>...</td>\n",
              "    </tr>\n",
              "    <tr>\n",
              "      <th>607</th>\n",
              "      <td>206921579192720402152220292846254137866</td>\n",
              "      <td>DISTRIBUTE TO EVERYONE who does not want to be “vaccinated”.  All vaccines will no longer be justified from 20.10.2021: verified information.  https://ec.europa.eu/commission/presscorner/detail/fr/ip_21_3299 The European Union has approved () 5 therapies that will be available in all hospitals in the Member States for the treatment of Covid.  These therapies have been approved by a decree of the European Council (European Parliament) and will be in force from 1/10, so they will be distributed little by little around 20/10.  Vaccines were approved on a “temporary experimental basis”.  But s...</td>\n",
              "      <td>‘From October 20, the Covid pass and vaccination will be abolished on the entire territory of the EU’ – French Doctor</td>\n",
              "      <td>false</td>\n",
              "      <td>‘From October 20, the Covid pass and vaccination will be abolished on the entire territory of the EU’ – French Doctor DISTRIBUTE TO EVERYONE who does not want to be “vaccinated”.  All vaccines will no longer be justified from 20.10.2021: verified information.  https://ec.europa.eu/commission/presscorner/detail/fr/ip_21_3299 The European Union has approved () 5 therapies that will be available in all hospitals in the Member States for the treatment of Covid.  These therapies have been approved by a decree of the European Council (European Parliament) and will be in force from 1/10, so they ...</td>\n",
              "    </tr>\n",
              "    <tr>\n",
              "      <th>608</th>\n",
              "      <td>26464356958085668535128110139955868781</td>\n",
              "      <td>The physician who served as Bill Gates’ private doctor in Seattle in the 1990s says the Microsoft founder and vaccine proponent “refused to vaccinate his own children” when they were young.  “I don’t know if he had them vaccinated as adults, but I can tell you he point blank refused to vaccinate them as children,” the physician said at a behind closed doors medical symposium in Seattle, adding “They were gorgeous kids, really smart and vivacious, and he said they would be OK as it was, they didn’t need any shots.“  The comments caused a stir among physicians at the symposium with claims he...</td>\n",
              "      <td>Bill Gates' Former Doctor Says He 'Refused To Vaccinate' His Own Children</td>\n",
              "      <td>Other</td>\n",
              "      <td>Bill Gates' Former Doctor Says He 'Refused To Vaccinate' His Own Children The physician who served as Bill Gates’ private doctor in Seattle in the 1990s says the Microsoft founder and vaccine proponent “refused to vaccinate his own children” when they were young.  “I don’t know if he had them vaccinated as adults, but I can tell you he point blank refused to vaccinate them as children,” the physician said at a behind closed doors medical symposium in Seattle, adding “They were gorgeous kids, really smart and vivacious, and he said they would be OK as it was, they didn’t need any shots.“  T...</td>\n",
              "    </tr>\n",
              "    <tr>\n",
              "      <th>609</th>\n",
              "      <td>189700315351432315169761694613833047445</td>\n",
              "      <td>A customer leaves an SAQ outlet on Jan. 6, the same day the Quebec government announced that vaccine passports will be required to enter all government liquor stores and cannabis outlets as of Jan. 18.Ryan Remiorz/The Canadian Press  Legal experts say Quebec’s plan to expand its vaccine passport requirement to include cannabis and liquor stores is likely legally sound, but may still face challenges from groups opposed to vaccine mandates.  Quebec’s government announced on Thursday that proof of vaccination will be required in provincially run liquor and cannabis stores as of Jan. 18, and w...</td>\n",
              "      <td>Quebec’s expansion of COVID-19 vaccine passports to liquor, pot stores likely sound, legal experts say</td>\n",
              "      <td>True</td>\n",
              "      <td>Quebec’s expansion of COVID-19 vaccine passports to liquor, pot stores likely sound, legal experts say A customer leaves an SAQ outlet on Jan. 6, the same day the Quebec government announced that vaccine passports will be required to enter all government liquor stores and cannabis outlets as of Jan. 18.Ryan Remiorz/The Canadian Press  Legal experts say Quebec’s plan to expand its vaccine passport requirement to include cannabis and liquor stores is likely legally sound, but may still face challenges from groups opposed to vaccine mandates.  Quebec’s government announced on Thursday that pr...</td>\n",
              "    </tr>\n",
              "    <tr>\n",
              "      <th>610</th>\n",
              "      <td>188373492569049166266633359075598402208</td>\n",
              "      <td>Vaccine coercion activists are using the fake statement attributed to Prof. Luc Montagnier to discredit his valid scientific observations about the vaccine being the root cause of the variants.  Lies about French Virologist Luc Montagnier have been circulating online after an article posted at RAIR Foundation USA went viral. Social media activists are spreading a vicious rumor that the Nobel Laureate claimed those who take the coronavirus vaccine will be dead in two years.  The outright misrepresentation of Prof. Montagnier’s statement comes after he revealed that the coronavirus vaccine i...</td>\n",
              "      <td>ALERT: Luc Montagnier Did NOT Say Vaccine Would Kill People in Two Years</td>\n",
              "      <td>false</td>\n",
              "      <td>ALERT: Luc Montagnier Did NOT Say Vaccine Would Kill People in Two Years Vaccine coercion activists are using the fake statement attributed to Prof. Luc Montagnier to discredit his valid scientific observations about the vaccine being the root cause of the variants.  Lies about French Virologist Luc Montagnier have been circulating online after an article posted at RAIR Foundation USA went viral. Social media activists are spreading a vicious rumor that the Nobel Laureate claimed those who take the coronavirus vaccine will be dead in two years.  The outright misrepresentation of Prof. Mont...</td>\n",
              "    </tr>\n",
              "    <tr>\n",
              "      <th>611</th>\n",
              "      <td>337277576050638215330059360481185892501</td>\n",
              "      <td>Placeholder while article actions load  Quebec will require people to show proof of coronavirus vaccination when entering government-run stores selling cannabis or alcohol, the region’s health minister, Christian Dubé, said Thursday, as part of broader efforts to reduce covid-19 patients in the province. Are you on Telegram? Subscribe to our channel for the latest updates on Russia's war in Ukraine. ArrowRight The move comes as Quebec, like other population centers in Canada and the United States, is seeing case counts rise rapidly. And though the province’s vaccination rate is near 80 per...</td>\n",
              "      <td>Quebec’s cannabis, liquor stores to require coronavirus vaccination proof</td>\n",
              "      <td>True</td>\n",
              "      <td>Quebec’s cannabis, liquor stores to require coronavirus vaccination proof Placeholder while article actions load  Quebec will require people to show proof of coronavirus vaccination when entering government-run stores selling cannabis or alcohol, the region’s health minister, Christian Dubé, said Thursday, as part of broader efforts to reduce covid-19 patients in the province. Are you on Telegram? Subscribe to our channel for the latest updates on Russia's war in Ukraine. ArrowRight The move comes as Quebec, like other population centers in Canada and the United States, is seeing case coun...</td>\n",
              "    </tr>\n",
              "  </tbody>\n",
              "</table>\n",
              "<p>612 rows × 5 columns</p>\n",
              "</div>\n",
              "      <button class=\"colab-df-convert\" onclick=\"convertToInteractive('df-c8608561-ef88-490a-9799-4e89212486d4')\"\n",
              "              title=\"Convert this dataframe to an interactive table.\"\n",
              "              style=\"display:none;\">\n",
              "        \n",
              "  <svg xmlns=\"http://www.w3.org/2000/svg\" height=\"24px\"viewBox=\"0 0 24 24\"\n",
              "       width=\"24px\">\n",
              "    <path d=\"M0 0h24v24H0V0z\" fill=\"none\"/>\n",
              "    <path d=\"M18.56 5.44l.94 2.06.94-2.06 2.06-.94-2.06-.94-.94-2.06-.94 2.06-2.06.94zm-11 1L8.5 8.5l.94-2.06 2.06-.94-2.06-.94L8.5 2.5l-.94 2.06-2.06.94zm10 10l.94 2.06.94-2.06 2.06-.94-2.06-.94-.94-2.06-.94 2.06-2.06.94z\"/><path d=\"M17.41 7.96l-1.37-1.37c-.4-.4-.92-.59-1.43-.59-.52 0-1.04.2-1.43.59L10.3 9.45l-7.72 7.72c-.78.78-.78 2.05 0 2.83L4 21.41c.39.39.9.59 1.41.59.51 0 1.02-.2 1.41-.59l7.78-7.78 2.81-2.81c.8-.78.8-2.07 0-2.86zM5.41 20L4 18.59l7.72-7.72 1.47 1.35L5.41 20z\"/>\n",
              "  </svg>\n",
              "      </button>\n",
              "      \n",
              "  <style>\n",
              "    .colab-df-container {\n",
              "      display:flex;\n",
              "      flex-wrap:wrap;\n",
              "      gap: 12px;\n",
              "    }\n",
              "\n",
              "    .colab-df-convert {\n",
              "      background-color: #E8F0FE;\n",
              "      border: none;\n",
              "      border-radius: 50%;\n",
              "      cursor: pointer;\n",
              "      display: none;\n",
              "      fill: #1967D2;\n",
              "      height: 32px;\n",
              "      padding: 0 0 0 0;\n",
              "      width: 32px;\n",
              "    }\n",
              "\n",
              "    .colab-df-convert:hover {\n",
              "      background-color: #E2EBFA;\n",
              "      box-shadow: 0px 1px 2px rgba(60, 64, 67, 0.3), 0px 1px 3px 1px rgba(60, 64, 67, 0.15);\n",
              "      fill: #174EA6;\n",
              "    }\n",
              "\n",
              "    [theme=dark] .colab-df-convert {\n",
              "      background-color: #3B4455;\n",
              "      fill: #D2E3FC;\n",
              "    }\n",
              "\n",
              "    [theme=dark] .colab-df-convert:hover {\n",
              "      background-color: #434B5C;\n",
              "      box-shadow: 0px 1px 3px 1px rgba(0, 0, 0, 0.15);\n",
              "      filter: drop-shadow(0px 1px 2px rgba(0, 0, 0, 0.3));\n",
              "      fill: #FFFFFF;\n",
              "    }\n",
              "  </style>\n",
              "\n",
              "      <script>\n",
              "        const buttonEl =\n",
              "          document.querySelector('#df-c8608561-ef88-490a-9799-4e89212486d4 button.colab-df-convert');\n",
              "        buttonEl.style.display =\n",
              "          google.colab.kernel.accessAllowed ? 'block' : 'none';\n",
              "\n",
              "        async function convertToInteractive(key) {\n",
              "          const element = document.querySelector('#df-c8608561-ef88-490a-9799-4e89212486d4');\n",
              "          const dataTable =\n",
              "            await google.colab.kernel.invokeFunction('convertToInteractive',\n",
              "                                                     [key], {});\n",
              "          if (!dataTable) return;\n",
              "\n",
              "          const docLinkHtml = 'Like what you see? Visit the ' +\n",
              "            '<a target=\"_blank\" href=https://colab.research.google.com/notebooks/data_table.ipynb>data table notebook</a>'\n",
              "            + ' to learn more about interactive tables.';\n",
              "          element.innerHTML = '';\n",
              "          dataTable['output_type'] = 'display_data';\n",
              "          await google.colab.output.renderOutput(dataTable, element);\n",
              "          const docLink = document.createElement('div');\n",
              "          docLink.innerHTML = docLinkHtml;\n",
              "          element.appendChild(docLink);\n",
              "        }\n",
              "      </script>\n",
              "    </div>\n",
              "  </div>\n",
              "  "
            ]
          },
          "metadata": {},
          "execution_count": 21
        }
      ],
      "source": [
        "data_raw"
      ]
    },
    {
      "cell_type": "code",
      "execution_count": null,
      "metadata": {
        "id": "HC_UlD6F-wLS"
      },
      "outputs": [],
      "source": [
        "from tqdm.notebook import tqdm\n",
        "predicted_rating = []\n",
        "for data in tqdm(data_raw.fullmsg):\n",
        "  predicted_rating.append(learn.predict(data)[0])\n",
        "data_raw['predicted_rating'] = predicted_rating\n",
        "data_raw = data_raw.drop(labels=['fullmsg'], axis=1)\n",
        "data_raw"
      ]
    },
    {
      "cell_type": "code",
      "source": [
        "data_raw['our rating'] = data_raw['our rating'].map({'True': 1, 'FALSE': 0,'false':0, 'Partially false': 2, 'Other': 3})"
      ],
      "metadata": {
        "id": "3Q2XF-oTPk78"
      },
      "execution_count": null,
      "outputs": []
    },
    {
      "cell_type": "code",
      "source": [
        "data_raw['predicted_rating'] = data_raw['predicted_rating'].map({'true': 1, 'false': 0, 'partially false': 2, 'other': 3})"
      ],
      "metadata": {
        "id": "cYChR6xYQqUx"
      },
      "execution_count": null,
      "outputs": []
    },
    {
      "cell_type": "code",
      "source": [
        "data_raw = data_raw.drop(columns={'text', 'ID', 'title'})"
      ],
      "metadata": {
        "id": "9M2DfR8BQJa1"
      },
      "execution_count": null,
      "outputs": []
    },
    {
      "cell_type": "code",
      "source": [
        "data_raw"
      ],
      "metadata": {
        "colab": {
          "base_uri": "https://localhost:8080/",
          "height": 423
        },
        "id": "wea2THhTQiAy",
        "outputId": "9fb98f7e-89f2-4cfd-c2b0-d7cc98f73a77"
      },
      "execution_count": null,
      "outputs": [
        {
          "output_type": "execute_result",
          "data": {
            "text/plain": [
              "     our rating  predicted_rating\n",
              "0             2                 0\n",
              "1             3                 0\n",
              "2             0                 0\n",
              "3             0                 0\n",
              "4             0                 0\n",
              "..          ...               ...\n",
              "607           0                 0\n",
              "608           3                 0\n",
              "609           1                 0\n",
              "610           0                 0\n",
              "611           1                 1\n",
              "\n",
              "[612 rows x 2 columns]"
            ],
            "text/html": [
              "\n",
              "  <div id=\"df-9e7cf42a-18f8-4b5d-8f65-088a15c8d3ab\">\n",
              "    <div class=\"colab-df-container\">\n",
              "      <div>\n",
              "<style scoped>\n",
              "    .dataframe tbody tr th:only-of-type {\n",
              "        vertical-align: middle;\n",
              "    }\n",
              "\n",
              "    .dataframe tbody tr th {\n",
              "        vertical-align: top;\n",
              "    }\n",
              "\n",
              "    .dataframe thead th {\n",
              "        text-align: right;\n",
              "    }\n",
              "</style>\n",
              "<table border=\"1\" class=\"dataframe\">\n",
              "  <thead>\n",
              "    <tr style=\"text-align: right;\">\n",
              "      <th></th>\n",
              "      <th>our rating</th>\n",
              "      <th>predicted_rating</th>\n",
              "    </tr>\n",
              "  </thead>\n",
              "  <tbody>\n",
              "    <tr>\n",
              "      <th>0</th>\n",
              "      <td>2</td>\n",
              "      <td>0</td>\n",
              "    </tr>\n",
              "    <tr>\n",
              "      <th>1</th>\n",
              "      <td>3</td>\n",
              "      <td>0</td>\n",
              "    </tr>\n",
              "    <tr>\n",
              "      <th>2</th>\n",
              "      <td>0</td>\n",
              "      <td>0</td>\n",
              "    </tr>\n",
              "    <tr>\n",
              "      <th>3</th>\n",
              "      <td>0</td>\n",
              "      <td>0</td>\n",
              "    </tr>\n",
              "    <tr>\n",
              "      <th>4</th>\n",
              "      <td>0</td>\n",
              "      <td>0</td>\n",
              "    </tr>\n",
              "    <tr>\n",
              "      <th>...</th>\n",
              "      <td>...</td>\n",
              "      <td>...</td>\n",
              "    </tr>\n",
              "    <tr>\n",
              "      <th>607</th>\n",
              "      <td>0</td>\n",
              "      <td>0</td>\n",
              "    </tr>\n",
              "    <tr>\n",
              "      <th>608</th>\n",
              "      <td>3</td>\n",
              "      <td>0</td>\n",
              "    </tr>\n",
              "    <tr>\n",
              "      <th>609</th>\n",
              "      <td>1</td>\n",
              "      <td>0</td>\n",
              "    </tr>\n",
              "    <tr>\n",
              "      <th>610</th>\n",
              "      <td>0</td>\n",
              "      <td>0</td>\n",
              "    </tr>\n",
              "    <tr>\n",
              "      <th>611</th>\n",
              "      <td>1</td>\n",
              "      <td>1</td>\n",
              "    </tr>\n",
              "  </tbody>\n",
              "</table>\n",
              "<p>612 rows × 2 columns</p>\n",
              "</div>\n",
              "      <button class=\"colab-df-convert\" onclick=\"convertToInteractive('df-9e7cf42a-18f8-4b5d-8f65-088a15c8d3ab')\"\n",
              "              title=\"Convert this dataframe to an interactive table.\"\n",
              "              style=\"display:none;\">\n",
              "        \n",
              "  <svg xmlns=\"http://www.w3.org/2000/svg\" height=\"24px\"viewBox=\"0 0 24 24\"\n",
              "       width=\"24px\">\n",
              "    <path d=\"M0 0h24v24H0V0z\" fill=\"none\"/>\n",
              "    <path d=\"M18.56 5.44l.94 2.06.94-2.06 2.06-.94-2.06-.94-.94-2.06-.94 2.06-2.06.94zm-11 1L8.5 8.5l.94-2.06 2.06-.94-2.06-.94L8.5 2.5l-.94 2.06-2.06.94zm10 10l.94 2.06.94-2.06 2.06-.94-2.06-.94-.94-2.06-.94 2.06-2.06.94z\"/><path d=\"M17.41 7.96l-1.37-1.37c-.4-.4-.92-.59-1.43-.59-.52 0-1.04.2-1.43.59L10.3 9.45l-7.72 7.72c-.78.78-.78 2.05 0 2.83L4 21.41c.39.39.9.59 1.41.59.51 0 1.02-.2 1.41-.59l7.78-7.78 2.81-2.81c.8-.78.8-2.07 0-2.86zM5.41 20L4 18.59l7.72-7.72 1.47 1.35L5.41 20z\"/>\n",
              "  </svg>\n",
              "      </button>\n",
              "      \n",
              "  <style>\n",
              "    .colab-df-container {\n",
              "      display:flex;\n",
              "      flex-wrap:wrap;\n",
              "      gap: 12px;\n",
              "    }\n",
              "\n",
              "    .colab-df-convert {\n",
              "      background-color: #E8F0FE;\n",
              "      border: none;\n",
              "      border-radius: 50%;\n",
              "      cursor: pointer;\n",
              "      display: none;\n",
              "      fill: #1967D2;\n",
              "      height: 32px;\n",
              "      padding: 0 0 0 0;\n",
              "      width: 32px;\n",
              "    }\n",
              "\n",
              "    .colab-df-convert:hover {\n",
              "      background-color: #E2EBFA;\n",
              "      box-shadow: 0px 1px 2px rgba(60, 64, 67, 0.3), 0px 1px 3px 1px rgba(60, 64, 67, 0.15);\n",
              "      fill: #174EA6;\n",
              "    }\n",
              "\n",
              "    [theme=dark] .colab-df-convert {\n",
              "      background-color: #3B4455;\n",
              "      fill: #D2E3FC;\n",
              "    }\n",
              "\n",
              "    [theme=dark] .colab-df-convert:hover {\n",
              "      background-color: #434B5C;\n",
              "      box-shadow: 0px 1px 3px 1px rgba(0, 0, 0, 0.15);\n",
              "      filter: drop-shadow(0px 1px 2px rgba(0, 0, 0, 0.3));\n",
              "      fill: #FFFFFF;\n",
              "    }\n",
              "  </style>\n",
              "\n",
              "      <script>\n",
              "        const buttonEl =\n",
              "          document.querySelector('#df-9e7cf42a-18f8-4b5d-8f65-088a15c8d3ab button.colab-df-convert');\n",
              "        buttonEl.style.display =\n",
              "          google.colab.kernel.accessAllowed ? 'block' : 'none';\n",
              "\n",
              "        async function convertToInteractive(key) {\n",
              "          const element = document.querySelector('#df-9e7cf42a-18f8-4b5d-8f65-088a15c8d3ab');\n",
              "          const dataTable =\n",
              "            await google.colab.kernel.invokeFunction('convertToInteractive',\n",
              "                                                     [key], {});\n",
              "          if (!dataTable) return;\n",
              "\n",
              "          const docLinkHtml = 'Like what you see? Visit the ' +\n",
              "            '<a target=\"_blank\" href=https://colab.research.google.com/notebooks/data_table.ipynb>data table notebook</a>'\n",
              "            + ' to learn more about interactive tables.';\n",
              "          element.innerHTML = '';\n",
              "          dataTable['output_type'] = 'display_data';\n",
              "          await google.colab.output.renderOutput(dataTable, element);\n",
              "          const docLink = document.createElement('div');\n",
              "          docLink.innerHTML = docLinkHtml;\n",
              "          element.appendChild(docLink);\n",
              "        }\n",
              "      </script>\n",
              "    </div>\n",
              "  </div>\n",
              "  "
            ]
          },
          "metadata": {},
          "execution_count": 30
        }
      ]
    },
    {
      "cell_type": "code",
      "source": [
        "# category to list binary \n",
        "def pp(data):\n",
        "  p = []\n",
        "  for i,v in enumerate(data):\n",
        "    if v==1:\n",
        "      p.append([1, 0, 0, 0])\n",
        "    elif v==0:\n",
        "      p.append([0, 1, 0, 0])\n",
        "    elif v==2:\n",
        "      p.append([0, 0, 1, 0])\n",
        "    if v==3:\n",
        "      p.append([0, 0, 0, 1])\n",
        "  return p\n"
      ],
      "metadata": {
        "id": "4kJ3HVViQ5UE"
      },
      "execution_count": null,
      "outputs": []
    },
    {
      "cell_type": "code",
      "source": [
        "data_raw['our rating list'] = pp(data_raw['our rating'])"
      ],
      "metadata": {
        "id": "Dq0Ls7A7RDr5"
      },
      "execution_count": null,
      "outputs": []
    },
    {
      "cell_type": "code",
      "source": [
        "data_raw['predicted_rating list'] = pp(data_raw['predicted_rating'])"
      ],
      "metadata": {
        "id": "ohmnU4sKRULJ"
      },
      "execution_count": null,
      "outputs": []
    },
    {
      "cell_type": "code",
      "source": [
        "data_raw"
      ],
      "metadata": {
        "colab": {
          "base_uri": "https://localhost:8080/",
          "height": 423
        },
        "id": "iuV6mUR2RSpt",
        "outputId": "7653db8c-fd76-4dfd-d2af-aa19a6475e9e"
      },
      "execution_count": null,
      "outputs": [
        {
          "output_type": "execute_result",
          "data": {
            "text/plain": [
              "     our rating  predicted_rating our rating list predicted_rating list\n",
              "0             2                 0    [0, 0, 1, 0]          [0, 1, 0, 0]\n",
              "1             3                 0    [0, 0, 0, 1]          [0, 1, 0, 0]\n",
              "2             0                 0    [0, 1, 0, 0]          [0, 1, 0, 0]\n",
              "3             0                 0    [0, 1, 0, 0]          [0, 1, 0, 0]\n",
              "4             0                 0    [0, 1, 0, 0]          [0, 1, 0, 0]\n",
              "..          ...               ...             ...                   ...\n",
              "607           0                 0    [0, 1, 0, 0]          [0, 1, 0, 0]\n",
              "608           3                 0    [0, 0, 0, 1]          [0, 1, 0, 0]\n",
              "609           1                 0    [1, 0, 0, 0]          [0, 1, 0, 0]\n",
              "610           0                 0    [0, 1, 0, 0]          [0, 1, 0, 0]\n",
              "611           1                 1    [1, 0, 0, 0]          [1, 0, 0, 0]\n",
              "\n",
              "[612 rows x 4 columns]"
            ],
            "text/html": [
              "\n",
              "  <div id=\"df-164e8d4a-787a-4b40-a1af-52ee0563a34a\">\n",
              "    <div class=\"colab-df-container\">\n",
              "      <div>\n",
              "<style scoped>\n",
              "    .dataframe tbody tr th:only-of-type {\n",
              "        vertical-align: middle;\n",
              "    }\n",
              "\n",
              "    .dataframe tbody tr th {\n",
              "        vertical-align: top;\n",
              "    }\n",
              "\n",
              "    .dataframe thead th {\n",
              "        text-align: right;\n",
              "    }\n",
              "</style>\n",
              "<table border=\"1\" class=\"dataframe\">\n",
              "  <thead>\n",
              "    <tr style=\"text-align: right;\">\n",
              "      <th></th>\n",
              "      <th>our rating</th>\n",
              "      <th>predicted_rating</th>\n",
              "      <th>our rating list</th>\n",
              "      <th>predicted_rating list</th>\n",
              "    </tr>\n",
              "  </thead>\n",
              "  <tbody>\n",
              "    <tr>\n",
              "      <th>0</th>\n",
              "      <td>2</td>\n",
              "      <td>0</td>\n",
              "      <td>[0, 0, 1, 0]</td>\n",
              "      <td>[0, 1, 0, 0]</td>\n",
              "    </tr>\n",
              "    <tr>\n",
              "      <th>1</th>\n",
              "      <td>3</td>\n",
              "      <td>0</td>\n",
              "      <td>[0, 0, 0, 1]</td>\n",
              "      <td>[0, 1, 0, 0]</td>\n",
              "    </tr>\n",
              "    <tr>\n",
              "      <th>2</th>\n",
              "      <td>0</td>\n",
              "      <td>0</td>\n",
              "      <td>[0, 1, 0, 0]</td>\n",
              "      <td>[0, 1, 0, 0]</td>\n",
              "    </tr>\n",
              "    <tr>\n",
              "      <th>3</th>\n",
              "      <td>0</td>\n",
              "      <td>0</td>\n",
              "      <td>[0, 1, 0, 0]</td>\n",
              "      <td>[0, 1, 0, 0]</td>\n",
              "    </tr>\n",
              "    <tr>\n",
              "      <th>4</th>\n",
              "      <td>0</td>\n",
              "      <td>0</td>\n",
              "      <td>[0, 1, 0, 0]</td>\n",
              "      <td>[0, 1, 0, 0]</td>\n",
              "    </tr>\n",
              "    <tr>\n",
              "      <th>...</th>\n",
              "      <td>...</td>\n",
              "      <td>...</td>\n",
              "      <td>...</td>\n",
              "      <td>...</td>\n",
              "    </tr>\n",
              "    <tr>\n",
              "      <th>607</th>\n",
              "      <td>0</td>\n",
              "      <td>0</td>\n",
              "      <td>[0, 1, 0, 0]</td>\n",
              "      <td>[0, 1, 0, 0]</td>\n",
              "    </tr>\n",
              "    <tr>\n",
              "      <th>608</th>\n",
              "      <td>3</td>\n",
              "      <td>0</td>\n",
              "      <td>[0, 0, 0, 1]</td>\n",
              "      <td>[0, 1, 0, 0]</td>\n",
              "    </tr>\n",
              "    <tr>\n",
              "      <th>609</th>\n",
              "      <td>1</td>\n",
              "      <td>0</td>\n",
              "      <td>[1, 0, 0, 0]</td>\n",
              "      <td>[0, 1, 0, 0]</td>\n",
              "    </tr>\n",
              "    <tr>\n",
              "      <th>610</th>\n",
              "      <td>0</td>\n",
              "      <td>0</td>\n",
              "      <td>[0, 1, 0, 0]</td>\n",
              "      <td>[0, 1, 0, 0]</td>\n",
              "    </tr>\n",
              "    <tr>\n",
              "      <th>611</th>\n",
              "      <td>1</td>\n",
              "      <td>1</td>\n",
              "      <td>[1, 0, 0, 0]</td>\n",
              "      <td>[1, 0, 0, 0]</td>\n",
              "    </tr>\n",
              "  </tbody>\n",
              "</table>\n",
              "<p>612 rows × 4 columns</p>\n",
              "</div>\n",
              "      <button class=\"colab-df-convert\" onclick=\"convertToInteractive('df-164e8d4a-787a-4b40-a1af-52ee0563a34a')\"\n",
              "              title=\"Convert this dataframe to an interactive table.\"\n",
              "              style=\"display:none;\">\n",
              "        \n",
              "  <svg xmlns=\"http://www.w3.org/2000/svg\" height=\"24px\"viewBox=\"0 0 24 24\"\n",
              "       width=\"24px\">\n",
              "    <path d=\"M0 0h24v24H0V0z\" fill=\"none\"/>\n",
              "    <path d=\"M18.56 5.44l.94 2.06.94-2.06 2.06-.94-2.06-.94-.94-2.06-.94 2.06-2.06.94zm-11 1L8.5 8.5l.94-2.06 2.06-.94-2.06-.94L8.5 2.5l-.94 2.06-2.06.94zm10 10l.94 2.06.94-2.06 2.06-.94-2.06-.94-.94-2.06-.94 2.06-2.06.94z\"/><path d=\"M17.41 7.96l-1.37-1.37c-.4-.4-.92-.59-1.43-.59-.52 0-1.04.2-1.43.59L10.3 9.45l-7.72 7.72c-.78.78-.78 2.05 0 2.83L4 21.41c.39.39.9.59 1.41.59.51 0 1.02-.2 1.41-.59l7.78-7.78 2.81-2.81c.8-.78.8-2.07 0-2.86zM5.41 20L4 18.59l7.72-7.72 1.47 1.35L5.41 20z\"/>\n",
              "  </svg>\n",
              "      </button>\n",
              "      \n",
              "  <style>\n",
              "    .colab-df-container {\n",
              "      display:flex;\n",
              "      flex-wrap:wrap;\n",
              "      gap: 12px;\n",
              "    }\n",
              "\n",
              "    .colab-df-convert {\n",
              "      background-color: #E8F0FE;\n",
              "      border: none;\n",
              "      border-radius: 50%;\n",
              "      cursor: pointer;\n",
              "      display: none;\n",
              "      fill: #1967D2;\n",
              "      height: 32px;\n",
              "      padding: 0 0 0 0;\n",
              "      width: 32px;\n",
              "    }\n",
              "\n",
              "    .colab-df-convert:hover {\n",
              "      background-color: #E2EBFA;\n",
              "      box-shadow: 0px 1px 2px rgba(60, 64, 67, 0.3), 0px 1px 3px 1px rgba(60, 64, 67, 0.15);\n",
              "      fill: #174EA6;\n",
              "    }\n",
              "\n",
              "    [theme=dark] .colab-df-convert {\n",
              "      background-color: #3B4455;\n",
              "      fill: #D2E3FC;\n",
              "    }\n",
              "\n",
              "    [theme=dark] .colab-df-convert:hover {\n",
              "      background-color: #434B5C;\n",
              "      box-shadow: 0px 1px 3px 1px rgba(0, 0, 0, 0.15);\n",
              "      filter: drop-shadow(0px 1px 2px rgba(0, 0, 0, 0.3));\n",
              "      fill: #FFFFFF;\n",
              "    }\n",
              "  </style>\n",
              "\n",
              "      <script>\n",
              "        const buttonEl =\n",
              "          document.querySelector('#df-164e8d4a-787a-4b40-a1af-52ee0563a34a button.colab-df-convert');\n",
              "        buttonEl.style.display =\n",
              "          google.colab.kernel.accessAllowed ? 'block' : 'none';\n",
              "\n",
              "        async function convertToInteractive(key) {\n",
              "          const element = document.querySelector('#df-164e8d4a-787a-4b40-a1af-52ee0563a34a');\n",
              "          const dataTable =\n",
              "            await google.colab.kernel.invokeFunction('convertToInteractive',\n",
              "                                                     [key], {});\n",
              "          if (!dataTable) return;\n",
              "\n",
              "          const docLinkHtml = 'Like what you see? Visit the ' +\n",
              "            '<a target=\"_blank\" href=https://colab.research.google.com/notebooks/data_table.ipynb>data table notebook</a>'\n",
              "            + ' to learn more about interactive tables.';\n",
              "          element.innerHTML = '';\n",
              "          dataTable['output_type'] = 'display_data';\n",
              "          await google.colab.output.renderOutput(dataTable, element);\n",
              "          const docLink = document.createElement('div');\n",
              "          docLink.innerHTML = docLinkHtml;\n",
              "          element.appendChild(docLink);\n",
              "        }\n",
              "      </script>\n",
              "    </div>\n",
              "  </div>\n",
              "  "
            ]
          },
          "metadata": {},
          "execution_count": 35
        }
      ]
    },
    {
      "cell_type": "code",
      "source": [
        "# Our vectorized labels\n",
        "y_testC = np.array([np.array(val) for val in data_raw['our rating list']])\n",
        "y_trainC = np.array([np.array(val) for val in data_raw['predicted_rating list']])"
      ],
      "metadata": {
        "id": "TkXFokzcRlUk"
      },
      "execution_count": null,
      "outputs": []
    },
    {
      "cell_type": "code",
      "source": [
        "import re, string, unicodedata\n",
        "import inflect\n",
        "from nltk import word_tokenize, sent_tokenize\n",
        "from nltk.corpus import stopwords\n",
        "from nltk.stem import LancasterStemmer, WordNetLemmatizer\n",
        "from sklearn.feature_extraction.text import TfidfVectorizer, CountVectorizer\n",
        "from sklearn.feature_extraction.text import TfidfTransformer\n",
        "from sklearn import tree\n",
        "from sklearn import linear_model, naive_bayes, metrics, svm\n",
        "from sklearn.model_selection import train_test_split\n",
        "from sklearn.metrics import accuracy_score,classification_report,f1_score,confusion_matrix,roc_curve\n",
        "from sklearn.ensemble import RandomForestClassifier\n",
        "from sklearn.neighbors import KNeighborsClassifier\n",
        "from sklearn.linear_model import SGDClassifier\n",
        "from sklearn.ensemble import GradientBoostingClassifier\n",
        "from sklearn.neighbors import NearestCentroid\n",
        "from sklearn.model_selection import GridSearchCV\n",
        "import xgboost\n",
        "from collections import Counter\n",
        "#Function to create ROC curve\n",
        "import matplotlib.pyplot as plt\n",
        "def plot_roc_curve(fpr,tpr):\n",
        "    plt.plot([0,1],[0,1],color='darkblue',label='Guessing',linestyle='--')\n",
        "\n",
        "    plt.plot(fpr,tpr,color='orange',label='ROC')\n",
        "    plt.xlabel('False Positve Rate')\n",
        "    plt.ylabel('True Positive Rate')\n",
        "    plt.title('Area Under ROC curve')\n",
        "    plt.show()\n",
        "import numpy as np\n",
        "import matplotlib.pyplot as plt\n",
        "import seaborn as sns\n",
        "\n",
        "def make_confusion_matrix(cf,\n",
        "                          group_names=None,\n",
        "                          categories='auto',\n",
        "                          count=True,\n",
        "                          percent=True,\n",
        "                          cbar=True,\n",
        "                          xyticks=True,\n",
        "                          xyplotlabels=True,\n",
        "                          sum_stats=True,\n",
        "                          figsize=None,\n",
        "                          cmap='Blues',\n",
        "                          title=None):\n",
        "    '''\n",
        "    This function will make a pretty plot of an sklearn Confusion Matrix cm using a Seaborn heatmap visualization.\n",
        "    Arguments\n",
        "    ---------\n",
        "    cf:            confusion matrix to be passed in\n",
        "    group_names:   List of strings that represent the labels row by row to be shown in each square.\n",
        "    categories:    List of strings containing the categories to be displayed on the x,y axis. Default is 'auto'\n",
        "    count:         If True, show the raw number in the confusion matrix. Default is True.\n",
        "    normalize:     If True, show the proportions for each category. Default is True.\n",
        "    cbar:          If True, show the color bar. The cbar values are based off the values in the confusion matrix.\n",
        "                   Default is True.\n",
        "    xyticks:       If True, show x and y ticks. Default is True.\n",
        "    xyplotlabels:  If True, show 'True Label' and 'Predicted Label' on the figure. Default is True.\n",
        "    sum_stats:     If True, display summary statistics below the figure. Default is True.\n",
        "    figsize:       Tuple representing the figure size. Default will be the matplotlib rcParams value.\n",
        "    cmap:          Colormap of the values displayed from matplotlib.pyplot.cm. Default is 'Blues'\n",
        "                   See http://matplotlib.org/examples/color/colormaps_reference.html\n",
        "                   \n",
        "    title:         Title for the heatmap. Default is None.\n",
        "    '''\n",
        "\n",
        "\n",
        "    # CODE TO GENERATE TEXT INSIDE EACH SQUARE\n",
        "    blanks = ['' for i in range(cf.size)]\n",
        "\n",
        "    if group_names and len(group_names)==cf.size:\n",
        "        group_labels = [\"{}\\n\".format(value) for value in group_names]\n",
        "    else:\n",
        "        group_labels = blanks\n",
        "\n",
        "    if count:\n",
        "        group_counts = [\"{0:0.0f}\\n\".format(value) for value in cf.flatten()]\n",
        "    else:\n",
        "        group_counts = blanks\n",
        "\n",
        "    if percent:\n",
        "        group_percentages = [\"{0:.2%}\".format(value) for value in cf.flatten()/np.sum(cf)]\n",
        "    else:\n",
        "        group_percentages = blanks\n",
        "\n",
        "    box_labels = [f\"{v1}{v2}{v3}\".strip() for v1, v2, v3 in zip(group_labels,group_counts,group_percentages)]\n",
        "    box_labels = np.asarray(box_labels).reshape(cf.shape[0],cf.shape[1])\n",
        "\n",
        "\n",
        "    # CODE TO GENERATE SUMMARY STATISTICS & TEXT FOR SUMMARY STATS\n",
        "    if sum_stats:\n",
        "        #Accuracy is sum of diagonal divided by total observations\n",
        "        accuracy  = (np.trace(cf) / float(np.sum(cf))) * 100\n",
        "\n",
        "        #if it is a binary confusion matrix, show some more stats\n",
        "        if len(cf)==2:\n",
        "            #Metrics for Binary Confusion Matrices\n",
        "            precision = cf[1,1] / sum(cf[:,1])\n",
        "            recall    = cf[1,1] / sum(cf[1,:])\n",
        "            f1_score  = 2*precision*recall / (precision + recall)\n",
        "            stats_text = \"\\n\\nAccuracy={:0.2f} %\\nPrecision={:0.3f}\\nRecall={:0.3f}\\nF1 Score={:0.3f}\".format(\n",
        "                accuracy,precision,recall,f1_score)\n",
        "        else:\n",
        "            stats_text = \"\\n\\nAccuracy={:0.3f}\".format(accuracy)\n",
        "    else:\n",
        "        stats_text = \"\"\n",
        "\n",
        "\n",
        "    # SET FIGURE PARAMETERS ACCORDING TO OTHER ARGUMENTS\n",
        "    if figsize==None:\n",
        "        #Get default figure size if not set\n",
        "        figsize = plt.rcParams.get('figure.figsize')\n",
        "\n",
        "    if xyticks==False:\n",
        "        #Do not show categories if xyticks is False\n",
        "        categories=False\n",
        "\n",
        "\n",
        "    # MAKE THE HEATMAP VISUALIZATION\n",
        "    plt.figure(figsize=figsize)\n",
        "    sns.heatmap(cf,annot=box_labels,fmt=\"\",cmap=cmap,cbar=cbar,xticklabels=categories,yticklabels=categories)\n",
        "\n",
        "    if xyplotlabels:\n",
        "        plt.ylabel('True label')\n",
        "        plt.xlabel('Predicted label' + stats_text)\n",
        "    else:\n",
        "        plt.xlabel(stats_text)\n",
        "    \n",
        "    if title:\n",
        "        plt.title(title)"
      ],
      "metadata": {
        "id": "FMf3UQi1OzlD"
      },
      "execution_count": null,
      "outputs": []
    },
    {
      "cell_type": "code",
      "source": [
        "data_raw"
      ],
      "metadata": {
        "colab": {
          "base_uri": "https://localhost:8080/",
          "height": 423
        },
        "id": "LFz-KR-GSbFS",
        "outputId": "a76c2e86-2270-4d8d-8eb0-723952999d04"
      },
      "execution_count": null,
      "outputs": [
        {
          "output_type": "execute_result",
          "data": {
            "text/plain": [
              "     our rating  predicted_rating our rating list predicted_rating list\n",
              "0             2                 0    [0, 0, 1, 0]          [0, 1, 0, 0]\n",
              "1             3                 0    [0, 0, 0, 1]          [0, 1, 0, 0]\n",
              "2             0                 0    [0, 1, 0, 0]          [0, 1, 0, 0]\n",
              "3             0                 0    [0, 1, 0, 0]          [0, 1, 0, 0]\n",
              "4             0                 0    [0, 1, 0, 0]          [0, 1, 0, 0]\n",
              "..          ...               ...             ...                   ...\n",
              "607           0                 0    [0, 1, 0, 0]          [0, 1, 0, 0]\n",
              "608           3                 0    [0, 0, 0, 1]          [0, 1, 0, 0]\n",
              "609           1                 0    [1, 0, 0, 0]          [0, 1, 0, 0]\n",
              "610           0                 0    [0, 1, 0, 0]          [0, 1, 0, 0]\n",
              "611           1                 1    [1, 0, 0, 0]          [1, 0, 0, 0]\n",
              "\n",
              "[612 rows x 4 columns]"
            ],
            "text/html": [
              "\n",
              "  <div id=\"df-7d51f39a-4b5f-4a7f-8b19-c9b42ce58c81\">\n",
              "    <div class=\"colab-df-container\">\n",
              "      <div>\n",
              "<style scoped>\n",
              "    .dataframe tbody tr th:only-of-type {\n",
              "        vertical-align: middle;\n",
              "    }\n",
              "\n",
              "    .dataframe tbody tr th {\n",
              "        vertical-align: top;\n",
              "    }\n",
              "\n",
              "    .dataframe thead th {\n",
              "        text-align: right;\n",
              "    }\n",
              "</style>\n",
              "<table border=\"1\" class=\"dataframe\">\n",
              "  <thead>\n",
              "    <tr style=\"text-align: right;\">\n",
              "      <th></th>\n",
              "      <th>our rating</th>\n",
              "      <th>predicted_rating</th>\n",
              "      <th>our rating list</th>\n",
              "      <th>predicted_rating list</th>\n",
              "    </tr>\n",
              "  </thead>\n",
              "  <tbody>\n",
              "    <tr>\n",
              "      <th>0</th>\n",
              "      <td>2</td>\n",
              "      <td>0</td>\n",
              "      <td>[0, 0, 1, 0]</td>\n",
              "      <td>[0, 1, 0, 0]</td>\n",
              "    </tr>\n",
              "    <tr>\n",
              "      <th>1</th>\n",
              "      <td>3</td>\n",
              "      <td>0</td>\n",
              "      <td>[0, 0, 0, 1]</td>\n",
              "      <td>[0, 1, 0, 0]</td>\n",
              "    </tr>\n",
              "    <tr>\n",
              "      <th>2</th>\n",
              "      <td>0</td>\n",
              "      <td>0</td>\n",
              "      <td>[0, 1, 0, 0]</td>\n",
              "      <td>[0, 1, 0, 0]</td>\n",
              "    </tr>\n",
              "    <tr>\n",
              "      <th>3</th>\n",
              "      <td>0</td>\n",
              "      <td>0</td>\n",
              "      <td>[0, 1, 0, 0]</td>\n",
              "      <td>[0, 1, 0, 0]</td>\n",
              "    </tr>\n",
              "    <tr>\n",
              "      <th>4</th>\n",
              "      <td>0</td>\n",
              "      <td>0</td>\n",
              "      <td>[0, 1, 0, 0]</td>\n",
              "      <td>[0, 1, 0, 0]</td>\n",
              "    </tr>\n",
              "    <tr>\n",
              "      <th>...</th>\n",
              "      <td>...</td>\n",
              "      <td>...</td>\n",
              "      <td>...</td>\n",
              "      <td>...</td>\n",
              "    </tr>\n",
              "    <tr>\n",
              "      <th>607</th>\n",
              "      <td>0</td>\n",
              "      <td>0</td>\n",
              "      <td>[0, 1, 0, 0]</td>\n",
              "      <td>[0, 1, 0, 0]</td>\n",
              "    </tr>\n",
              "    <tr>\n",
              "      <th>608</th>\n",
              "      <td>3</td>\n",
              "      <td>0</td>\n",
              "      <td>[0, 0, 0, 1]</td>\n",
              "      <td>[0, 1, 0, 0]</td>\n",
              "    </tr>\n",
              "    <tr>\n",
              "      <th>609</th>\n",
              "      <td>1</td>\n",
              "      <td>0</td>\n",
              "      <td>[1, 0, 0, 0]</td>\n",
              "      <td>[0, 1, 0, 0]</td>\n",
              "    </tr>\n",
              "    <tr>\n",
              "      <th>610</th>\n",
              "      <td>0</td>\n",
              "      <td>0</td>\n",
              "      <td>[0, 1, 0, 0]</td>\n",
              "      <td>[0, 1, 0, 0]</td>\n",
              "    </tr>\n",
              "    <tr>\n",
              "      <th>611</th>\n",
              "      <td>1</td>\n",
              "      <td>1</td>\n",
              "      <td>[1, 0, 0, 0]</td>\n",
              "      <td>[1, 0, 0, 0]</td>\n",
              "    </tr>\n",
              "  </tbody>\n",
              "</table>\n",
              "<p>612 rows × 4 columns</p>\n",
              "</div>\n",
              "      <button class=\"colab-df-convert\" onclick=\"convertToInteractive('df-7d51f39a-4b5f-4a7f-8b19-c9b42ce58c81')\"\n",
              "              title=\"Convert this dataframe to an interactive table.\"\n",
              "              style=\"display:none;\">\n",
              "        \n",
              "  <svg xmlns=\"http://www.w3.org/2000/svg\" height=\"24px\"viewBox=\"0 0 24 24\"\n",
              "       width=\"24px\">\n",
              "    <path d=\"M0 0h24v24H0V0z\" fill=\"none\"/>\n",
              "    <path d=\"M18.56 5.44l.94 2.06.94-2.06 2.06-.94-2.06-.94-.94-2.06-.94 2.06-2.06.94zm-11 1L8.5 8.5l.94-2.06 2.06-.94-2.06-.94L8.5 2.5l-.94 2.06-2.06.94zm10 10l.94 2.06.94-2.06 2.06-.94-2.06-.94-.94-2.06-.94 2.06-2.06.94z\"/><path d=\"M17.41 7.96l-1.37-1.37c-.4-.4-.92-.59-1.43-.59-.52 0-1.04.2-1.43.59L10.3 9.45l-7.72 7.72c-.78.78-.78 2.05 0 2.83L4 21.41c.39.39.9.59 1.41.59.51 0 1.02-.2 1.41-.59l7.78-7.78 2.81-2.81c.8-.78.8-2.07 0-2.86zM5.41 20L4 18.59l7.72-7.72 1.47 1.35L5.41 20z\"/>\n",
              "  </svg>\n",
              "      </button>\n",
              "      \n",
              "  <style>\n",
              "    .colab-df-container {\n",
              "      display:flex;\n",
              "      flex-wrap:wrap;\n",
              "      gap: 12px;\n",
              "    }\n",
              "\n",
              "    .colab-df-convert {\n",
              "      background-color: #E8F0FE;\n",
              "      border: none;\n",
              "      border-radius: 50%;\n",
              "      cursor: pointer;\n",
              "      display: none;\n",
              "      fill: #1967D2;\n",
              "      height: 32px;\n",
              "      padding: 0 0 0 0;\n",
              "      width: 32px;\n",
              "    }\n",
              "\n",
              "    .colab-df-convert:hover {\n",
              "      background-color: #E2EBFA;\n",
              "      box-shadow: 0px 1px 2px rgba(60, 64, 67, 0.3), 0px 1px 3px 1px rgba(60, 64, 67, 0.15);\n",
              "      fill: #174EA6;\n",
              "    }\n",
              "\n",
              "    [theme=dark] .colab-df-convert {\n",
              "      background-color: #3B4455;\n",
              "      fill: #D2E3FC;\n",
              "    }\n",
              "\n",
              "    [theme=dark] .colab-df-convert:hover {\n",
              "      background-color: #434B5C;\n",
              "      box-shadow: 0px 1px 3px 1px rgba(0, 0, 0, 0.15);\n",
              "      filter: drop-shadow(0px 1px 2px rgba(0, 0, 0, 0.3));\n",
              "      fill: #FFFFFF;\n",
              "    }\n",
              "  </style>\n",
              "\n",
              "      <script>\n",
              "        const buttonEl =\n",
              "          document.querySelector('#df-7d51f39a-4b5f-4a7f-8b19-c9b42ce58c81 button.colab-df-convert');\n",
              "        buttonEl.style.display =\n",
              "          google.colab.kernel.accessAllowed ? 'block' : 'none';\n",
              "\n",
              "        async function convertToInteractive(key) {\n",
              "          const element = document.querySelector('#df-7d51f39a-4b5f-4a7f-8b19-c9b42ce58c81');\n",
              "          const dataTable =\n",
              "            await google.colab.kernel.invokeFunction('convertToInteractive',\n",
              "                                                     [key], {});\n",
              "          if (!dataTable) return;\n",
              "\n",
              "          const docLinkHtml = 'Like what you see? Visit the ' +\n",
              "            '<a target=\"_blank\" href=https://colab.research.google.com/notebooks/data_table.ipynb>data table notebook</a>'\n",
              "            + ' to learn more about interactive tables.';\n",
              "          element.innerHTML = '';\n",
              "          dataTable['output_type'] = 'display_data';\n",
              "          await google.colab.output.renderOutput(dataTable, element);\n",
              "          const docLink = document.createElement('div');\n",
              "          docLink.innerHTML = docLinkHtml;\n",
              "          element.appendChild(docLink);\n",
              "        }\n",
              "      </script>\n",
              "    </div>\n",
              "  </div>\n",
              "  "
            ]
          },
          "metadata": {},
          "execution_count": 40
        }
      ]
    },
    {
      "cell_type": "code",
      "source": [
        "y_trainC.argmax(axis=1)"
      ],
      "metadata": {
        "colab": {
          "base_uri": "https://localhost:8080/"
        },
        "id": "ZYjQpzE3PV4J",
        "outputId": "54d36712-186a-4f36-c9bc-3b6e9154688d"
      },
      "execution_count": null,
      "outputs": [
        {
          "output_type": "execute_result",
          "data": {
            "text/plain": [
              "array([1, 1, 1, 1, 1, 1, 1, 1, 1, 1, 1, 1, 3, 1, 1, 1, 1, 1, 1, 1, 1, 1,\n",
              "       2, 3, 2, 1, 1, 0, 0, 2, 2, 2, 2, 2, 2, 2, 1, 1, 1, 0, 1, 1, 1, 2,\n",
              "       1, 1, 2, 3, 2, 1, 1, 1, 1, 1, 2, 2, 2, 0, 1, 1, 1, 1, 1, 1, 2, 1,\n",
              "       3, 2, 1, 1, 1, 1, 1, 1, 2, 2, 2, 1, 2, 1, 0, 1, 1, 1, 1, 1, 1, 1,\n",
              "       2, 2, 1, 1, 1, 1, 1, 2, 1, 1, 1, 1, 1, 1, 2, 1, 1, 1, 1, 1, 1, 1,\n",
              "       1, 1, 1, 1, 1, 2, 1, 1, 2, 1, 2, 1, 1, 1, 1, 1, 1, 1, 1, 1, 1, 2,\n",
              "       1, 1, 1, 1, 1, 1, 1, 1, 1, 1, 2, 2, 1, 1, 1, 1, 1, 1, 1, 1, 2, 1,\n",
              "       1, 1, 1, 1, 1, 2, 1, 1, 1, 1, 1, 1, 1, 1, 1, 1, 1, 1, 2, 1, 1, 1,\n",
              "       1, 1, 1, 1, 1, 1, 1, 1, 1, 1, 1, 2, 1, 1, 1, 3, 1, 0, 1, 1, 1, 1,\n",
              "       1, 2, 0, 1, 1, 1, 1, 1, 1, 1, 0, 1, 3, 1, 1, 0, 2, 1, 1, 1, 0, 1,\n",
              "       1, 1, 0, 0, 0, 2, 2, 1, 1, 1, 2, 2, 0, 1, 1, 0, 1, 1, 1, 1, 1, 2,\n",
              "       1, 1, 1, 1, 2, 3, 1, 1, 2, 1, 2, 1, 3, 1, 1, 1, 1, 1, 1, 1, 1, 1,\n",
              "       1, 0, 1, 1, 1, 2, 1, 1, 1, 2, 1, 1, 0, 1, 1, 1, 1, 1, 0, 2, 1, 3,\n",
              "       2, 2, 1, 2, 2, 2, 1, 1, 2, 2, 1, 1, 0, 2, 1, 1, 0, 2, 1, 2, 1, 0,\n",
              "       3, 2, 0, 1, 1, 2, 0, 0, 1, 2, 2, 1, 1, 0, 1, 2, 2, 1, 1, 1, 1, 1,\n",
              "       1, 2, 1, 2, 1, 1, 1, 1, 1, 1, 1, 1, 1, 1, 1, 1, 1, 1, 2, 1, 1, 1,\n",
              "       1, 2, 1, 1, 1, 1, 1, 1, 1, 1, 1, 1, 2, 2, 1, 1, 1, 1, 1, 1, 1, 1,\n",
              "       1, 2, 1, 1, 2, 1, 1, 1, 1, 1, 1, 1, 1, 1, 1, 1, 1, 1, 1, 1, 1, 1,\n",
              "       1, 1, 1, 1, 1, 1, 1, 1, 2, 3, 1, 1, 1, 1, 1, 1, 1, 1, 1, 1, 1, 1,\n",
              "       1, 1, 1, 1, 1, 1, 1, 1, 2, 1, 1, 1, 1, 1, 1, 2, 1, 2, 1, 1, 1, 1,\n",
              "       3, 0, 0, 1, 1, 2, 1, 1, 1, 1, 1, 1, 3, 2, 1, 1, 1, 1, 2, 0, 1, 3,\n",
              "       1, 2, 1, 1, 0, 0, 2, 0, 2, 1, 1, 3, 1, 1, 3, 1, 0, 2, 1, 1, 1, 0,\n",
              "       1, 2, 1, 2, 1, 2, 3, 1, 2, 2, 1, 1, 1, 1, 3, 1, 2, 1, 2, 2, 1, 1,\n",
              "       1, 2, 2, 1, 2, 0, 1, 1, 0, 1, 0, 1, 2, 3, 2, 1, 1, 1, 3, 1, 1, 0,\n",
              "       0, 3, 2, 2, 1, 2, 1, 1, 0, 1, 1, 1, 2, 1, 1, 1, 1, 1, 2, 2, 1, 1,\n",
              "       3, 1, 1, 1, 1, 1, 1, 1, 1, 3, 1, 1, 1, 1, 1, 1, 2, 1, 1, 1, 1, 0,\n",
              "       1, 1, 1, 1, 1, 2, 1, 3, 0, 1, 1, 1, 1, 0, 0, 0, 1, 3, 0, 1, 1, 1,\n",
              "       1, 1, 2, 1, 1, 0, 3, 1, 1, 1, 0, 1, 1, 1, 1, 1, 1, 0])"
            ]
          },
          "metadata": {},
          "execution_count": 39
        }
      ]
    },
    {
      "cell_type": "code",
      "source": [
        "from sklearn.metrics import accuracy_score,classification_report,f1_score,confusion_matrix,roc_curve\n",
        "print(classification_report(y_testC.argmax(axis=1), y_trainC.argmax(axis=1)))\n",
        "cf_1 =confusion_matrix(y_testC.argmax(axis=1), y_trainC.argmax(axis=1))\n",
        "# print(cf_1)\n",
        "print()\n",
        "labels = ['True Neg','False Pos','False Neg','True Pos']\n",
        "categories = ['true','false', 'partially_false', 'other']\n",
        "make_confusion_matrix(cf_1, \n",
        "                      group_names=labels,\n",
        "                      categories=categories, \n",
        "                      cmap='Blues',figsize=(5,5),cbar=False,title='AWD_LSTM (Fast.ai)')"
      ],
      "metadata": {
        "colab": {
          "base_uri": "https://localhost:8080/",
          "height": 582
        },
        "id": "s0c4f7Z9PRw1",
        "outputId": "79b779d1-d2ba-433d-ce37-42ba5c0998f5"
      },
      "execution_count": null,
      "outputs": [
        {
          "output_type": "stream",
          "name": "stdout",
          "text": [
            "              precision    recall  f1-score   support\n",
            "\n",
            "           0       0.75      0.17      0.28       210\n",
            "           1       0.58      0.80      0.68       315\n",
            "           2       0.10      0.18      0.12        56\n",
            "           3       0.08      0.06      0.07        31\n",
            "\n",
            "    accuracy                           0.49       612\n",
            "   macro avg       0.38      0.30      0.29       612\n",
            "weighted avg       0.57      0.49      0.46       612\n",
            "\n",
            "\n"
          ]
        },
        {
          "output_type": "display_data",
          "data": {
            "text/plain": [
              "<Figure size 360x360 with 1 Axes>"
            ],
            "image/png": "[encoded data removed]"
          },
          "metadata": {
            "needs_background": "light"
          }
        }
      ]
    },
    {
      "cell_type": "code",
      "execution_count": null,
      "metadata": {
        "colab": {
          "base_uri": "https://localhost:8080/"
        },
        "id": "McI3zv9HB6hQ",
        "outputId": "cdb67bf6-70c5-4bb6-b473-32ce4875c383"
      },
      "outputs": [
        {
          "name": "stdout",
          "output_type": "stream",
          "text": [
            "  adding: subtask3_english_DIU_SpeedOut.tsv (deflated 64%)\n"
          ]
        }
      ],
      "source": [
        "teamName = 'DIU_SpeedOut'\n",
        "fileName = f'subtask3_english_{teamName}'\n",
        "data_raw.to_csv(f'{fileName}.tsv', sep='\\t', index=False)\n",
        "fileNameZip = f'{fileName}.zip'\n",
        "fileNameTsv = f'{fileName}.tsv'\n",
        "!zip $fileNameZip $fileNameTsv\n",
        "!cp /content/subtask3_english_DIU_SpeedOut.zip /content/drives/clef2020/submission/2\n",
        "!rm -rf /content/subtask3_english_DIU_SpeedOut.tsv /content/subtask3_english_DIU_SpeedOut.zip"
      ]
    }
  ],
  "metadata": {
    "colab": {
      "name": "multilabel_text.ipynb",
      "provenance": [],
      "collapsed_sections": [],
      "include_colab_link": true
    },
    "kernelspec": {
      "display_name": "Python 3",
      "name": "python3"
    },
    "language_info": {
      "name": "python"
    },
    "accelerator": "GPU"
  },
  "nbformat": 4,
  "nbformat_minor": 0
}