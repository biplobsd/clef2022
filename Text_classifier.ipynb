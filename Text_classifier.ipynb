{
  "nbformat": 4,
  "nbformat_minor": 0,
  "metadata": {
    "colab": {
      "name": "Text_classifier.ipynb",
      "provenance": [],
      "collapsed_sections": [
        "Rqf75GLS044u",
        "s5eQnycj06qV",
        "OikKt1t5zFi7",
        "Cx8TevSDyAcC",
        "TX4KhNG_xjFu",
        "w2eubf3YxgQb"
      ],
      "include_colab_link": true
    },
    "kernelspec": {
      "name": "python3",
      "display_name": "Python 3"
    },
    "accelerator": "GPU"
  },
  "cells": [
    {
      "cell_type": "markdown",
      "metadata": {
        "id": "view-in-github",
        "colab_type": "text"
      },
      "source": [
        "<a href=\"https://colab.research.google.com/github/biplobsd/clef2022/blob/main/Text_classifier.ipynb\" target=\"_parent\"><img src=\"https://colab.research.google.com/assets/colab-badge.svg\" alt=\"Open In Colab\"/></a>"
      ]
    },
    {
      "cell_type": "markdown",
      "source": [
        "# **CLef 2022 -  CheckThat!** DIU_SpeedOut\n",
        "Task 3 - Experiment -\n",
        "Fake News Detection\n",
        "<br><br><br>\n",
        "\n",
        "Read More : https://sites.google.com/view/clef2022-checkthat/tasks/task-3-fake-news-detection?authuser=0\n",
        "<br>\n",
        "Repo: https://github.com/biplobsd/clef2022\n",
        "<br>\n",
        "Source: https://github.com/kshashank231/text-classification\n"
      ],
      "metadata": {
        "id": "BNJ8apT0K2bM"
      }
    },
    {
      "cell_type": "markdown",
      "metadata": {
        "id": "4Ns4bITPdk3m"
      },
      "source": [
        "## Libraries and Functions"
      ]
    },
    {
      "cell_type": "code",
      "source": [
        "!pip install scikit-plot"
      ],
      "metadata": {
        "id": "CTXJrmVzh2yo",
        "outputId": "4bcc9c8e-7d44-4018-8b33-2c0289b15ee0",
        "colab": {
          "base_uri": "https://localhost:8080/"
        }
      },
      "execution_count": null,
      "outputs": [
        {
          "output_type": "stream",
          "name": "stdout",
          "text": [
            "Collecting scikit-plot\n",
            "  Downloading scikit_plot-0.3.7-py3-none-any.whl (33 kB)\n",
            "Requirement already satisfied: scipy>=0.9 in /usr/local/lib/python3.7/dist-packages (from scikit-plot) (1.4.1)\n",
            "Requirement already satisfied: joblib>=0.10 in /usr/local/lib/python3.7/dist-packages (from scikit-plot) (1.1.0)\n",
            "Requirement already satisfied: scikit-learn>=0.18 in /usr/local/lib/python3.7/dist-packages (from scikit-plot) (1.0.2)\n",
            "Requirement already satisfied: matplotlib>=1.4.0 in /usr/local/lib/python3.7/dist-packages (from scikit-plot) (3.2.2)\n",
            "Requirement already satisfied: pyparsing!=2.0.4,!=2.1.2,!=2.1.6,>=2.0.1 in /usr/local/lib/python3.7/dist-packages (from matplotlib>=1.4.0->scikit-plot) (3.0.8)\n",
            "Requirement already satisfied: kiwisolver>=1.0.1 in /usr/local/lib/python3.7/dist-packages (from matplotlib>=1.4.0->scikit-plot) (1.4.2)\n",
            "Requirement already satisfied: numpy>=1.11 in /usr/local/lib/python3.7/dist-packages (from matplotlib>=1.4.0->scikit-plot) (1.21.6)\n",
            "Requirement already satisfied: cycler>=0.10 in /usr/local/lib/python3.7/dist-packages (from matplotlib>=1.4.0->scikit-plot) (0.11.0)\n",
            "Requirement already satisfied: python-dateutil>=2.1 in /usr/local/lib/python3.7/dist-packages (from matplotlib>=1.4.0->scikit-plot) (2.8.2)\n",
            "Requirement already satisfied: typing-extensions in /usr/local/lib/python3.7/dist-packages (from kiwisolver>=1.0.1->matplotlib>=1.4.0->scikit-plot) (4.2.0)\n",
            "Requirement already satisfied: six>=1.5 in /usr/local/lib/python3.7/dist-packages (from python-dateutil>=2.1->matplotlib>=1.4.0->scikit-plot) (1.15.0)\n",
            "Requirement already satisfied: threadpoolctl>=2.0.0 in /usr/local/lib/python3.7/dist-packages (from scikit-learn>=0.18->scikit-plot) (3.1.0)\n",
            "Installing collected packages: scikit-plot\n",
            "Successfully installed scikit-plot-0.3.7\n"
          ]
        }
      ]
    },
    {
      "cell_type": "code",
      "metadata": {
        "id": "TXgAttn-puJG"
      },
      "source": [
        "import pandas as pd\n",
        "import string\n",
        "\n",
        "import nltk\n",
        "import scikitplot as skplt\n",
        "import matplotlib.pyplot as plt\n"
      ],
      "execution_count": null,
      "outputs": []
    },
    {
      "cell_type": "code",
      "metadata": {
        "id": "MPoVNOGUPQ37",
        "outputId": "be709a5a-a1c7-413a-f062-9c3e57688b4e",
        "colab": {
          "base_uri": "https://localhost:8080/"
        }
      },
      "source": [
        "nltk.download('stopwords')\n",
        "nltk.download('punkt')\n",
        "nltk.download('wordnet')"
      ],
      "execution_count": null,
      "outputs": [
        {
          "output_type": "stream",
          "name": "stdout",
          "text": [
            "[nltk_data] Downloading package stopwords to /root/nltk_data...\n",
            "[nltk_data]   Unzipping corpora/stopwords.zip.\n",
            "[nltk_data] Downloading package punkt to /root/nltk_data...\n",
            "[nltk_data]   Unzipping tokenizers/punkt.zip.\n",
            "[nltk_data] Downloading package wordnet to /root/nltk_data...\n",
            "[nltk_data]   Unzipping corpora/wordnet.zip.\n"
          ]
        },
        {
          "output_type": "execute_result",
          "data": {
            "text/plain": [
              "True"
            ]
          },
          "metadata": {},
          "execution_count": 3
        }
      ]
    },
    {
      "cell_type": "code",
      "metadata": {
        "id": "15vJ7D3m5ESX"
      },
      "source": [
        "import re, string, unicodedata\n",
        "import inflect\n",
        "from nltk import word_tokenize, sent_tokenize\n",
        "from nltk.corpus import stopwords\n",
        "from nltk.stem import LancasterStemmer, WordNetLemmatizer\n",
        "from sklearn.feature_extraction.text import TfidfVectorizer, CountVectorizer\n",
        "from sklearn.feature_extraction.text import TfidfTransformer\n",
        "from sklearn import tree\n",
        "from sklearn import linear_model, naive_bayes, metrics, svm\n",
        "from sklearn.model_selection import train_test_split\n",
        "from sklearn.metrics import accuracy_score,classification_report,f1_score,confusion_matrix,roc_curve\n",
        "from sklearn.ensemble import RandomForestClassifier\n",
        "from sklearn.neighbors import KNeighborsClassifier\n",
        "from sklearn.linear_model import SGDClassifier\n",
        "from sklearn.ensemble import GradientBoostingClassifier\n",
        "from sklearn.neighbors import NearestCentroid\n",
        "from sklearn.model_selection import GridSearchCV\n",
        "import xgboost\n",
        "from collections import Counter"
      ],
      "execution_count": null,
      "outputs": []
    },
    {
      "cell_type": "code",
      "metadata": {
        "id": "UGdNyHGfWcUY"
      },
      "source": [
        "#Function to create ROC curve\n",
        "import matplotlib.pyplot as plt\n",
        "def plot_roc_curve(fpr,tpr):\n",
        "    plt.plot([0,1],[0,1],color='darkblue',label='Guessing',linestyle='--')\n",
        "\n",
        "    plt.plot(fpr,tpr,color='orange',label='ROC')\n",
        "    plt.xlabel('False Positve Rate')\n",
        "    plt.ylabel('True Positive Rate')\n",
        "    plt.title('Area Under ROC curve')\n",
        "    plt.show()"
      ],
      "execution_count": null,
      "outputs": []
    },
    {
      "cell_type": "code",
      "metadata": {
        "id": "3o1TFVBkndQI"
      },
      "source": [
        "def norm_url(text):  \n",
        "  return re.sub(r'http\\S+|www.\\S+|pic.\\S+', 'someurl',text.lower())\n",
        "\n",
        "def norm_email(text):  \n",
        "  return re.sub(r'[a-zA-Z0-9_.+-]+@[a-zA-Z0-9-]+\\.[a-zA-Z0-9-.]+', 'someemail',text)\n",
        "\n",
        "def norm_tag(text):  \n",
        "  return re.sub(r'(?<=^|(?<=[^a-zA-Z0-9-_\\.]))@([A-Za-z]+[A-Za-z0-9-_]+)', 'somehand',text)\n",
        "\n",
        "def process_text(text):\n",
        "  token_words = nltk.word_tokenize(text)\n",
        "  return token_words\n",
        "\n",
        "def norm_numbers(words):\n",
        "  \"\"\"Replace all interger occurrences in list of tokenized words with somenumber\"\"\"\n",
        "  new_words = []\n",
        "  for word in words:\n",
        "      if word.isdigit():\n",
        "          new_word = 'somenumber'\n",
        "          new_words.append(new_word)\n",
        "      else:\n",
        "          new_words.append(word)\n",
        "  return new_words\n",
        "\n",
        "\n",
        "def remove_non_ascii(words):\n",
        "  \"\"\"Remove non-ASCII characters from list of tokenized words\"\"\"\n",
        "  new_words = []\n",
        "  for word in words:\n",
        "      new_word = unicodedata.normalize('NFKD', word).encode('ascii', 'ignore').decode('utf-8', 'ignore')\n",
        "      new_words.append(new_word)\n",
        "  return new_words\n",
        "\n",
        "def to_lowercase(words):\n",
        "  \"\"\"Convert all characters to lowercase from list of tokenized words\"\"\"\n",
        "  new_words = []\n",
        "  for word in words:\n",
        "      new_word = word.lower()\n",
        "      new_words.append(new_word)\n",
        "  return new_words\n",
        "\n",
        "\n",
        "def remove_punctuation(words):\n",
        "  \"\"\"Remove punctuation from list of tokenized words\"\"\"\n",
        "  new_words = []\n",
        "  for word in words:\n",
        "      new_word = re.sub(r'[^\\w\\s]', '', word)\n",
        "      if new_word != '':\n",
        "          new_words.append(new_word)\n",
        "  return new_words\n",
        "\n",
        "def replace_numbers(words):\n",
        "  \"\"\"Replace all interger occurrences in list of tokenized words with textual representation\"\"\"\n",
        "  p = inflect.engine()\n",
        "  new_words = []\n",
        "  for word in words:\n",
        "      if word.isdigit():\n",
        "          new_word = p.number_to_words(word)\n",
        "          new_words.append(new_word)\n",
        "      else:\n",
        "          new_words.append(word)\n",
        "  return new_words\n",
        "\n",
        "def remove_stopwords(words):\n",
        "  \"\"\"Remove stop words from list of tokenized words\"\"\"\n",
        "  new_words = []\n",
        "  for word in words:\n",
        "      if word not in stopwords.words('english'):\n",
        "          new_words.append(word)\n",
        "  return new_words\n",
        "\n",
        "def stem_words(words):\n",
        "  \"\"\"Stem words in list of tokenized words\"\"\"\n",
        "  stemmer = LancasterStemmer()\n",
        "  stems = []\n",
        "  for word in words:\n",
        "      stem = stemmer.stem(word)\n",
        "      stems.append(stem)\n",
        "  return stems\n",
        "\n",
        "def lemmatize_verbs(words):\n",
        "  \"\"\"Lemmatize verbs in list of tokenized words\"\"\"\n",
        "  lemmatizer = WordNetLemmatizer()\n",
        "  lemmas = []\n",
        "  for word in words:\n",
        "      lemma = lemmatizer.lemmatize(word, pos='v')\n",
        "      lemmas.append(lemma)\n",
        "  return lemmas\n",
        "\n",
        "def normalize(text):\n",
        "\n",
        "  words = process_text(text)\n",
        "  words = norm_numbers(words)\n",
        "  words = remove_non_ascii(words)\n",
        "  words = to_lowercase(words)\n",
        "  words = remove_punctuation(words)\n",
        "  words = replace_numbers(words)\n",
        "  words = remove_stopwords(words)\n",
        "  # words = stem_words(words)\n",
        "  words = lemmatize_verbs(words)\n",
        "  return words"
      ],
      "execution_count": null,
      "outputs": []
    },
    {
      "cell_type": "code",
      "metadata": {
        "id": "cWiLw39qEkLm"
      },
      "source": [
        "import numpy as np\n",
        "import matplotlib.pyplot as plt\n",
        "import seaborn as sns\n",
        "\n",
        "def make_confusion_matrix(cf,\n",
        "                          group_names=None,\n",
        "                          categories='auto',\n",
        "                          count=True,\n",
        "                          percent=True,\n",
        "                          cbar=True,\n",
        "                          xyticks=True,\n",
        "                          xyplotlabels=True,\n",
        "                          sum_stats=True,\n",
        "                          figsize=None,\n",
        "                          cmap='Blues',\n",
        "                          title=None):\n",
        "    '''\n",
        "    This function will make a pretty plot of an sklearn Confusion Matrix cm using a Seaborn heatmap visualization.\n",
        "    Arguments\n",
        "    ---------\n",
        "    cf:            confusion matrix to be passed in\n",
        "    group_names:   List of strings that represent the labels row by row to be shown in each square.\n",
        "    categories:    List of strings containing the categories to be displayed on the x,y axis. Default is 'auto'\n",
        "    count:         If True, show the raw number in the confusion matrix. Default is True.\n",
        "    normalize:     If True, show the proportions for each category. Default is True.\n",
        "    cbar:          If True, show the color bar. The cbar values are based off the values in the confusion matrix.\n",
        "                   Default is True.\n",
        "    xyticks:       If True, show x and y ticks. Default is True.\n",
        "    xyplotlabels:  If True, show 'True Label' and 'Predicted Label' on the figure. Default is True.\n",
        "    sum_stats:     If True, display summary statistics below the figure. Default is True.\n",
        "    figsize:       Tuple representing the figure size. Default will be the matplotlib rcParams value.\n",
        "    cmap:          Colormap of the values displayed from matplotlib.pyplot.cm. Default is 'Blues'\n",
        "                   See http://matplotlib.org/examples/color/colormaps_reference.html\n",
        "                   \n",
        "    title:         Title for the heatmap. Default is None.\n",
        "    '''\n",
        "\n",
        "\n",
        "    # CODE TO GENERATE TEXT INSIDE EACH SQUARE\n",
        "    blanks = ['' for i in range(cf.size)]\n",
        "\n",
        "    if group_names and len(group_names)==cf.size:\n",
        "        group_labels = [\"{}\\n\".format(value) for value in group_names]\n",
        "    else:\n",
        "        group_labels = blanks\n",
        "\n",
        "    if count:\n",
        "        group_counts = [\"{0:0.0f}\\n\".format(value) for value in cf.flatten()]\n",
        "    else:\n",
        "        group_counts = blanks\n",
        "\n",
        "    if percent:\n",
        "        group_percentages = [\"{0:.2%}\".format(value) for value in cf.flatten()/np.sum(cf)]\n",
        "    else:\n",
        "        group_percentages = blanks\n",
        "\n",
        "    box_labels = [f\"{v1}{v2}{v3}\".strip() for v1, v2, v3 in zip(group_labels,group_counts,group_percentages)]\n",
        "    box_labels = np.asarray(box_labels).reshape(cf.shape[0],cf.shape[1])\n",
        "\n",
        "\n",
        "    # CODE TO GENERATE SUMMARY STATISTICS & TEXT FOR SUMMARY STATS\n",
        "    if sum_stats:\n",
        "        #Accuracy is sum of diagonal divided by total observations\n",
        "        accuracy  = (np.trace(cf) / float(np.sum(cf))) * 100\n",
        "\n",
        "        #if it is a binary confusion matrix, show some more stats\n",
        "        if len(cf)==2:\n",
        "            #Metrics for Binary Confusion Matrices\n",
        "            precision = cf[1,1] / sum(cf[:,1])\n",
        "            recall    = cf[1,1] / sum(cf[1,:])\n",
        "            f1_score  = 2*precision*recall / (precision + recall)\n",
        "            stats_text = \"\\n\\nAccuracy={:0.2f} %\\nPrecision={:0.3f}\\nRecall={:0.3f}\\nF1 Score={:0.3f}\".format(\n",
        "                accuracy,precision,recall,f1_score)\n",
        "        else:\n",
        "            stats_text = \"\\n\\nAccuracy={:0.3f}\".format(accuracy)\n",
        "    else:\n",
        "        stats_text = \"\"\n",
        "\n",
        "\n",
        "    # SET FIGURE PARAMETERS ACCORDING TO OTHER ARGUMENTS\n",
        "    if figsize==None:\n",
        "        #Get default figure size if not set\n",
        "        figsize = plt.rcParams.get('figure.figsize')\n",
        "\n",
        "    if xyticks==False:\n",
        "        #Do not show categories if xyticks is False\n",
        "        categories=False\n",
        "\n",
        "\n",
        "    # MAKE THE HEATMAP VISUALIZATION\n",
        "    plt.figure(figsize=figsize)\n",
        "    sns.heatmap(cf,annot=box_labels,fmt=\"\",cmap=cmap,cbar=cbar,xticklabels=categories,yticklabels=categories)\n",
        "\n",
        "    if xyplotlabels:\n",
        "        plt.ylabel('True label')\n",
        "        plt.xlabel('Predicted label' + stats_text)\n",
        "    else:\n",
        "        plt.xlabel(stats_text)\n",
        "    \n",
        "    if title:\n",
        "        plt.title(title)"
      ],
      "execution_count": null,
      "outputs": []
    },
    {
      "cell_type": "code",
      "metadata": {
        "id": "Jg5OZluSsnc8"
      },
      "source": [
        "pd.set_option('display.max_colwidth', 50)"
      ],
      "execution_count": null,
      "outputs": []
    },
    {
      "cell_type": "code",
      "source": [
        "# Dataset is Restricted for shearing \n",
        "# Access Request https://zenodo.org/record/6508748\n",
        "# !gdown \n",
        "# !gdown "
      ],
      "metadata": {
        "id": "aqEx9cgD3CRq"
      },
      "execution_count": null,
      "outputs": []
    },
    {
      "cell_type": "code",
      "metadata": {
        "id": "dbFDrBKpqa7Y",
        "outputId": "4cf7a86c-4dda-4a43-bcb1-351cffa3f2f8",
        "colab": {
          "base_uri": "https://localhost:8080/",
          "height": 423
        }
      },
      "source": [
        "df = pd.read_csv('combine.csv')\n",
        "df"
      ],
      "execution_count": null,
      "outputs": [
        {
          "output_type": "execute_result",
          "data": {
            "text/plain": [
              "     public_id                                               text  \\\n",
              "0     5a228e0e  Distracted driving causes more deaths in Canad...   \n",
              "1     30c605a1  Missouri politicians have made statements afte...   \n",
              "2     c3dea290  Home Alone 2: Lost in New York is full of viol...   \n",
              "3     f14e8eb6  But things took a turn for the worse when riot...   \n",
              "4     faf024d6  It’s no secret that Epstein and Schiff share a...   \n",
              "...        ...                                                ...   \n",
              "1259  47423bb6  More than four million calls to the taxman are...   \n",
              "1260  097c142a  More under-18s are being taken to court for se...   \n",
              "1261  08bc59f4  The Government’s much vaunted Help to Buy Isa ...   \n",
              "1262  af3393ce  The late Robin Williams once called cocaine “G...   \n",
              "1263  a39d07df  The late Robin Williams once called cocaine “G...   \n",
              "\n",
              "                                                  title       our rating  \n",
              "0     You Can Be Fined $1,500 If Your Passenger Is U...            FALSE  \n",
              "1         Missouri lawmakers condemn Las Vegas shooting  partially false  \n",
              "2     CBC Cuts Donald Trump's 'Home Alone 2' Cameo O...  partially false  \n",
              "3     Obama’s Daughters Caught on Camera Burning US ...            FALSE  \n",
              "4     Leaked Visitor Logs Reveal Schiff’s 78 Visits ...            FALSE  \n",
              "...                                                 ...              ...  \n",
              "1259  Taxman fails to answer four million calls a ye...             true  \n",
              "1260  Police catch 11‑year‑olds being used to sell d...             true  \n",
              "1261  Help to Buy Isa scandal: 500,000 first-time bu...            false  \n",
              "1262           A coke-snorting generation of hypocrites             true  \n",
              "1263           A coke-snorting generation of hypocrites             true  \n",
              "\n",
              "[1264 rows x 4 columns]"
            ],
            "text/html": [
              "\n",
              "  <div id=\"df-d809eda4-f156-4f34-b290-f1f7fafe618a\">\n",
              "    <div class=\"colab-df-container\">\n",
              "      <div>\n",
              "<style scoped>\n",
              "    .dataframe tbody tr th:only-of-type {\n",
              "        vertical-align: middle;\n",
              "    }\n",
              "\n",
              "    .dataframe tbody tr th {\n",
              "        vertical-align: top;\n",
              "    }\n",
              "\n",
              "    .dataframe thead th {\n",
              "        text-align: right;\n",
              "    }\n",
              "</style>\n",
              "<table border=\"1\" class=\"dataframe\">\n",
              "  <thead>\n",
              "    <tr style=\"text-align: right;\">\n",
              "      <th></th>\n",
              "      <th>public_id</th>\n",
              "      <th>text</th>\n",
              "      <th>title</th>\n",
              "      <th>our rating</th>\n",
              "    </tr>\n",
              "  </thead>\n",
              "  <tbody>\n",
              "    <tr>\n",
              "      <th>0</th>\n",
              "      <td>5a228e0e</td>\n",
              "      <td>Distracted driving causes more deaths in Canad...</td>\n",
              "      <td>You Can Be Fined $1,500 If Your Passenger Is U...</td>\n",
              "      <td>FALSE</td>\n",
              "    </tr>\n",
              "    <tr>\n",
              "      <th>1</th>\n",
              "      <td>30c605a1</td>\n",
              "      <td>Missouri politicians have made statements afte...</td>\n",
              "      <td>Missouri lawmakers condemn Las Vegas shooting</td>\n",
              "      <td>partially false</td>\n",
              "    </tr>\n",
              "    <tr>\n",
              "      <th>2</th>\n",
              "      <td>c3dea290</td>\n",
              "      <td>Home Alone 2: Lost in New York is full of viol...</td>\n",
              "      <td>CBC Cuts Donald Trump's 'Home Alone 2' Cameo O...</td>\n",
              "      <td>partially false</td>\n",
              "    </tr>\n",
              "    <tr>\n",
              "      <th>3</th>\n",
              "      <td>f14e8eb6</td>\n",
              "      <td>But things took a turn for the worse when riot...</td>\n",
              "      <td>Obama’s Daughters Caught on Camera Burning US ...</td>\n",
              "      <td>FALSE</td>\n",
              "    </tr>\n",
              "    <tr>\n",
              "      <th>4</th>\n",
              "      <td>faf024d6</td>\n",
              "      <td>It’s no secret that Epstein and Schiff share a...</td>\n",
              "      <td>Leaked Visitor Logs Reveal Schiff’s 78 Visits ...</td>\n",
              "      <td>FALSE</td>\n",
              "    </tr>\n",
              "    <tr>\n",
              "      <th>...</th>\n",
              "      <td>...</td>\n",
              "      <td>...</td>\n",
              "      <td>...</td>\n",
              "      <td>...</td>\n",
              "    </tr>\n",
              "    <tr>\n",
              "      <th>1259</th>\n",
              "      <td>47423bb6</td>\n",
              "      <td>More than four million calls to the taxman are...</td>\n",
              "      <td>Taxman fails to answer four million calls a ye...</td>\n",
              "      <td>true</td>\n",
              "    </tr>\n",
              "    <tr>\n",
              "      <th>1260</th>\n",
              "      <td>097c142a</td>\n",
              "      <td>More under-18s are being taken to court for se...</td>\n",
              "      <td>Police catch 11‑year‑olds being used to sell d...</td>\n",
              "      <td>true</td>\n",
              "    </tr>\n",
              "    <tr>\n",
              "      <th>1261</th>\n",
              "      <td>08bc59f4</td>\n",
              "      <td>The Government’s much vaunted Help to Buy Isa ...</td>\n",
              "      <td>Help to Buy Isa scandal: 500,000 first-time bu...</td>\n",
              "      <td>false</td>\n",
              "    </tr>\n",
              "    <tr>\n",
              "      <th>1262</th>\n",
              "      <td>af3393ce</td>\n",
              "      <td>The late Robin Williams once called cocaine “G...</td>\n",
              "      <td>A coke-snorting generation of hypocrites</td>\n",
              "      <td>true</td>\n",
              "    </tr>\n",
              "    <tr>\n",
              "      <th>1263</th>\n",
              "      <td>a39d07df</td>\n",
              "      <td>The late Robin Williams once called cocaine “G...</td>\n",
              "      <td>A coke-snorting generation of hypocrites</td>\n",
              "      <td>true</td>\n",
              "    </tr>\n",
              "  </tbody>\n",
              "</table>\n",
              "<p>1264 rows × 4 columns</p>\n",
              "</div>\n",
              "      <button class=\"colab-df-convert\" onclick=\"convertToInteractive('df-d809eda4-f156-4f34-b290-f1f7fafe618a')\"\n",
              "              title=\"Convert this dataframe to an interactive table.\"\n",
              "              style=\"display:none;\">\n",
              "        \n",
              "  <svg xmlns=\"http://www.w3.org/2000/svg\" height=\"24px\"viewBox=\"0 0 24 24\"\n",
              "       width=\"24px\">\n",
              "    <path d=\"M0 0h24v24H0V0z\" fill=\"none\"/>\n",
              "    <path d=\"M18.56 5.44l.94 2.06.94-2.06 2.06-.94-2.06-.94-.94-2.06-.94 2.06-2.06.94zm-11 1L8.5 8.5l.94-2.06 2.06-.94-2.06-.94L8.5 2.5l-.94 2.06-2.06.94zm10 10l.94 2.06.94-2.06 2.06-.94-2.06-.94-.94-2.06-.94 2.06-2.06.94z\"/><path d=\"M17.41 7.96l-1.37-1.37c-.4-.4-.92-.59-1.43-.59-.52 0-1.04.2-1.43.59L10.3 9.45l-7.72 7.72c-.78.78-.78 2.05 0 2.83L4 21.41c.39.39.9.59 1.41.59.51 0 1.02-.2 1.41-.59l7.78-7.78 2.81-2.81c.8-.78.8-2.07 0-2.86zM5.41 20L4 18.59l7.72-7.72 1.47 1.35L5.41 20z\"/>\n",
              "  </svg>\n",
              "      </button>\n",
              "      \n",
              "  <style>\n",
              "    .colab-df-container {\n",
              "      display:flex;\n",
              "      flex-wrap:wrap;\n",
              "      gap: 12px;\n",
              "    }\n",
              "\n",
              "    .colab-df-convert {\n",
              "      background-color: #E8F0FE;\n",
              "      border: none;\n",
              "      border-radius: 50%;\n",
              "      cursor: pointer;\n",
              "      display: none;\n",
              "      fill: #1967D2;\n",
              "      height: 32px;\n",
              "      padding: 0 0 0 0;\n",
              "      width: 32px;\n",
              "    }\n",
              "\n",
              "    .colab-df-convert:hover {\n",
              "      background-color: #E2EBFA;\n",
              "      box-shadow: 0px 1px 2px rgba(60, 64, 67, 0.3), 0px 1px 3px 1px rgba(60, 64, 67, 0.15);\n",
              "      fill: #174EA6;\n",
              "    }\n",
              "\n",
              "    [theme=dark] .colab-df-convert {\n",
              "      background-color: #3B4455;\n",
              "      fill: #D2E3FC;\n",
              "    }\n",
              "\n",
              "    [theme=dark] .colab-df-convert:hover {\n",
              "      background-color: #434B5C;\n",
              "      box-shadow: 0px 1px 3px 1px rgba(0, 0, 0, 0.15);\n",
              "      filter: drop-shadow(0px 1px 2px rgba(0, 0, 0, 0.3));\n",
              "      fill: #FFFFFF;\n",
              "    }\n",
              "  </style>\n",
              "\n",
              "      <script>\n",
              "        const buttonEl =\n",
              "          document.querySelector('#df-d809eda4-f156-4f34-b290-f1f7fafe618a button.colab-df-convert');\n",
              "        buttonEl.style.display =\n",
              "          google.colab.kernel.accessAllowed ? 'block' : 'none';\n",
              "\n",
              "        async function convertToInteractive(key) {\n",
              "          const element = document.querySelector('#df-d809eda4-f156-4f34-b290-f1f7fafe618a');\n",
              "          const dataTable =\n",
              "            await google.colab.kernel.invokeFunction('convertToInteractive',\n",
              "                                                     [key], {});\n",
              "          if (!dataTable) return;\n",
              "\n",
              "          const docLinkHtml = 'Like what you see? Visit the ' +\n",
              "            '<a target=\"_blank\" href=https://colab.research.google.com/notebooks/data_table.ipynb>data table notebook</a>'\n",
              "            + ' to learn more about interactive tables.';\n",
              "          element.innerHTML = '';\n",
              "          dataTable['output_type'] = 'display_data';\n",
              "          await google.colab.output.renderOutput(dataTable, element);\n",
              "          const docLink = document.createElement('div');\n",
              "          docLink.innerHTML = docLinkHtml;\n",
              "          element.appendChild(docLink);\n",
              "        }\n",
              "      </script>\n",
              "    </div>\n",
              "  </div>\n",
              "  "
            ]
          },
          "metadata": {},
          "execution_count": 10
        }
      ]
    },
    {
      "cell_type": "code",
      "metadata": {
        "id": "tzq1yUFB9hLP",
        "outputId": "c202a02f-9a52-4f30-a634-173a7f73758a",
        "colab": {
          "base_uri": "https://localhost:8080/"
        }
      },
      "source": [
        "df.shape"
      ],
      "execution_count": null,
      "outputs": [
        {
          "output_type": "execute_result",
          "data": {
            "text/plain": [
              "(1264, 4)"
            ]
          },
          "metadata": {},
          "execution_count": 11
        }
      ]
    },
    {
      "cell_type": "code",
      "source": [
        "df.drop(labels='public_id',axis=1, inplace=True)"
      ],
      "metadata": {
        "id": "BAFyv7chFVU_"
      },
      "execution_count": null,
      "outputs": []
    },
    {
      "cell_type": "code",
      "source": [
        "df"
      ],
      "metadata": {
        "colab": {
          "base_uri": "https://localhost:8080/",
          "height": 423
        },
        "id": "oKcCXCSLFlPo",
        "outputId": "c21ce5ce-4df8-4847-c73d-457c57bfbd08"
      },
      "execution_count": null,
      "outputs": [
        {
          "output_type": "execute_result",
          "data": {
            "text/plain": [
              "                                                   text  \\\n",
              "0     Distracted driving causes more deaths in Canad...   \n",
              "1     Missouri politicians have made statements afte...   \n",
              "2     Home Alone 2: Lost in New York is full of viol...   \n",
              "3     But things took a turn for the worse when riot...   \n",
              "4     It’s no secret that Epstein and Schiff share a...   \n",
              "...                                                 ...   \n",
              "1259  More than four million calls to the taxman are...   \n",
              "1260  More under-18s are being taken to court for se...   \n",
              "1261  The Government’s much vaunted Help to Buy Isa ...   \n",
              "1262  The late Robin Williams once called cocaine “G...   \n",
              "1263  The late Robin Williams once called cocaine “G...   \n",
              "\n",
              "                                                  title       our rating  \n",
              "0     You Can Be Fined $1,500 If Your Passenger Is U...            FALSE  \n",
              "1         Missouri lawmakers condemn Las Vegas shooting  partially false  \n",
              "2     CBC Cuts Donald Trump's 'Home Alone 2' Cameo O...  partially false  \n",
              "3     Obama’s Daughters Caught on Camera Burning US ...            FALSE  \n",
              "4     Leaked Visitor Logs Reveal Schiff’s 78 Visits ...            FALSE  \n",
              "...                                                 ...              ...  \n",
              "1259  Taxman fails to answer four million calls a ye...             true  \n",
              "1260  Police catch 11‑year‑olds being used to sell d...             true  \n",
              "1261  Help to Buy Isa scandal: 500,000 first-time bu...            false  \n",
              "1262           A coke-snorting generation of hypocrites             true  \n",
              "1263           A coke-snorting generation of hypocrites             true  \n",
              "\n",
              "[1264 rows x 3 columns]"
            ],
            "text/html": [
              "\n",
              "  <div id=\"df-0e06856b-9b70-4143-be96-057427544b64\">\n",
              "    <div class=\"colab-df-container\">\n",
              "      <div>\n",
              "<style scoped>\n",
              "    .dataframe tbody tr th:only-of-type {\n",
              "        vertical-align: middle;\n",
              "    }\n",
              "\n",
              "    .dataframe tbody tr th {\n",
              "        vertical-align: top;\n",
              "    }\n",
              "\n",
              "    .dataframe thead th {\n",
              "        text-align: right;\n",
              "    }\n",
              "</style>\n",
              "<table border=\"1\" class=\"dataframe\">\n",
              "  <thead>\n",
              "    <tr style=\"text-align: right;\">\n",
              "      <th></th>\n",
              "      <th>text</th>\n",
              "      <th>title</th>\n",
              "      <th>our rating</th>\n",
              "    </tr>\n",
              "  </thead>\n",
              "  <tbody>\n",
              "    <tr>\n",
              "      <th>0</th>\n",
              "      <td>Distracted driving causes more deaths in Canad...</td>\n",
              "      <td>You Can Be Fined $1,500 If Your Passenger Is U...</td>\n",
              "      <td>FALSE</td>\n",
              "    </tr>\n",
              "    <tr>\n",
              "      <th>1</th>\n",
              "      <td>Missouri politicians have made statements afte...</td>\n",
              "      <td>Missouri lawmakers condemn Las Vegas shooting</td>\n",
              "      <td>partially false</td>\n",
              "    </tr>\n",
              "    <tr>\n",
              "      <th>2</th>\n",
              "      <td>Home Alone 2: Lost in New York is full of viol...</td>\n",
              "      <td>CBC Cuts Donald Trump's 'Home Alone 2' Cameo O...</td>\n",
              "      <td>partially false</td>\n",
              "    </tr>\n",
              "    <tr>\n",
              "      <th>3</th>\n",
              "      <td>But things took a turn for the worse when riot...</td>\n",
              "      <td>Obama’s Daughters Caught on Camera Burning US ...</td>\n",
              "      <td>FALSE</td>\n",
              "    </tr>\n",
              "    <tr>\n",
              "      <th>4</th>\n",
              "      <td>It’s no secret that Epstein and Schiff share a...</td>\n",
              "      <td>Leaked Visitor Logs Reveal Schiff’s 78 Visits ...</td>\n",
              "      <td>FALSE</td>\n",
              "    </tr>\n",
              "    <tr>\n",
              "      <th>...</th>\n",
              "      <td>...</td>\n",
              "      <td>...</td>\n",
              "      <td>...</td>\n",
              "    </tr>\n",
              "    <tr>\n",
              "      <th>1259</th>\n",
              "      <td>More than four million calls to the taxman are...</td>\n",
              "      <td>Taxman fails to answer four million calls a ye...</td>\n",
              "      <td>true</td>\n",
              "    </tr>\n",
              "    <tr>\n",
              "      <th>1260</th>\n",
              "      <td>More under-18s are being taken to court for se...</td>\n",
              "      <td>Police catch 11‑year‑olds being used to sell d...</td>\n",
              "      <td>true</td>\n",
              "    </tr>\n",
              "    <tr>\n",
              "      <th>1261</th>\n",
              "      <td>The Government’s much vaunted Help to Buy Isa ...</td>\n",
              "      <td>Help to Buy Isa scandal: 500,000 first-time bu...</td>\n",
              "      <td>false</td>\n",
              "    </tr>\n",
              "    <tr>\n",
              "      <th>1262</th>\n",
              "      <td>The late Robin Williams once called cocaine “G...</td>\n",
              "      <td>A coke-snorting generation of hypocrites</td>\n",
              "      <td>true</td>\n",
              "    </tr>\n",
              "    <tr>\n",
              "      <th>1263</th>\n",
              "      <td>The late Robin Williams once called cocaine “G...</td>\n",
              "      <td>A coke-snorting generation of hypocrites</td>\n",
              "      <td>true</td>\n",
              "    </tr>\n",
              "  </tbody>\n",
              "</table>\n",
              "<p>1264 rows × 3 columns</p>\n",
              "</div>\n",
              "      <button class=\"colab-df-convert\" onclick=\"convertToInteractive('df-0e06856b-9b70-4143-be96-057427544b64')\"\n",
              "              title=\"Convert this dataframe to an interactive table.\"\n",
              "              style=\"display:none;\">\n",
              "        \n",
              "  <svg xmlns=\"http://www.w3.org/2000/svg\" height=\"24px\"viewBox=\"0 0 24 24\"\n",
              "       width=\"24px\">\n",
              "    <path d=\"M0 0h24v24H0V0z\" fill=\"none\"/>\n",
              "    <path d=\"M18.56 5.44l.94 2.06.94-2.06 2.06-.94-2.06-.94-.94-2.06-.94 2.06-2.06.94zm-11 1L8.5 8.5l.94-2.06 2.06-.94-2.06-.94L8.5 2.5l-.94 2.06-2.06.94zm10 10l.94 2.06.94-2.06 2.06-.94-2.06-.94-.94-2.06-.94 2.06-2.06.94z\"/><path d=\"M17.41 7.96l-1.37-1.37c-.4-.4-.92-.59-1.43-.59-.52 0-1.04.2-1.43.59L10.3 9.45l-7.72 7.72c-.78.78-.78 2.05 0 2.83L4 21.41c.39.39.9.59 1.41.59.51 0 1.02-.2 1.41-.59l7.78-7.78 2.81-2.81c.8-.78.8-2.07 0-2.86zM5.41 20L4 18.59l7.72-7.72 1.47 1.35L5.41 20z\"/>\n",
              "  </svg>\n",
              "      </button>\n",
              "      \n",
              "  <style>\n",
              "    .colab-df-container {\n",
              "      display:flex;\n",
              "      flex-wrap:wrap;\n",
              "      gap: 12px;\n",
              "    }\n",
              "\n",
              "    .colab-df-convert {\n",
              "      background-color: #E8F0FE;\n",
              "      border: none;\n",
              "      border-radius: 50%;\n",
              "      cursor: pointer;\n",
              "      display: none;\n",
              "      fill: #1967D2;\n",
              "      height: 32px;\n",
              "      padding: 0 0 0 0;\n",
              "      width: 32px;\n",
              "    }\n",
              "\n",
              "    .colab-df-convert:hover {\n",
              "      background-color: #E2EBFA;\n",
              "      box-shadow: 0px 1px 2px rgba(60, 64, 67, 0.3), 0px 1px 3px 1px rgba(60, 64, 67, 0.15);\n",
              "      fill: #174EA6;\n",
              "    }\n",
              "\n",
              "    [theme=dark] .colab-df-convert {\n",
              "      background-color: #3B4455;\n",
              "      fill: #D2E3FC;\n",
              "    }\n",
              "\n",
              "    [theme=dark] .colab-df-convert:hover {\n",
              "      background-color: #434B5C;\n",
              "      box-shadow: 0px 1px 3px 1px rgba(0, 0, 0, 0.15);\n",
              "      filter: drop-shadow(0px 1px 2px rgba(0, 0, 0, 0.3));\n",
              "      fill: #FFFFFF;\n",
              "    }\n",
              "  </style>\n",
              "\n",
              "      <script>\n",
              "        const buttonEl =\n",
              "          document.querySelector('#df-0e06856b-9b70-4143-be96-057427544b64 button.colab-df-convert');\n",
              "        buttonEl.style.display =\n",
              "          google.colab.kernel.accessAllowed ? 'block' : 'none';\n",
              "\n",
              "        async function convertToInteractive(key) {\n",
              "          const element = document.querySelector('#df-0e06856b-9b70-4143-be96-057427544b64');\n",
              "          const dataTable =\n",
              "            await google.colab.kernel.invokeFunction('convertToInteractive',\n",
              "                                                     [key], {});\n",
              "          if (!dataTable) return;\n",
              "\n",
              "          const docLinkHtml = 'Like what you see? Visit the ' +\n",
              "            '<a target=\"_blank\" href=https://colab.research.google.com/notebooks/data_table.ipynb>data table notebook</a>'\n",
              "            + ' to learn more about interactive tables.';\n",
              "          element.innerHTML = '';\n",
              "          dataTable['output_type'] = 'display_data';\n",
              "          await google.colab.output.renderOutput(dataTable, element);\n",
              "          const docLink = document.createElement('div');\n",
              "          docLink.innerHTML = docLinkHtml;\n",
              "          element.appendChild(docLink);\n",
              "        }\n",
              "      </script>\n",
              "    </div>\n",
              "  </div>\n",
              "  "
            ]
          },
          "metadata": {},
          "execution_count": 13
        }
      ]
    },
    {
      "cell_type": "code",
      "metadata": {
        "id": "8gzHr0Uz-vyr",
        "outputId": "8f2c51c9-fde3-4b63-a025-125dd70c739c",
        "colab": {
          "base_uri": "https://localhost:8080/"
        }
      },
      "source": [
        "df.isnull().sum()"
      ],
      "execution_count": null,
      "outputs": [
        {
          "output_type": "execute_result",
          "data": {
            "text/plain": [
              "text           0\n",
              "title         23\n",
              "our rating     0\n",
              "dtype: int64"
            ]
          },
          "metadata": {},
          "execution_count": 14
        }
      ]
    },
    {
      "cell_type": "code",
      "source": [
        "df = df.rename(columns={'our rating':'label'})\n",
        "df['label'] = df.label.map({'TRUE': 1,'true':1, 'FALSE': 0,'false':0, 'partially false': 2, 'other': 3})"
      ],
      "metadata": {
        "id": "lufArKIN8JfG"
      },
      "execution_count": null,
      "outputs": []
    },
    {
      "cell_type": "code",
      "metadata": {
        "id": "t_puBOgj_C7I",
        "outputId": "f94750b1-26a8-4f4c-e0ee-72ae679ae4b4",
        "colab": {
          "base_uri": "https://localhost:8080/",
          "height": 206
        }
      },
      "source": [
        "df.groupby('label').count()"
      ],
      "execution_count": null,
      "outputs": [
        {
          "output_type": "execute_result",
          "data": {
            "text/plain": [
              "       text  title\n",
              "label             \n",
              "0       578    571\n",
              "1       211    206\n",
              "2       358    349\n",
              "3       117    115"
            ],
            "text/html": [
              "\n",
              "  <div id=\"df-3087cf86-cf06-4164-9d3e-ab4609d2af49\">\n",
              "    <div class=\"colab-df-container\">\n",
              "      <div>\n",
              "<style scoped>\n",
              "    .dataframe tbody tr th:only-of-type {\n",
              "        vertical-align: middle;\n",
              "    }\n",
              "\n",
              "    .dataframe tbody tr th {\n",
              "        vertical-align: top;\n",
              "    }\n",
              "\n",
              "    .dataframe thead th {\n",
              "        text-align: right;\n",
              "    }\n",
              "</style>\n",
              "<table border=\"1\" class=\"dataframe\">\n",
              "  <thead>\n",
              "    <tr style=\"text-align: right;\">\n",
              "      <th></th>\n",
              "      <th>text</th>\n",
              "      <th>title</th>\n",
              "    </tr>\n",
              "    <tr>\n",
              "      <th>label</th>\n",
              "      <th></th>\n",
              "      <th></th>\n",
              "    </tr>\n",
              "  </thead>\n",
              "  <tbody>\n",
              "    <tr>\n",
              "      <th>0</th>\n",
              "      <td>578</td>\n",
              "      <td>571</td>\n",
              "    </tr>\n",
              "    <tr>\n",
              "      <th>1</th>\n",
              "      <td>211</td>\n",
              "      <td>206</td>\n",
              "    </tr>\n",
              "    <tr>\n",
              "      <th>2</th>\n",
              "      <td>358</td>\n",
              "      <td>349</td>\n",
              "    </tr>\n",
              "    <tr>\n",
              "      <th>3</th>\n",
              "      <td>117</td>\n",
              "      <td>115</td>\n",
              "    </tr>\n",
              "  </tbody>\n",
              "</table>\n",
              "</div>\n",
              "      <button class=\"colab-df-convert\" onclick=\"convertToInteractive('df-3087cf86-cf06-4164-9d3e-ab4609d2af49')\"\n",
              "              title=\"Convert this dataframe to an interactive table.\"\n",
              "              style=\"display:none;\">\n",
              "        \n",
              "  <svg xmlns=\"http://www.w3.org/2000/svg\" height=\"24px\"viewBox=\"0 0 24 24\"\n",
              "       width=\"24px\">\n",
              "    <path d=\"M0 0h24v24H0V0z\" fill=\"none\"/>\n",
              "    <path d=\"M18.56 5.44l.94 2.06.94-2.06 2.06-.94-2.06-.94-.94-2.06-.94 2.06-2.06.94zm-11 1L8.5 8.5l.94-2.06 2.06-.94-2.06-.94L8.5 2.5l-.94 2.06-2.06.94zm10 10l.94 2.06.94-2.06 2.06-.94-2.06-.94-.94-2.06-.94 2.06-2.06.94z\"/><path d=\"M17.41 7.96l-1.37-1.37c-.4-.4-.92-.59-1.43-.59-.52 0-1.04.2-1.43.59L10.3 9.45l-7.72 7.72c-.78.78-.78 2.05 0 2.83L4 21.41c.39.39.9.59 1.41.59.51 0 1.02-.2 1.41-.59l7.78-7.78 2.81-2.81c.8-.78.8-2.07 0-2.86zM5.41 20L4 18.59l7.72-7.72 1.47 1.35L5.41 20z\"/>\n",
              "  </svg>\n",
              "      </button>\n",
              "      \n",
              "  <style>\n",
              "    .colab-df-container {\n",
              "      display:flex;\n",
              "      flex-wrap:wrap;\n",
              "      gap: 12px;\n",
              "    }\n",
              "\n",
              "    .colab-df-convert {\n",
              "      background-color: #E8F0FE;\n",
              "      border: none;\n",
              "      border-radius: 50%;\n",
              "      cursor: pointer;\n",
              "      display: none;\n",
              "      fill: #1967D2;\n",
              "      height: 32px;\n",
              "      padding: 0 0 0 0;\n",
              "      width: 32px;\n",
              "    }\n",
              "\n",
              "    .colab-df-convert:hover {\n",
              "      background-color: #E2EBFA;\n",
              "      box-shadow: 0px 1px 2px rgba(60, 64, 67, 0.3), 0px 1px 3px 1px rgba(60, 64, 67, 0.15);\n",
              "      fill: #174EA6;\n",
              "    }\n",
              "\n",
              "    [theme=dark] .colab-df-convert {\n",
              "      background-color: #3B4455;\n",
              "      fill: #D2E3FC;\n",
              "    }\n",
              "\n",
              "    [theme=dark] .colab-df-convert:hover {\n",
              "      background-color: #434B5C;\n",
              "      box-shadow: 0px 1px 3px 1px rgba(0, 0, 0, 0.15);\n",
              "      filter: drop-shadow(0px 1px 2px rgba(0, 0, 0, 0.3));\n",
              "      fill: #FFFFFF;\n",
              "    }\n",
              "  </style>\n",
              "\n",
              "      <script>\n",
              "        const buttonEl =\n",
              "          document.querySelector('#df-3087cf86-cf06-4164-9d3e-ab4609d2af49 button.colab-df-convert');\n",
              "        buttonEl.style.display =\n",
              "          google.colab.kernel.accessAllowed ? 'block' : 'none';\n",
              "\n",
              "        async function convertToInteractive(key) {\n",
              "          const element = document.querySelector('#df-3087cf86-cf06-4164-9d3e-ab4609d2af49');\n",
              "          const dataTable =\n",
              "            await google.colab.kernel.invokeFunction('convertToInteractive',\n",
              "                                                     [key], {});\n",
              "          if (!dataTable) return;\n",
              "\n",
              "          const docLinkHtml = 'Like what you see? Visit the ' +\n",
              "            '<a target=\"_blank\" href=https://colab.research.google.com/notebooks/data_table.ipynb>data table notebook</a>'\n",
              "            + ' to learn more about interactive tables.';\n",
              "          element.innerHTML = '';\n",
              "          dataTable['output_type'] = 'display_data';\n",
              "          await google.colab.output.renderOutput(dataTable, element);\n",
              "          const docLink = document.createElement('div');\n",
              "          docLink.innerHTML = docLinkHtml;\n",
              "          element.appendChild(docLink);\n",
              "        }\n",
              "      </script>\n",
              "    </div>\n",
              "  </div>\n",
              "  "
            ]
          },
          "metadata": {},
          "execution_count": 16
        }
      ]
    },
    {
      "cell_type": "code",
      "metadata": {
        "id": "-wf_eCJPLtCI",
        "outputId": "7cf16561-a30d-4299-af68-1fd3386640b5",
        "colab": {
          "base_uri": "https://localhost:8080/"
        }
      },
      "source": [
        "df.info()"
      ],
      "execution_count": null,
      "outputs": [
        {
          "output_type": "stream",
          "name": "stdout",
          "text": [
            "<class 'pandas.core.frame.DataFrame'>\n",
            "RangeIndex: 1264 entries, 0 to 1263\n",
            "Data columns (total 3 columns):\n",
            " #   Column  Non-Null Count  Dtype \n",
            "---  ------  --------------  ----- \n",
            " 0   text    1264 non-null   object\n",
            " 1   title   1241 non-null   object\n",
            " 2   label   1264 non-null   int64 \n",
            "dtypes: int64(1), object(2)\n",
            "memory usage: 29.8+ KB\n"
          ]
        }
      ]
    },
    {
      "cell_type": "code",
      "metadata": {
        "id": "ttRtHE61L85q",
        "outputId": "dfa74879-0165-446f-8be5-5f3be6cfa65f",
        "colab": {
          "base_uri": "https://localhost:8080/",
          "height": 423
        }
      },
      "source": [
        "df"
      ],
      "execution_count": null,
      "outputs": [
        {
          "output_type": "execute_result",
          "data": {
            "text/plain": [
              "                                                   text  \\\n",
              "0     Distracted driving causes more deaths in Canad...   \n",
              "1     Missouri politicians have made statements afte...   \n",
              "2     Home Alone 2: Lost in New York is full of viol...   \n",
              "3     But things took a turn for the worse when riot...   \n",
              "4     It’s no secret that Epstein and Schiff share a...   \n",
              "...                                                 ...   \n",
              "1259  More than four million calls to the taxman are...   \n",
              "1260  More under-18s are being taken to court for se...   \n",
              "1261  The Government’s much vaunted Help to Buy Isa ...   \n",
              "1262  The late Robin Williams once called cocaine “G...   \n",
              "1263  The late Robin Williams once called cocaine “G...   \n",
              "\n",
              "                                                  title  label  \n",
              "0     You Can Be Fined $1,500 If Your Passenger Is U...      0  \n",
              "1         Missouri lawmakers condemn Las Vegas shooting      2  \n",
              "2     CBC Cuts Donald Trump's 'Home Alone 2' Cameo O...      2  \n",
              "3     Obama’s Daughters Caught on Camera Burning US ...      0  \n",
              "4     Leaked Visitor Logs Reveal Schiff’s 78 Visits ...      0  \n",
              "...                                                 ...    ...  \n",
              "1259  Taxman fails to answer four million calls a ye...      1  \n",
              "1260  Police catch 11‑year‑olds being used to sell d...      1  \n",
              "1261  Help to Buy Isa scandal: 500,000 first-time bu...      0  \n",
              "1262           A coke-snorting generation of hypocrites      1  \n",
              "1263           A coke-snorting generation of hypocrites      1  \n",
              "\n",
              "[1264 rows x 3 columns]"
            ],
            "text/html": [
              "\n",
              "  <div id=\"df-76909166-7cf6-4f94-aade-f219f83db2d4\">\n",
              "    <div class=\"colab-df-container\">\n",
              "      <div>\n",
              "<style scoped>\n",
              "    .dataframe tbody tr th:only-of-type {\n",
              "        vertical-align: middle;\n",
              "    }\n",
              "\n",
              "    .dataframe tbody tr th {\n",
              "        vertical-align: top;\n",
              "    }\n",
              "\n",
              "    .dataframe thead th {\n",
              "        text-align: right;\n",
              "    }\n",
              "</style>\n",
              "<table border=\"1\" class=\"dataframe\">\n",
              "  <thead>\n",
              "    <tr style=\"text-align: right;\">\n",
              "      <th></th>\n",
              "      <th>text</th>\n",
              "      <th>title</th>\n",
              "      <th>label</th>\n",
              "    </tr>\n",
              "  </thead>\n",
              "  <tbody>\n",
              "    <tr>\n",
              "      <th>0</th>\n",
              "      <td>Distracted driving causes more deaths in Canad...</td>\n",
              "      <td>You Can Be Fined $1,500 If Your Passenger Is U...</td>\n",
              "      <td>0</td>\n",
              "    </tr>\n",
              "    <tr>\n",
              "      <th>1</th>\n",
              "      <td>Missouri politicians have made statements afte...</td>\n",
              "      <td>Missouri lawmakers condemn Las Vegas shooting</td>\n",
              "      <td>2</td>\n",
              "    </tr>\n",
              "    <tr>\n",
              "      <th>2</th>\n",
              "      <td>Home Alone 2: Lost in New York is full of viol...</td>\n",
              "      <td>CBC Cuts Donald Trump's 'Home Alone 2' Cameo O...</td>\n",
              "      <td>2</td>\n",
              "    </tr>\n",
              "    <tr>\n",
              "      <th>3</th>\n",
              "      <td>But things took a turn for the worse when riot...</td>\n",
              "      <td>Obama’s Daughters Caught on Camera Burning US ...</td>\n",
              "      <td>0</td>\n",
              "    </tr>\n",
              "    <tr>\n",
              "      <th>4</th>\n",
              "      <td>It’s no secret that Epstein and Schiff share a...</td>\n",
              "      <td>Leaked Visitor Logs Reveal Schiff’s 78 Visits ...</td>\n",
              "      <td>0</td>\n",
              "    </tr>\n",
              "    <tr>\n",
              "      <th>...</th>\n",
              "      <td>...</td>\n",
              "      <td>...</td>\n",
              "      <td>...</td>\n",
              "    </tr>\n",
              "    <tr>\n",
              "      <th>1259</th>\n",
              "      <td>More than four million calls to the taxman are...</td>\n",
              "      <td>Taxman fails to answer four million calls a ye...</td>\n",
              "      <td>1</td>\n",
              "    </tr>\n",
              "    <tr>\n",
              "      <th>1260</th>\n",
              "      <td>More under-18s are being taken to court for se...</td>\n",
              "      <td>Police catch 11‑year‑olds being used to sell d...</td>\n",
              "      <td>1</td>\n",
              "    </tr>\n",
              "    <tr>\n",
              "      <th>1261</th>\n",
              "      <td>The Government’s much vaunted Help to Buy Isa ...</td>\n",
              "      <td>Help to Buy Isa scandal: 500,000 first-time bu...</td>\n",
              "      <td>0</td>\n",
              "    </tr>\n",
              "    <tr>\n",
              "      <th>1262</th>\n",
              "      <td>The late Robin Williams once called cocaine “G...</td>\n",
              "      <td>A coke-snorting generation of hypocrites</td>\n",
              "      <td>1</td>\n",
              "    </tr>\n",
              "    <tr>\n",
              "      <th>1263</th>\n",
              "      <td>The late Robin Williams once called cocaine “G...</td>\n",
              "      <td>A coke-snorting generation of hypocrites</td>\n",
              "      <td>1</td>\n",
              "    </tr>\n",
              "  </tbody>\n",
              "</table>\n",
              "<p>1264 rows × 3 columns</p>\n",
              "</div>\n",
              "      <button class=\"colab-df-convert\" onclick=\"convertToInteractive('df-76909166-7cf6-4f94-aade-f219f83db2d4')\"\n",
              "              title=\"Convert this dataframe to an interactive table.\"\n",
              "              style=\"display:none;\">\n",
              "        \n",
              "  <svg xmlns=\"http://www.w3.org/2000/svg\" height=\"24px\"viewBox=\"0 0 24 24\"\n",
              "       width=\"24px\">\n",
              "    <path d=\"M0 0h24v24H0V0z\" fill=\"none\"/>\n",
              "    <path d=\"M18.56 5.44l.94 2.06.94-2.06 2.06-.94-2.06-.94-.94-2.06-.94 2.06-2.06.94zm-11 1L8.5 8.5l.94-2.06 2.06-.94-2.06-.94L8.5 2.5l-.94 2.06-2.06.94zm10 10l.94 2.06.94-2.06 2.06-.94-2.06-.94-.94-2.06-.94 2.06-2.06.94z\"/><path d=\"M17.41 7.96l-1.37-1.37c-.4-.4-.92-.59-1.43-.59-.52 0-1.04.2-1.43.59L10.3 9.45l-7.72 7.72c-.78.78-.78 2.05 0 2.83L4 21.41c.39.39.9.59 1.41.59.51 0 1.02-.2 1.41-.59l7.78-7.78 2.81-2.81c.8-.78.8-2.07 0-2.86zM5.41 20L4 18.59l7.72-7.72 1.47 1.35L5.41 20z\"/>\n",
              "  </svg>\n",
              "      </button>\n",
              "      \n",
              "  <style>\n",
              "    .colab-df-container {\n",
              "      display:flex;\n",
              "      flex-wrap:wrap;\n",
              "      gap: 12px;\n",
              "    }\n",
              "\n",
              "    .colab-df-convert {\n",
              "      background-color: #E8F0FE;\n",
              "      border: none;\n",
              "      border-radius: 50%;\n",
              "      cursor: pointer;\n",
              "      display: none;\n",
              "      fill: #1967D2;\n",
              "      height: 32px;\n",
              "      padding: 0 0 0 0;\n",
              "      width: 32px;\n",
              "    }\n",
              "\n",
              "    .colab-df-convert:hover {\n",
              "      background-color: #E2EBFA;\n",
              "      box-shadow: 0px 1px 2px rgba(60, 64, 67, 0.3), 0px 1px 3px 1px rgba(60, 64, 67, 0.15);\n",
              "      fill: #174EA6;\n",
              "    }\n",
              "\n",
              "    [theme=dark] .colab-df-convert {\n",
              "      background-color: #3B4455;\n",
              "      fill: #D2E3FC;\n",
              "    }\n",
              "\n",
              "    [theme=dark] .colab-df-convert:hover {\n",
              "      background-color: #434B5C;\n",
              "      box-shadow: 0px 1px 3px 1px rgba(0, 0, 0, 0.15);\n",
              "      filter: drop-shadow(0px 1px 2px rgba(0, 0, 0, 0.3));\n",
              "      fill: #FFFFFF;\n",
              "    }\n",
              "  </style>\n",
              "\n",
              "      <script>\n",
              "        const buttonEl =\n",
              "          document.querySelector('#df-76909166-7cf6-4f94-aade-f219f83db2d4 button.colab-df-convert');\n",
              "        buttonEl.style.display =\n",
              "          google.colab.kernel.accessAllowed ? 'block' : 'none';\n",
              "\n",
              "        async function convertToInteractive(key) {\n",
              "          const element = document.querySelector('#df-76909166-7cf6-4f94-aade-f219f83db2d4');\n",
              "          const dataTable =\n",
              "            await google.colab.kernel.invokeFunction('convertToInteractive',\n",
              "                                                     [key], {});\n",
              "          if (!dataTable) return;\n",
              "\n",
              "          const docLinkHtml = 'Like what you see? Visit the ' +\n",
              "            '<a target=\"_blank\" href=https://colab.research.google.com/notebooks/data_table.ipynb>data table notebook</a>'\n",
              "            + ' to learn more about interactive tables.';\n",
              "          element.innerHTML = '';\n",
              "          dataTable['output_type'] = 'display_data';\n",
              "          await google.colab.output.renderOutput(dataTable, element);\n",
              "          const docLink = document.createElement('div');\n",
              "          docLink.innerHTML = docLinkHtml;\n",
              "          element.appendChild(docLink);\n",
              "        }\n",
              "      </script>\n",
              "    </div>\n",
              "  </div>\n",
              "  "
            ]
          },
          "metadata": {},
          "execution_count": 18
        }
      ]
    },
    {
      "cell_type": "markdown",
      "metadata": {
        "id": "uLXTDnHEIwyC"
      },
      "source": [
        "## Complete Dataset"
      ]
    },
    {
      "cell_type": "code",
      "source": [
        "df_tmp = df"
      ],
      "metadata": {
        "id": "6Va7bIFNGoOU"
      },
      "execution_count": null,
      "outputs": []
    },
    {
      "cell_type": "code",
      "source": [
        "X_train,X_test,y_train,y_test = train_test_split(df_tmp.drop('label',axis=1),df_tmp.label,random_state =42)"
      ],
      "metadata": {
        "id": "aTk6ANcTlt9A"
      },
      "execution_count": null,
      "outputs": []
    },
    {
      "cell_type": "code",
      "source": [
        "import numpy as np\n",
        "a = np.random.rand(4,3)\n",
        "b = np.random.rand(3,1)"
      ],
      "metadata": {
        "id": "M11qA7ncGwyU"
      },
      "execution_count": null,
      "outputs": []
    },
    {
      "cell_type": "code",
      "source": [
        "np.sum(a,axis=1).shape"
      ],
      "metadata": {
        "colab": {
          "base_uri": "https://localhost:8080/"
        },
        "id": "IghjRzKvGyYK",
        "outputId": "ac2df91c-b0a7-422a-9fa1-660b75133c46"
      },
      "execution_count": null,
      "outputs": [
        {
          "output_type": "execute_result",
          "data": {
            "text/plain": [
              "(4,)"
            ]
          },
          "metadata": {},
          "execution_count": 22
        }
      ]
    },
    {
      "cell_type": "markdown",
      "metadata": {
        "id": "Ch-HBFdilHvn"
      },
      "source": [
        "## 1. Using Count Vectorizer Features"
      ]
    },
    {
      "cell_type": "code",
      "metadata": {
        "id": "2Pny7icbShhx"
      },
      "source": [
        "import math\n",
        "# create a count vectorizer object \n",
        "count_vect = CountVectorizer(analyzer=normalize)\n",
        "xtrain_count = count_vect.fit_transform(X_train['title'].replace(math.nan,' ') + ' ' + X_train['text'])\n",
        "xtest_count =  count_vect.transform(X_test['title'].replace(math.nan,' ') + ' ' + X_test['text'])\n",
        "\n",
        "count_vect_full = CountVectorizer(analyzer=normalize)\n",
        "xfull_count = count_vect_full.fit_transform(df_tmp['title'].replace(math.nan,' ') + ' ' + df_tmp['text'])\n",
        "xtest_count_full =  count_vect_full.transform(X_test['title'].replace(math.nan,' ') + ' ' + X_test['text'])\n"
      ],
      "execution_count": null,
      "outputs": []
    },
    {
      "cell_type": "markdown",
      "metadata": {
        "id": "B_Lnk_mOmyne"
      },
      "source": [
        "### Naive Bayes Classifier"
      ]
    },
    {
      "cell_type": "markdown",
      "source": [
        "#### Model"
      ],
      "metadata": {
        "id": "Rqf75GLS044u"
      }
    },
    {
      "cell_type": "code",
      "metadata": {
        "id": "Ni_LFQk-qtaY"
      },
      "source": [
        "nbc = naive_bayes.MultinomialNB()\n",
        "nbc.fit(xtrain_count,y_train)\n",
        "y_preds = nbc.predict(xtest_count)"
      ],
      "execution_count": null,
      "outputs": []
    },
    {
      "cell_type": "code",
      "metadata": {
        "id": "cDw8yUlMqtJL",
        "outputId": "9efc334b-3501-4e35-9e4a-a1dec65d9996",
        "colab": {
          "base_uri": "https://localhost:8080/",
          "height": 617
        }
      },
      "source": [
        "print(accuracy_score(y_test,y_preds))\n",
        "print()\n",
        "print(classification_report(y_test,y_preds))\n",
        "cf_matrix_1 =confusion_matrix(y_test,y_preds)\n",
        "# print(cf_matrix_1)\n",
        "print()\n",
        "labels = ['True Neg','False Pos','False Neg','True Pos']\n",
        "categories = ['false','true', 'partially_false', 'other']\n",
        "make_confusion_matrix(cf_matrix_1, \n",
        "                      group_names=labels,\n",
        "                      categories=categories, \n",
        "                      cmap='Blues',figsize=(5,5),cbar=False,title='Confusion Matrix: Navie Bayes on Count Vect')"
      ],
      "execution_count": null,
      "outputs": [
        {
          "output_type": "stream",
          "name": "stdout",
          "text": [
            "0.6582278481012658\n",
            "\n",
            "              precision    recall  f1-score   support\n",
            "\n",
            "           0       0.73      0.85      0.78       141\n",
            "           1       0.61      0.53      0.56        59\n",
            "           2       0.56      0.59      0.57        90\n",
            "           3       0.80      0.15      0.26        26\n",
            "\n",
            "    accuracy                           0.66       316\n",
            "   macro avg       0.67      0.53      0.54       316\n",
            "weighted avg       0.66      0.66      0.64       316\n",
            "\n",
            "\n"
          ]
        },
        {
          "output_type": "display_data",
          "data": {
            "text/plain": [
              "<Figure size 360x360 with 1 Axes>"
            ],
            "image/png": "[encoded data removed]"
          },
          "metadata": {
            "needs_background": "light"
          }
        }
      ]
    },
    {
      "cell_type": "markdown",
      "source": [
        "#### Submission"
      ],
      "metadata": {
        "id": "s5eQnycj06qV"
      }
    },
    {
      "cell_type": "code",
      "source": [
        "\n",
        "df_raw = pd.read_csv('English_data_test_release.csv')\n",
        "\n",
        "df_raw_sub = df_raw\n",
        "\n",
        "# Using Count Vectorizer Features\n",
        "df_raw_sub_count = count_vect_full.transform(df_raw_sub['title'].replace(math.nan,' ') + ' ' + df_raw_sub['text'])\n",
        "\n",
        "# Using word level tf-idf Features\n",
        "df_raw_sub_tfidf = tfidf_vect_full.transform(df_raw_sub_count)\n"
      ],
      "metadata": {
        "id": "JSDT8ugO06qW"
      },
      "execution_count": null,
      "outputs": []
    },
    {
      "cell_type": "code",
      "source": [
        "m = lr.predict(df_raw_sub_tfidf)"
      ],
      "metadata": {
        "id": "c0JWnbYw06qX"
      },
      "execution_count": null,
      "outputs": []
    },
    {
      "cell_type": "code",
      "source": [
        "predict = []\n",
        "label = ['false', 'true', 'partially false', 'other']\n",
        "for p in m:\n",
        "  predict.append(label[p])\n",
        "df_raw['predicted_rating'] = predict"
      ],
      "metadata": {
        "id": "YdpED09Q06qY"
      },
      "execution_count": null,
      "outputs": []
    },
    {
      "cell_type": "code",
      "source": [
        "df_raw"
      ],
      "metadata": {
        "colab": {
          "base_uri": "https://localhost:8080/",
          "height": 1000
        },
        "outputId": "6bcd7971-314c-45ba-9074-c5f7e679d489",
        "id": "oTphFnUV06qY"
      },
      "execution_count": null,
      "outputs": [
        {
          "output_type": "execute_result",
          "data": {
            "text/plain": [
              "                                          ID  \\\n",
              "602  147575044263640448705296981827539520951   \n",
              "603  226286523808954494317699147543855854671   \n",
              "604  138479109015113776387811964986651898271   \n",
              "605   55125174276315764619221784966218263337   \n",
              "606  270077888906743054673881300019061126049   \n",
              "607  206921579192720402152220292846254137866   \n",
              "608   26464356958085668535128110139955868781   \n",
              "609  189700315351432315169761694613833047445   \n",
              "610  188373492569049166266633359075598402208   \n",
              "611  337277576050638215330059360481185892501   \n",
              "\n",
              "                                                  text  \\\n",
              "602  Turkish land forces have advanced into Syria t...   \n",
              "603  Queens state Sen. Jose Peralta suffered sudden...   \n",
              "604  As news and misinformation about the COVID-19 ...   \n",
              "605  SLIM MARGIN: A new survey shows slightly more ...   \n",
              "606  Health Minister Christian Dubé hopes the measu...   \n",
              "607  DISTRIBUTE TO EVERYONE who does not want to be...   \n",
              "608  The physician who served as Bill Gates’ privat...   \n",
              "609  A customer leaves an SAQ outlet on Jan. 6, the...   \n",
              "610  Vaccine coercion activists are using the fake ...   \n",
              "611  Placeholder while article actions load  Quebec...   \n",
              "\n",
              "                                                 title predicted_rating  \n",
              "602  Turkey Steps Up Offensive Against Syrian Kurdi...  partially false  \n",
              "603  New York State Senator Jose Peralta’s cause of...            false  \n",
              "604  Nearly three-in-ten Americans believe COVID-19...            false  \n",
              "605  New Polling Shows More Australians Want Scott ...            false  \n",
              "606  Quebec's liquor and cannabis stores will requi...  partially false  \n",
              "607  ‘From October 20, the Covid pass and vaccinati...            false  \n",
              "608  Bill Gates' Former Doctor Says He 'Refused To ...            false  \n",
              "609  Quebec’s expansion of COVID-19 vaccine passpor...            false  \n",
              "610  ALERT: Luc Montagnier Did NOT Say Vaccine Woul...            false  \n",
              "611  Quebec’s cannabis, liquor stores to require co...            false  "
            ],
            "text/html": [
              "\n",
              "  <div id=\"df-3c6ae7a1-a6ce-4c66-8224-6655805d3edf\">\n",
              "    <div class=\"colab-df-container\">\n",
              "      <div>\n",
              "<style scoped>\n",
              "    .dataframe tbody tr th:only-of-type {\n",
              "        vertical-align: middle;\n",
              "    }\n",
              "\n",
              "    .dataframe tbody tr th {\n",
              "        vertical-align: top;\n",
              "    }\n",
              "\n",
              "    .dataframe thead th {\n",
              "        text-align: right;\n",
              "    }\n",
              "</style>\n",
              "<table border=\"1\" class=\"dataframe\">\n",
              "  <thead>\n",
              "    <tr style=\"text-align: right;\">\n",
              "      <th></th>\n",
              "      <th>ID</th>\n",
              "      <th>text</th>\n",
              "      <th>title</th>\n",
              "      <th>predicted_rating</th>\n",
              "    </tr>\n",
              "  </thead>\n",
              "  <tbody>\n",
              "    <tr>\n",
              "      <th>602</th>\n",
              "      <td>147575044263640448705296981827539520951</td>\n",
              "      <td>Turkish land forces have advanced into Syria t...</td>\n",
              "      <td>Turkey Steps Up Offensive Against Syrian Kurdi...</td>\n",
              "      <td>partially false</td>\n",
              "    </tr>\n",
              "    <tr>\n",
              "      <th>603</th>\n",
              "      <td>226286523808954494317699147543855854671</td>\n",
              "      <td>Queens state Sen. Jose Peralta suffered sudden...</td>\n",
              "      <td>New York State Senator Jose Peralta’s cause of...</td>\n",
              "      <td>false</td>\n",
              "    </tr>\n",
              "    <tr>\n",
              "      <th>604</th>\n",
              "      <td>138479109015113776387811964986651898271</td>\n",
              "      <td>As news and misinformation about the COVID-19 ...</td>\n",
              "      <td>Nearly three-in-ten Americans believe COVID-19...</td>\n",
              "      <td>false</td>\n",
              "    </tr>\n",
              "    <tr>\n",
              "      <th>605</th>\n",
              "      <td>55125174276315764619221784966218263337</td>\n",
              "      <td>SLIM MARGIN: A new survey shows slightly more ...</td>\n",
              "      <td>New Polling Shows More Australians Want Scott ...</td>\n",
              "      <td>false</td>\n",
              "    </tr>\n",
              "    <tr>\n",
              "      <th>606</th>\n",
              "      <td>270077888906743054673881300019061126049</td>\n",
              "      <td>Health Minister Christian Dubé hopes the measu...</td>\n",
              "      <td>Quebec's liquor and cannabis stores will requi...</td>\n",
              "      <td>partially false</td>\n",
              "    </tr>\n",
              "    <tr>\n",
              "      <th>607</th>\n",
              "      <td>206921579192720402152220292846254137866</td>\n",
              "      <td>DISTRIBUTE TO EVERYONE who does not want to be...</td>\n",
              "      <td>‘From October 20, the Covid pass and vaccinati...</td>\n",
              "      <td>false</td>\n",
              "    </tr>\n",
              "    <tr>\n",
              "      <th>608</th>\n",
              "      <td>26464356958085668535128110139955868781</td>\n",
              "      <td>The physician who served as Bill Gates’ privat...</td>\n",
              "      <td>Bill Gates' Former Doctor Says He 'Refused To ...</td>\n",
              "      <td>false</td>\n",
              "    </tr>\n",
              "    <tr>\n",
              "      <th>609</th>\n",
              "      <td>189700315351432315169761694613833047445</td>\n",
              "      <td>A customer leaves an SAQ outlet on Jan. 6, the...</td>\n",
              "      <td>Quebec’s expansion of COVID-19 vaccine passpor...</td>\n",
              "      <td>false</td>\n",
              "    </tr>\n",
              "    <tr>\n",
              "      <th>610</th>\n",
              "      <td>188373492569049166266633359075598402208</td>\n",
              "      <td>Vaccine coercion activists are using the fake ...</td>\n",
              "      <td>ALERT: Luc Montagnier Did NOT Say Vaccine Woul...</td>\n",
              "      <td>false</td>\n",
              "    </tr>\n",
              "    <tr>\n",
              "      <th>611</th>\n",
              "      <td>337277576050638215330059360481185892501</td>\n",
              "      <td>Placeholder while article actions load  Quebec...</td>\n",
              "      <td>Quebec’s cannabis, liquor stores to require co...</td>\n",
              "      <td>false</td>\n",
              "    </tr>\n",
              "  </tbody>\n",
              "</table>\n",
              "</div>\n",
              "      <button class=\"colab-df-convert\" onclick=\"convertToInteractive('df-3c6ae7a1-a6ce-4c66-8224-6655805d3edf')\"\n",
              "              title=\"Convert this dataframe to an interactive table.\"\n",
              "              style=\"display:none;\">\n",
              "        \n",
              "  <svg xmlns=\"http://www.w3.org/2000/svg\" height=\"24px\"viewBox=\"0 0 24 24\"\n",
              "       width=\"24px\">\n",
              "    <path d=\"M0 0h24v24H0V0z\" fill=\"none\"/>\n",
              "    <path d=\"M18.56 5.44l.94 2.06.94-2.06 2.06-.94-2.06-.94-.94-2.06-.94 2.06-2.06.94zm-11 1L8.5 8.5l.94-2.06 2.06-.94-2.06-.94L8.5 2.5l-.94 2.06-2.06.94zm10 10l.94 2.06.94-2.06 2.06-.94-2.06-.94-.94-2.06-.94 2.06-2.06.94z\"/><path d=\"M17.41 7.96l-1.37-1.37c-.4-.4-.92-.59-1.43-.59-.52 0-1.04.2-1.43.59L10.3 9.45l-7.72 7.72c-.78.78-.78 2.05 0 2.83L4 21.41c.39.39.9.59 1.41.59.51 0 1.02-.2 1.41-.59l7.78-7.78 2.81-2.81c.8-.78.8-2.07 0-2.86zM5.41 20L4 18.59l7.72-7.72 1.47 1.35L5.41 20z\"/>\n",
              "  </svg>\n",
              "      </button>\n",
              "      \n",
              "  <style>\n",
              "    .colab-df-container {\n",
              "      display:flex;\n",
              "      flex-wrap:wrap;\n",
              "      gap: 12px;\n",
              "    }\n",
              "\n",
              "    .colab-df-convert {\n",
              "      background-color: #E8F0FE;\n",
              "      border: none;\n",
              "      border-radius: 50%;\n",
              "      cursor: pointer;\n",
              "      display: none;\n",
              "      fill: #1967D2;\n",
              "      height: 32px;\n",
              "      padding: 0 0 0 0;\n",
              "      width: 32px;\n",
              "    }\n",
              "\n",
              "    .colab-df-convert:hover {\n",
              "      background-color: #E2EBFA;\n",
              "      box-shadow: 0px 1px 2px rgba(60, 64, 67, 0.3), 0px 1px 3px 1px rgba(60, 64, 67, 0.15);\n",
              "      fill: #174EA6;\n",
              "    }\n",
              "\n",
              "    [theme=dark] .colab-df-convert {\n",
              "      background-color: #3B4455;\n",
              "      fill: #D2E3FC;\n",
              "    }\n",
              "\n",
              "    [theme=dark] .colab-df-convert:hover {\n",
              "      background-color: #434B5C;\n",
              "      box-shadow: 0px 1px 3px 1px rgba(0, 0, 0, 0.15);\n",
              "      filter: drop-shadow(0px 1px 2px rgba(0, 0, 0, 0.3));\n",
              "      fill: #FFFFFF;\n",
              "    }\n",
              "  </style>\n",
              "\n",
              "      <script>\n",
              "        const buttonEl =\n",
              "          document.querySelector('#df-3c6ae7a1-a6ce-4c66-8224-6655805d3edf button.colab-df-convert');\n",
              "        buttonEl.style.display =\n",
              "          google.colab.kernel.accessAllowed ? 'block' : 'none';\n",
              "\n",
              "        async function convertToInteractive(key) {\n",
              "          const element = document.querySelector('#df-3c6ae7a1-a6ce-4c66-8224-6655805d3edf');\n",
              "          const dataTable =\n",
              "            await google.colab.kernel.invokeFunction('convertToInteractive',\n",
              "                                                     [key], {});\n",
              "          if (!dataTable) return;\n",
              "\n",
              "          const docLinkHtml = 'Like what you see? Visit the ' +\n",
              "            '<a target=\"_blank\" href=https://colab.research.google.com/notebooks/data_table.ipynb>data table notebook</a>'\n",
              "            + ' to learn more about interactive tables.';\n",
              "          element.innerHTML = '';\n",
              "          dataTable['output_type'] = 'display_data';\n",
              "          await google.colab.output.renderOutput(dataTable, element);\n",
              "          const docLink = document.createElement('div');\n",
              "          docLink.innerHTML = docLinkHtml;\n",
              "          element.appendChild(docLink);\n",
              "        }\n",
              "      </script>\n",
              "    </div>\n",
              "  </div>\n",
              "  "
            ]
          },
          "metadata": {},
          "execution_count": 220
        }
      ]
    },
    {
      "cell_type": "code",
      "source": [
        "!rm -rf /content/subtask3_english_DIU_SpeedOut.zip /content/subtask3_english_DIU_SpeedOut.tsv\n",
        "teamName = 'DIU_SpeedOut'\n",
        "fileName = f'subtask3_english_{teamName}'\n",
        "df_raw.to_csv(f'{fileName}.tsv', sep='\\t', index=False)\n",
        "fileNameZip = f'{fileName}.zip'\n",
        "fileNameTsv = f'{fileName}.tsv'\n",
        "!zip $fileNameZip $fileNameTsv"
      ],
      "metadata": {
        "colab": {
          "base_uri": "https://localhost:8080/"
        },
        "outputId": "096c2360-f9e7-48a1-ec35-9818964fc4ff",
        "id": "-vBCDdf006qZ"
      },
      "execution_count": null,
      "outputs": [
        {
          "output_type": "stream",
          "name": "stdout",
          "text": [
            "  adding: subtask3_english_DIU_SpeedOut.tsv (deflated 64%)\n"
          ]
        }
      ]
    },
    {
      "cell_type": "markdown",
      "metadata": {
        "id": "ayq1gRuarde-"
      },
      "source": [
        "## Using word level tf-idf Features\n"
      ]
    },
    {
      "cell_type": "code",
      "metadata": {
        "id": "K8M50_G0rdYv"
      },
      "source": [
        "# word level tf-idf\n",
        "\n",
        "tfidf_vect = TfidfTransformer()\n",
        "xtrain_tfidf = tfidf_vect.fit_transform(xtrain_count)\n",
        "xtest_tfidf =  tfidf_vect.transform(xtest_count)\n",
        "\n",
        "tfidf_vect_full = TfidfTransformer()\n",
        "xfull_tfidf = tfidf_vect_full.fit_transform(xfull_count)\n",
        "xtest_tfidf_full =  tfidf_vect_full.transform(xtest_count_full)\n"
      ],
      "execution_count": null,
      "outputs": []
    },
    {
      "cell_type": "markdown",
      "metadata": {
        "id": "c63zphOgSrBu"
      },
      "source": [
        "### Logistic regression"
      ]
    },
    {
      "cell_type": "markdown",
      "source": [
        "#### Model"
      ],
      "metadata": {
        "id": "OikKt1t5zFi7"
      }
    },
    {
      "cell_type": "code",
      "metadata": {
        "id": "HrpAum1fSuln"
      },
      "source": [
        "lr = linear_model.LogisticRegression(C=100.0, class_weight=None, dual=False, fit_intercept=True,\n",
        "                   intercept_scaling=1, l1_ratio=None, max_iter=100,\n",
        "                   multi_class='auto', n_jobs=None, penalty='l2',\n",
        "                   random_state=None, solver='liblinear', tol=0.0001, verbose=0,\n",
        "                   warm_start=False)\n",
        "lr.fit(xtrain_tfidf, y_train)\n",
        "y_preds = lr.predict(xtest_tfidf)"
      ],
      "execution_count": null,
      "outputs": []
    },
    {
      "cell_type": "code",
      "metadata": {
        "id": "iVlsAzi_TVUF",
        "outputId": "56730e2a-b4d6-40a8-d760-fdfb6a52b17b",
        "colab": {
          "base_uri": "https://localhost:8080/",
          "height": 766
        }
      },
      "source": [
        "print(accuracy_score(y_test,y_preds))\n",
        "print()\n",
        "\n",
        "# print(classification_report(y_test,y_preds))\n",
        "cf_matrix_7 =confusion_matrix(y_test,y_preds)\n",
        "# print(cf_matrix_7)\n",
        "# labels = ['True Neg','False Pos','False Neg','True Pos']\n",
        "# categories = ['REAL', 'FAKE']\n",
        "make_confusion_matrix(cf_matrix_7, \n",
        "                      group_names=labels,\n",
        "                      categories=categories, \n",
        "                      cmap='Blues',figsize=(5,5),cbar=False,title='Confusion Matrix: Logistic Reg on tf-idf (test-set)' )\n",
        "make_confusion_matrix(confusion_matrix(y_train,lr.predict(xtrain_tfidf)), \n",
        "                      group_names=labels,\n",
        "                      categories=categories, \n",
        "                      cmap='Blues',figsize=(5,5),cbar=False,title='Confusion Matrix: Logistic Reg on tf-idf (train-set)')"
      ],
      "execution_count": null,
      "outputs": [
        {
          "output_type": "stream",
          "name": "stdout",
          "text": [
            "0.6518987341772152\n",
            "\n"
          ]
        },
        {
          "output_type": "display_data",
          "data": {
            "text/plain": [
              "<Figure size 360x360 with 1 Axes>"
            ],
            "image/png": "[encoded data removed]"
          },
          "metadata": {
            "needs_background": "light"
          }
        },
        {
          "output_type": "display_data",
          "data": {
            "text/plain": [
              "<Figure size 360x360 with 1 Axes>"
            ],
            "image/png": "[encoded data removed]"
          },
          "metadata": {
            "needs_background": "light"
          }
        }
      ]
    },
    {
      "cell_type": "markdown",
      "source": [
        "#### Submission"
      ],
      "metadata": {
        "id": "Cx8TevSDyAcC"
      }
    },
    {
      "cell_type": "code",
      "source": [
        "df_raw = pd.read_csv('English_data_test_release.csv')\n",
        "\n",
        "df_raw_sub = df_raw\n",
        "\n",
        "# Using Count Vectorizer Features\n",
        "df_raw_sub_count = count_vect_full.transform(df_raw_sub['title'].replace(math.nan,' ') + ' ' + df_raw_sub['text'])\n",
        "\n",
        "# Using word level tf-idf Features\n",
        "df_raw_sub_tfidf = tfidf_vect_full.transform(df_raw_sub_count)\n"
      ],
      "metadata": {
        "id": "ej_IQc4VyAcD"
      },
      "execution_count": null,
      "outputs": []
    },
    {
      "cell_type": "code",
      "source": [
        "m = lr.predict(df_raw_sub_tfidf)"
      ],
      "metadata": {
        "id": "DmPxZrXfyAcM"
      },
      "execution_count": null,
      "outputs": []
    },
    {
      "cell_type": "code",
      "source": [
        "predict = []\n",
        "label = ['false', 'true', 'partially false', 'other']\n",
        "for p in m:\n",
        "  predict.append(label[p])\n",
        "df_raw['predicted_rating'] = predict"
      ],
      "metadata": {
        "id": "roUrpm8OyAcM"
      },
      "execution_count": null,
      "outputs": []
    },
    {
      "cell_type": "code",
      "source": [
        "df_raw"
      ],
      "metadata": {
        "colab": {
          "base_uri": "https://localhost:8080/",
          "height": 1000
        },
        "outputId": "6bcd7971-314c-45ba-9074-c5f7e679d489",
        "id": "NILDP6J2yAcN"
      },
      "execution_count": null,
      "outputs": [
        {
          "output_type": "execute_result",
          "data": {
            "text/plain": [
              "                                          ID  \\\n",
              "602  147575044263640448705296981827539520951   \n",
              "603  226286523808954494317699147543855854671   \n",
              "604  138479109015113776387811964986651898271   \n",
              "605   55125174276315764619221784966218263337   \n",
              "606  270077888906743054673881300019061126049   \n",
              "607  206921579192720402152220292846254137866   \n",
              "608   26464356958085668535128110139955868781   \n",
              "609  189700315351432315169761694613833047445   \n",
              "610  188373492569049166266633359075598402208   \n",
              "611  337277576050638215330059360481185892501   \n",
              "\n",
              "                                                  text  \\\n",
              "602  Turkish land forces have advanced into Syria t...   \n",
              "603  Queens state Sen. Jose Peralta suffered sudden...   \n",
              "604  As news and misinformation about the COVID-19 ...   \n",
              "605  SLIM MARGIN: A new survey shows slightly more ...   \n",
              "606  Health Minister Christian Dubé hopes the measu...   \n",
              "607  DISTRIBUTE TO EVERYONE who does not want to be...   \n",
              "608  The physician who served as Bill Gates’ privat...   \n",
              "609  A customer leaves an SAQ outlet on Jan. 6, the...   \n",
              "610  Vaccine coercion activists are using the fake ...   \n",
              "611  Placeholder while article actions load  Quebec...   \n",
              "\n",
              "                                                 title predicted_rating  \n",
              "602  Turkey Steps Up Offensive Against Syrian Kurdi...  partially false  \n",
              "603  New York State Senator Jose Peralta’s cause of...            false  \n",
              "604  Nearly three-in-ten Americans believe COVID-19...            false  \n",
              "605  New Polling Shows More Australians Want Scott ...            false  \n",
              "606  Quebec's liquor and cannabis stores will requi...  partially false  \n",
              "607  ‘From October 20, the Covid pass and vaccinati...            false  \n",
              "608  Bill Gates' Former Doctor Says He 'Refused To ...            false  \n",
              "609  Quebec’s expansion of COVID-19 vaccine passpor...            false  \n",
              "610  ALERT: Luc Montagnier Did NOT Say Vaccine Woul...            false  \n",
              "611  Quebec’s cannabis, liquor stores to require co...            false  "
            ],
            "text/html": [
              "\n",
              "  <div id=\"df-3c6ae7a1-a6ce-4c66-8224-6655805d3edf\">\n",
              "    <div class=\"colab-df-container\">\n",
              "      <div>\n",
              "<style scoped>\n",
              "    .dataframe tbody tr th:only-of-type {\n",
              "        vertical-align: middle;\n",
              "    }\n",
              "\n",
              "    .dataframe tbody tr th {\n",
              "        vertical-align: top;\n",
              "    }\n",
              "\n",
              "    .dataframe thead th {\n",
              "        text-align: right;\n",
              "    }\n",
              "</style>\n",
              "<table border=\"1\" class=\"dataframe\">\n",
              "  <thead>\n",
              "    <tr style=\"text-align: right;\">\n",
              "      <th></th>\n",
              "      <th>ID</th>\n",
              "      <th>text</th>\n",
              "      <th>title</th>\n",
              "      <th>predicted_rating</th>\n",
              "    </tr>\n",
              "  </thead>\n",
              "  <tbody>\n",
              "    <tr>\n",
              "      <th>602</th>\n",
              "      <td>147575044263640448705296981827539520951</td>\n",
              "      <td>Turkish land forces have advanced into Syria t...</td>\n",
              "      <td>Turkey Steps Up Offensive Against Syrian Kurdi...</td>\n",
              "      <td>partially false</td>\n",
              "    </tr>\n",
              "    <tr>\n",
              "      <th>603</th>\n",
              "      <td>226286523808954494317699147543855854671</td>\n",
              "      <td>Queens state Sen. Jose Peralta suffered sudden...</td>\n",
              "      <td>New York State Senator Jose Peralta’s cause of...</td>\n",
              "      <td>false</td>\n",
              "    </tr>\n",
              "    <tr>\n",
              "      <th>604</th>\n",
              "      <td>138479109015113776387811964986651898271</td>\n",
              "      <td>As news and misinformation about the COVID-19 ...</td>\n",
              "      <td>Nearly three-in-ten Americans believe COVID-19...</td>\n",
              "      <td>false</td>\n",
              "    </tr>\n",
              "    <tr>\n",
              "      <th>605</th>\n",
              "      <td>55125174276315764619221784966218263337</td>\n",
              "      <td>SLIM MARGIN: A new survey shows slightly more ...</td>\n",
              "      <td>New Polling Shows More Australians Want Scott ...</td>\n",
              "      <td>false</td>\n",
              "    </tr>\n",
              "    <tr>\n",
              "      <th>606</th>\n",
              "      <td>270077888906743054673881300019061126049</td>\n",
              "      <td>Health Minister Christian Dubé hopes the measu...</td>\n",
              "      <td>Quebec's liquor and cannabis stores will requi...</td>\n",
              "      <td>partially false</td>\n",
              "    </tr>\n",
              "    <tr>\n",
              "      <th>607</th>\n",
              "      <td>206921579192720402152220292846254137866</td>\n",
              "      <td>DISTRIBUTE TO EVERYONE who does not want to be...</td>\n",
              "      <td>‘From October 20, the Covid pass and vaccinati...</td>\n",
              "      <td>false</td>\n",
              "    </tr>\n",
              "    <tr>\n",
              "      <th>608</th>\n",
              "      <td>26464356958085668535128110139955868781</td>\n",
              "      <td>The physician who served as Bill Gates’ privat...</td>\n",
              "      <td>Bill Gates' Former Doctor Says He 'Refused To ...</td>\n",
              "      <td>false</td>\n",
              "    </tr>\n",
              "    <tr>\n",
              "      <th>609</th>\n",
              "      <td>189700315351432315169761694613833047445</td>\n",
              "      <td>A customer leaves an SAQ outlet on Jan. 6, the...</td>\n",
              "      <td>Quebec’s expansion of COVID-19 vaccine passpor...</td>\n",
              "      <td>false</td>\n",
              "    </tr>\n",
              "    <tr>\n",
              "      <th>610</th>\n",
              "      <td>188373492569049166266633359075598402208</td>\n",
              "      <td>Vaccine coercion activists are using the fake ...</td>\n",
              "      <td>ALERT: Luc Montagnier Did NOT Say Vaccine Woul...</td>\n",
              "      <td>false</td>\n",
              "    </tr>\n",
              "    <tr>\n",
              "      <th>611</th>\n",
              "      <td>337277576050638215330059360481185892501</td>\n",
              "      <td>Placeholder while article actions load  Quebec...</td>\n",
              "      <td>Quebec’s cannabis, liquor stores to require co...</td>\n",
              "      <td>false</td>\n",
              "    </tr>\n",
              "  </tbody>\n",
              "</table>\n",
              "</div>\n",
              "      <button class=\"colab-df-convert\" onclick=\"convertToInteractive('df-3c6ae7a1-a6ce-4c66-8224-6655805d3edf')\"\n",
              "              title=\"Convert this dataframe to an interactive table.\"\n",
              "              style=\"display:none;\">\n",
              "        \n",
              "  <svg xmlns=\"http://www.w3.org/2000/svg\" height=\"24px\"viewBox=\"0 0 24 24\"\n",
              "       width=\"24px\">\n",
              "    <path d=\"M0 0h24v24H0V0z\" fill=\"none\"/>\n",
              "    <path d=\"M18.56 5.44l.94 2.06.94-2.06 2.06-.94-2.06-.94-.94-2.06-.94 2.06-2.06.94zm-11 1L8.5 8.5l.94-2.06 2.06-.94-2.06-.94L8.5 2.5l-.94 2.06-2.06.94zm10 10l.94 2.06.94-2.06 2.06-.94-2.06-.94-.94-2.06-.94 2.06-2.06.94z\"/><path d=\"M17.41 7.96l-1.37-1.37c-.4-.4-.92-.59-1.43-.59-.52 0-1.04.2-1.43.59L10.3 9.45l-7.72 7.72c-.78.78-.78 2.05 0 2.83L4 21.41c.39.39.9.59 1.41.59.51 0 1.02-.2 1.41-.59l7.78-7.78 2.81-2.81c.8-.78.8-2.07 0-2.86zM5.41 20L4 18.59l7.72-7.72 1.47 1.35L5.41 20z\"/>\n",
              "  </svg>\n",
              "      </button>\n",
              "      \n",
              "  <style>\n",
              "    .colab-df-container {\n",
              "      display:flex;\n",
              "      flex-wrap:wrap;\n",
              "      gap: 12px;\n",
              "    }\n",
              "\n",
              "    .colab-df-convert {\n",
              "      background-color: #E8F0FE;\n",
              "      border: none;\n",
              "      border-radius: 50%;\n",
              "      cursor: pointer;\n",
              "      display: none;\n",
              "      fill: #1967D2;\n",
              "      height: 32px;\n",
              "      padding: 0 0 0 0;\n",
              "      width: 32px;\n",
              "    }\n",
              "\n",
              "    .colab-df-convert:hover {\n",
              "      background-color: #E2EBFA;\n",
              "      box-shadow: 0px 1px 2px rgba(60, 64, 67, 0.3), 0px 1px 3px 1px rgba(60, 64, 67, 0.15);\n",
              "      fill: #174EA6;\n",
              "    }\n",
              "\n",
              "    [theme=dark] .colab-df-convert {\n",
              "      background-color: #3B4455;\n",
              "      fill: #D2E3FC;\n",
              "    }\n",
              "\n",
              "    [theme=dark] .colab-df-convert:hover {\n",
              "      background-color: #434B5C;\n",
              "      box-shadow: 0px 1px 3px 1px rgba(0, 0, 0, 0.15);\n",
              "      filter: drop-shadow(0px 1px 2px rgba(0, 0, 0, 0.3));\n",
              "      fill: #FFFFFF;\n",
              "    }\n",
              "  </style>\n",
              "\n",
              "      <script>\n",
              "        const buttonEl =\n",
              "          document.querySelector('#df-3c6ae7a1-a6ce-4c66-8224-6655805d3edf button.colab-df-convert');\n",
              "        buttonEl.style.display =\n",
              "          google.colab.kernel.accessAllowed ? 'block' : 'none';\n",
              "\n",
              "        async function convertToInteractive(key) {\n",
              "          const element = document.querySelector('#df-3c6ae7a1-a6ce-4c66-8224-6655805d3edf');\n",
              "          const dataTable =\n",
              "            await google.colab.kernel.invokeFunction('convertToInteractive',\n",
              "                                                     [key], {});\n",
              "          if (!dataTable) return;\n",
              "\n",
              "          const docLinkHtml = 'Like what you see? Visit the ' +\n",
              "            '<a target=\"_blank\" href=https://colab.research.google.com/notebooks/data_table.ipynb>data table notebook</a>'\n",
              "            + ' to learn more about interactive tables.';\n",
              "          element.innerHTML = '';\n",
              "          dataTable['output_type'] = 'display_data';\n",
              "          await google.colab.output.renderOutput(dataTable, element);\n",
              "          const docLink = document.createElement('div');\n",
              "          docLink.innerHTML = docLinkHtml;\n",
              "          element.appendChild(docLink);\n",
              "        }\n",
              "      </script>\n",
              "    </div>\n",
              "  </div>\n",
              "  "
            ]
          },
          "metadata": {},
          "execution_count": 220
        }
      ]
    },
    {
      "cell_type": "code",
      "source": [
        "!rm -rf /content/subtask3_english_DIU_SpeedOut.zip /content/subtask3_english_DIU_SpeedOut.tsv\n",
        "teamName = 'DIU_SpeedOut'\n",
        "fileName = f'subtask3_english_{teamName}'\n",
        "df_raw.to_csv(f'{fileName}.tsv', sep='\\t', index=False)\n",
        "fileNameZip = f'{fileName}.zip'\n",
        "fileNameTsv = f'{fileName}.tsv'\n",
        "!zip $fileNameZip $fileNameTsv"
      ],
      "metadata": {
        "colab": {
          "base_uri": "https://localhost:8080/"
        },
        "outputId": "096c2360-f9e7-48a1-ec35-9818964fc4ff",
        "id": "-3QM74PbyAcO"
      },
      "execution_count": null,
      "outputs": [
        {
          "output_type": "stream",
          "name": "stdout",
          "text": [
            "  adding: subtask3_english_DIU_SpeedOut.tsv (deflated 64%)\n"
          ]
        }
      ]
    },
    {
      "cell_type": "markdown",
      "metadata": {
        "id": "A8K9BUt9zj-e"
      },
      "source": [
        "### SGD classifier"
      ]
    },
    {
      "cell_type": "markdown",
      "source": [
        "#### Model"
      ],
      "metadata": {
        "id": "TX4KhNG_xjFu"
      }
    },
    {
      "cell_type": "code",
      "metadata": {
        "id": "pkUwql6Jw-bM",
        "outputId": "30125def-5ab1-4224-ca64-e10a6d50c497",
        "colab": {
          "base_uri": "https://localhost:8080/",
          "height": 974
        }
      },
      "source": [
        "clf = SGDClassifier(random_state=42)\n",
        "clf.fit(xtrain_tfidf,y_train)\n",
        "y_preds = clf.predict(xtest_tfidf)\n",
        "print(accuracy_score(y_test,y_preds))\n",
        "print()\n",
        "print(classification_report(y_test,y_preds))\n",
        "cf_1 =confusion_matrix(y_test,y_preds)\n",
        "# print(cf_1)\n",
        "print()\n",
        "labels = ['True Neg','False Pos','False Neg','True Pos']\n",
        "categories = ['false','true', 'partially_false', 'other']\n",
        "make_confusion_matrix(cf_1, \n",
        "                      group_names=labels,\n",
        "                      categories=categories, \n",
        "                      cmap='Blues',figsize=(5,5),cbar=False,title='Confusion Matrix: SGD on tf-idf (test-set)')\n",
        "make_confusion_matrix(confusion_matrix(y_train,clf.predict(xtrain_tfidf)), \n",
        "                      group_names=labels,\n",
        "                      categories=categories, \n",
        "                      cmap='Blues',figsize=(5,5),cbar=False,title='Confusion Matrix: SGD on tf-idf (train-set)')"
      ],
      "execution_count": null,
      "outputs": [
        {
          "output_type": "stream",
          "name": "stdout",
          "text": [
            "0.6550632911392406\n",
            "\n",
            "              precision    recall  f1-score   support\n",
            "\n",
            "           0       0.70      0.88      0.78       141\n",
            "           1       0.63      0.44      0.52        59\n",
            "           2       0.61      0.58      0.59        90\n",
            "           3       0.42      0.19      0.26        26\n",
            "\n",
            "    accuracy                           0.66       316\n",
            "   macro avg       0.59      0.52      0.54       316\n",
            "weighted avg       0.64      0.66      0.63       316\n",
            "\n",
            "\n"
          ]
        },
        {
          "output_type": "display_data",
          "data": {
            "text/plain": [
              "<Figure size 360x360 with 1 Axes>"
            ],
            "image/png": "[encoded data removed]"
          },
          "metadata": {
            "needs_background": "light"
          }
        },
        {
          "output_type": "display_data",
          "data": {
            "text/plain": [
              "<Figure size 360x360 with 1 Axes>"
            ],
            "image/png": "[encoded data removed]"
          },
          "metadata": {
            "needs_background": "light"
          }
        }
      ]
    },
    {
      "cell_type": "markdown",
      "source": [
        "#### Submission"
      ],
      "metadata": {
        "id": "w2eubf3YxgQb"
      }
    },
    {
      "cell_type": "code",
      "source": [
        "df_raw = pd.read_csv('English_data_test_release.csv')\n",
        "\n",
        "df_raw_sub = df_raw\n",
        "\n",
        "# Using Count Vectorizer Features\n",
        "df_raw_sub_count = count_vect_full.transform(df_raw_sub['title'].replace(math.nan,' ') + ' ' + df_raw_sub['text'])\n",
        "\n",
        "# Using word level tf-idf Features\n",
        "df_raw_sub_tfidf = tfidf_vect_full.transform(df_raw_sub_count)\n"
      ],
      "metadata": {
        "id": "Y6gEBnIskr8b"
      },
      "execution_count": null,
      "outputs": []
    },
    {
      "cell_type": "code",
      "source": [
        "m = clf.predict(df_raw_sub_tfidf)"
      ],
      "metadata": {
        "id": "zvjc-_B_pMFl"
      },
      "execution_count": null,
      "outputs": []
    },
    {
      "cell_type": "code",
      "source": [
        "predict = []\n",
        "label = ['false', 'true', 'partially false', 'other']\n",
        "for p in m:\n",
        "  predict.append(label[p])\n",
        "df_raw['predicted_rating'] = predict"
      ],
      "metadata": {
        "id": "gnSk81Buuil4"
      },
      "execution_count": null,
      "outputs": []
    },
    {
      "cell_type": "code",
      "source": [
        "df_raw"
      ],
      "metadata": {
        "colab": {
          "base_uri": "https://localhost:8080/",
          "height": 1000
        },
        "id": "kTw8obSOvFIW",
        "outputId": "f876459a-bcd3-4ed3-d924-733ab52594ba"
      },
      "execution_count": null,
      "outputs": [
        {
          "output_type": "execute_result",
          "data": {
            "text/plain": [
              "                                          ID  \\\n",
              "0    122653045997905671927713471889615536378   \n",
              "1    275389285957305997321446227088442471741   \n",
              "2    333248764296609831067233855420575814716   \n",
              "3    264019763253447756851916399533799891538   \n",
              "4    158073737187690682830899773280916034317   \n",
              "..                                       ...   \n",
              "607  206921579192720402152220292846254137866   \n",
              "608   26464356958085668535128110139955868781   \n",
              "609  189700315351432315169761694613833047445   \n",
              "610  188373492569049166266633359075598402208   \n",
              "611  337277576050638215330059360481185892501   \n",
              "\n",
              "                                                  text  \\\n",
              "0    The deputy secretary at the US Treasury has sa...   \n",
              "1    KABUL—Approximately twelve minutes after U.S. ...   \n",
              "2    The vast majority of (oblivious) Americans hav...   \n",
              "3    (Natural News) There’s a secret layer of infor...   \n",
              "4    A recent study reported by the NCBI, which is ...   \n",
              "..                                                 ...   \n",
              "607  DISTRIBUTE TO EVERYONE who does not want to be...   \n",
              "608  The physician who served as Bill Gates’ privat...   \n",
              "609  A customer leaves an SAQ outlet on Jan. 6, the...   \n",
              "610  Vaccine coercion activists are using the fake ...   \n",
              "611  Placeholder while article actions load  Quebec...   \n",
              "\n",
              "                                                 title predicted_rating  \n",
              "0    US Treasury deputy sec warns that shortages li...            false  \n",
              "1    CNN Praises Taliban For Wearing Masks During A...            false  \n",
              "2    Tennessee Has Just LEGALIZED Government COVID ...            false  \n",
              "3    MEDICAL SHOCKER: Scientists at Sloan Kettering...            false  \n",
              "4    Study Results: Facemasks are Ineffective to Bl...  partially false  \n",
              "..                                                 ...              ...  \n",
              "607  ‘From October 20, the Covid pass and vaccinati...            false  \n",
              "608  Bill Gates' Former Doctor Says He 'Refused To ...            false  \n",
              "609  Quebec’s expansion of COVID-19 vaccine passpor...            false  \n",
              "610  ALERT: Luc Montagnier Did NOT Say Vaccine Woul...            false  \n",
              "611  Quebec’s cannabis, liquor stores to require co...  partially false  \n",
              "\n",
              "[612 rows x 4 columns]"
            ],
            "text/html": [
              "\n",
              "  <div id=\"df-ffe80343-7f23-4b03-bb33-af55cb75aa09\">\n",
              "    <div class=\"colab-df-container\">\n",
              "      <div>\n",
              "<style scoped>\n",
              "    .dataframe tbody tr th:only-of-type {\n",
              "        vertical-align: middle;\n",
              "    }\n",
              "\n",
              "    .dataframe tbody tr th {\n",
              "        vertical-align: top;\n",
              "    }\n",
              "\n",
              "    .dataframe thead th {\n",
              "        text-align: right;\n",
              "    }\n",
              "</style>\n",
              "<table border=\"1\" class=\"dataframe\">\n",
              "  <thead>\n",
              "    <tr style=\"text-align: right;\">\n",
              "      <th></th>\n",
              "      <th>ID</th>\n",
              "      <th>text</th>\n",
              "      <th>title</th>\n",
              "      <th>predicted_rating</th>\n",
              "    </tr>\n",
              "  </thead>\n",
              "  <tbody>\n",
              "    <tr>\n",
              "      <th>0</th>\n",
              "      <td>122653045997905671927713471889615536378</td>\n",
              "      <td>The deputy secretary at the US Treasury has sa...</td>\n",
              "      <td>US Treasury deputy sec warns that shortages li...</td>\n",
              "      <td>false</td>\n",
              "    </tr>\n",
              "    <tr>\n",
              "      <th>1</th>\n",
              "      <td>275389285957305997321446227088442471741</td>\n",
              "      <td>KABUL—Approximately twelve minutes after U.S. ...</td>\n",
              "      <td>CNN Praises Taliban For Wearing Masks During A...</td>\n",
              "      <td>false</td>\n",
              "    </tr>\n",
              "    <tr>\n",
              "      <th>2</th>\n",
              "      <td>333248764296609831067233855420575814716</td>\n",
              "      <td>The vast majority of (oblivious) Americans hav...</td>\n",
              "      <td>Tennessee Has Just LEGALIZED Government COVID ...</td>\n",
              "      <td>false</td>\n",
              "    </tr>\n",
              "    <tr>\n",
              "      <th>3</th>\n",
              "      <td>264019763253447756851916399533799891538</td>\n",
              "      <td>(Natural News) There’s a secret layer of infor...</td>\n",
              "      <td>MEDICAL SHOCKER: Scientists at Sloan Kettering...</td>\n",
              "      <td>false</td>\n",
              "    </tr>\n",
              "    <tr>\n",
              "      <th>4</th>\n",
              "      <td>158073737187690682830899773280916034317</td>\n",
              "      <td>A recent study reported by the NCBI, which is ...</td>\n",
              "      <td>Study Results: Facemasks are Ineffective to Bl...</td>\n",
              "      <td>partially false</td>\n",
              "    </tr>\n",
              "    <tr>\n",
              "      <th>...</th>\n",
              "      <td>...</td>\n",
              "      <td>...</td>\n",
              "      <td>...</td>\n",
              "      <td>...</td>\n",
              "    </tr>\n",
              "    <tr>\n",
              "      <th>607</th>\n",
              "      <td>206921579192720402152220292846254137866</td>\n",
              "      <td>DISTRIBUTE TO EVERYONE who does not want to be...</td>\n",
              "      <td>‘From October 20, the Covid pass and vaccinati...</td>\n",
              "      <td>false</td>\n",
              "    </tr>\n",
              "    <tr>\n",
              "      <th>608</th>\n",
              "      <td>26464356958085668535128110139955868781</td>\n",
              "      <td>The physician who served as Bill Gates’ privat...</td>\n",
              "      <td>Bill Gates' Former Doctor Says He 'Refused To ...</td>\n",
              "      <td>false</td>\n",
              "    </tr>\n",
              "    <tr>\n",
              "      <th>609</th>\n",
              "      <td>189700315351432315169761694613833047445</td>\n",
              "      <td>A customer leaves an SAQ outlet on Jan. 6, the...</td>\n",
              "      <td>Quebec’s expansion of COVID-19 vaccine passpor...</td>\n",
              "      <td>false</td>\n",
              "    </tr>\n",
              "    <tr>\n",
              "      <th>610</th>\n",
              "      <td>188373492569049166266633359075598402208</td>\n",
              "      <td>Vaccine coercion activists are using the fake ...</td>\n",
              "      <td>ALERT: Luc Montagnier Did NOT Say Vaccine Woul...</td>\n",
              "      <td>false</td>\n",
              "    </tr>\n",
              "    <tr>\n",
              "      <th>611</th>\n",
              "      <td>337277576050638215330059360481185892501</td>\n",
              "      <td>Placeholder while article actions load  Quebec...</td>\n",
              "      <td>Quebec’s cannabis, liquor stores to require co...</td>\n",
              "      <td>partially false</td>\n",
              "    </tr>\n",
              "  </tbody>\n",
              "</table>\n",
              "<p>612 rows × 4 columns</p>\n",
              "</div>\n",
              "      <button class=\"colab-df-convert\" onclick=\"convertToInteractive('df-ffe80343-7f23-4b03-bb33-af55cb75aa09')\"\n",
              "              title=\"Convert this dataframe to an interactive table.\"\n",
              "              style=\"display:none;\">\n",
              "        \n",
              "  <svg xmlns=\"http://www.w3.org/2000/svg\" height=\"24px\"viewBox=\"0 0 24 24\"\n",
              "       width=\"24px\">\n",
              "    <path d=\"M0 0h24v24H0V0z\" fill=\"none\"/>\n",
              "    <path d=\"M18.56 5.44l.94 2.06.94-2.06 2.06-.94-2.06-.94-.94-2.06-.94 2.06-2.06.94zm-11 1L8.5 8.5l.94-2.06 2.06-.94-2.06-.94L8.5 2.5l-.94 2.06-2.06.94zm10 10l.94 2.06.94-2.06 2.06-.94-2.06-.94-.94-2.06-.94 2.06-2.06.94z\"/><path d=\"M17.41 7.96l-1.37-1.37c-.4-.4-.92-.59-1.43-.59-.52 0-1.04.2-1.43.59L10.3 9.45l-7.72 7.72c-.78.78-.78 2.05 0 2.83L4 21.41c.39.39.9.59 1.41.59.51 0 1.02-.2 1.41-.59l7.78-7.78 2.81-2.81c.8-.78.8-2.07 0-2.86zM5.41 20L4 18.59l7.72-7.72 1.47 1.35L5.41 20z\"/>\n",
              "  </svg>\n",
              "      </button>\n",
              "      \n",
              "  <style>\n",
              "    .colab-df-container {\n",
              "      display:flex;\n",
              "      flex-wrap:wrap;\n",
              "      gap: 12px;\n",
              "    }\n",
              "\n",
              "    .colab-df-convert {\n",
              "      background-color: #E8F0FE;\n",
              "      border: none;\n",
              "      border-radius: 50%;\n",
              "      cursor: pointer;\n",
              "      display: none;\n",
              "      fill: #1967D2;\n",
              "      height: 32px;\n",
              "      padding: 0 0 0 0;\n",
              "      width: 32px;\n",
              "    }\n",
              "\n",
              "    .colab-df-convert:hover {\n",
              "      background-color: #E2EBFA;\n",
              "      box-shadow: 0px 1px 2px rgba(60, 64, 67, 0.3), 0px 1px 3px 1px rgba(60, 64, 67, 0.15);\n",
              "      fill: #174EA6;\n",
              "    }\n",
              "\n",
              "    [theme=dark] .colab-df-convert {\n",
              "      background-color: #3B4455;\n",
              "      fill: #D2E3FC;\n",
              "    }\n",
              "\n",
              "    [theme=dark] .colab-df-convert:hover {\n",
              "      background-color: #434B5C;\n",
              "      box-shadow: 0px 1px 3px 1px rgba(0, 0, 0, 0.15);\n",
              "      filter: drop-shadow(0px 1px 2px rgba(0, 0, 0, 0.3));\n",
              "      fill: #FFFFFF;\n",
              "    }\n",
              "  </style>\n",
              "\n",
              "      <script>\n",
              "        const buttonEl =\n",
              "          document.querySelector('#df-ffe80343-7f23-4b03-bb33-af55cb75aa09 button.colab-df-convert');\n",
              "        buttonEl.style.display =\n",
              "          google.colab.kernel.accessAllowed ? 'block' : 'none';\n",
              "\n",
              "        async function convertToInteractive(key) {\n",
              "          const element = document.querySelector('#df-ffe80343-7f23-4b03-bb33-af55cb75aa09');\n",
              "          const dataTable =\n",
              "            await google.colab.kernel.invokeFunction('convertToInteractive',\n",
              "                                                     [key], {});\n",
              "          if (!dataTable) return;\n",
              "\n",
              "          const docLinkHtml = 'Like what you see? Visit the ' +\n",
              "            '<a target=\"_blank\" href=https://colab.research.google.com/notebooks/data_table.ipynb>data table notebook</a>'\n",
              "            + ' to learn more about interactive tables.';\n",
              "          element.innerHTML = '';\n",
              "          dataTable['output_type'] = 'display_data';\n",
              "          await google.colab.output.renderOutput(dataTable, element);\n",
              "          const docLink = document.createElement('div');\n",
              "          docLink.innerHTML = docLinkHtml;\n",
              "          element.appendChild(docLink);\n",
              "        }\n",
              "      </script>\n",
              "    </div>\n",
              "  </div>\n",
              "  "
            ]
          },
          "metadata": {},
          "execution_count": 211
        }
      ]
    },
    {
      "cell_type": "code",
      "source": [
        "!rm -rf /content/subtask3_english_DIU_SpeedOut.zip /content/subtask3_english_DIU_SpeedOut.tsv\n",
        "teamName = 'DIU_SpeedOut'\n",
        "fileName = f'subtask3_english_{teamName}'\n",
        "df_raw.to_csv(f'{fileName}.tsv', sep='\\t', index=False)\n",
        "fileNameZip = f'{fileName}.zip'\n",
        "fileNameTsv = f'{fileName}.tsv'\n",
        "!zip $fileNameZip $fileNameTsv"
      ],
      "metadata": {
        "colab": {
          "base_uri": "https://localhost:8080/"
        },
        "id": "2-xFqhbwvNNa",
        "outputId": "9d157017-883d-4c4d-dc52-3f542c839137"
      },
      "execution_count": null,
      "outputs": [
        {
          "output_type": "stream",
          "name": "stdout",
          "text": [
            "  adding: subtask3_english_DIU_SpeedOut.tsv (deflated 64%)\n"
          ]
        }
      ]
    }
  ]
}